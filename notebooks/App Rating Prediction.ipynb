{
 "cells": [
  {
   "cell_type": "markdown",
   "id": "033adf15-aa3b-4746-b137-91658bdd887f",
   "metadata": {},
   "source": [
    "# APP PREDICTION - PROJECT"
   ]
  },
  {
   "cell_type": "markdown",
   "id": "729f2121",
   "metadata": {},
   "source": [
    "use case/condition - 1st of oct. -> your exam -> 30 questions "
   ]
  },
  {
   "cell_type": "markdown",
   "id": "357b136e",
   "metadata": {},
   "source": [
    "100 questions - training questions or learning questions -> training dataset"
   ]
  },
  {
   "cell_type": "markdown",
   "id": "aa6e2914",
   "metadata": {},
   "source": [
    "100 -> 70 and 30 -> spliting our training dataset into train and test dataset\n",
    "\n",
    "70 -> qus. and ans. -> 2 days -> learning has been done -> model training or learning"
   ]
  },
  {
   "cell_type": "markdown",
   "id": "b4e59e03",
   "metadata": {},
   "source": [
    "30 -> questions -> trying to predict the answers this questions -> 30 predicted_ans -> predicting the ans from the model that you trained"
   ]
  },
  {
   "cell_type": "markdown",
   "id": "5e96335c",
   "metadata": {},
   "source": [
    "compare 30 -> actual answers with your predictec_ans -> calculating accuray with the predicted and actual ans."
   ]
  },
  {
   "cell_type": "markdown",
   "id": "b5aa9ab7",
   "metadata": {
    "ExecuteTime": {
     "end_time": "2022-09-25T06:11:55.683561Z",
     "start_time": "2022-09-25T06:11:55.677976Z"
    }
   },
   "source": [
    "single variable - null value, missing values, outliers, var, std, mean, median, mode, distribution\n",
    "\n",
    "correlation between target variable and other features \n",
    "\n",
    "correlation between every feature columns\n",
    "\n",
    "skewness of the columns"
   ]
  },
  {
   "cell_type": "markdown",
   "id": "f823cbb7",
   "metadata": {
    "ExecuteTime": {
     "end_time": "2022-09-25T06:11:56.412462Z",
     "start_time": "2022-09-25T06:11:56.407515Z"
    }
   },
   "source": [
    "univariate analysis \n",
    "\n",
    "bivariate analysis\n",
    "\n",
    "min and max value of every column\n",
    "\n",
    "multivariate analysis\n",
    "\n",
    "iqr and lower band and upper band outliers\n"
   ]
  },
  {
   "cell_type": "markdown",
   "id": "06fbe6c3",
   "metadata": {},
   "source": [
    "numerical and caterogrical \n",
    "\n",
    "numerical two variables or relationship -> scatter plot, \n",
    "\n",
    "numerical single variables -> box plot, frequency or bar graph, histogram\n",
    "\n",
    "caterogrical sinlge -> pie chart, histogram, frequency or bar graph, box plot, wordcloud\n",
    "\n",
    "correlation -> heatmap "
   ]
  },
  {
   "cell_type": "code",
   "execution_count": null,
   "id": "08dcc66e",
   "metadata": {},
   "outputs": [],
   "source": [
    "# supervised learning algorithms -> label present\n",
    "\n",
    "# regression -> target or output is continuos data values -> 213,121,31212\n",
    "# classification -> target or output is discreat data values -> class or 0 or 1 or 2 "
   ]
  },
  {
   "cell_type": "code",
   "execution_count": null,
   "id": "6ec80abd",
   "metadata": {},
   "outputs": [],
   "source": [
    "\n",
    "# housing price prediction problem -> target is price column and other are features \n",
    "\n",
    "# output = target = label = result = depedent variable = the value which you have to predict \n",
    "\n",
    "# features = independent variables = data = all are the features "
   ]
  },
  {
   "cell_type": "code",
   "execution_count": 212,
   "id": "dcb19fa6",
   "metadata": {
    "ExecuteTime": {
     "end_time": "2022-09-11T06:57:40.864905Z",
     "start_time": "2022-09-11T06:57:40.856989Z"
    }
   },
   "outputs": [],
   "source": [
    "# 0. find the dependent variables and independent variables \n",
    "# 1. descriptive  analysis\n",
    "# 2. data preprocessing or data cleaning\n",
    "# 3. data visulization\n",
    "# 4. feature engineering (scaling and importance of feature with the help of correlation matrix and graph)\n",
    "# 5. spearate both variables in different dataframes\n",
    "# 6. scaling then training or model building\n",
    "# 7. prediction\n",
    "# 8. result analysis or evalution of results from the model\n",
    "# 9. deployment of ml model"
   ]
  },
  {
   "cell_type": "code",
   "execution_count": 169,
   "id": "4bce4e38",
   "metadata": {
    "ExecuteTime": {
     "end_time": "2022-09-25T06:26:39.170011Z",
     "start_time": "2022-09-25T06:26:39.165809Z"
    }
   },
   "outputs": [],
   "source": [
    "# regression -> linear regression, lasso regression, polynomial regression, ridge regression, l1 regression and l2 regression, SVR\n",
    "# classificatoin -> logistic regression, SVM, naive bais, knn\n",
    "\n",
    "# cart -> decision tree, random forest, neural network (deep learning)\n",
    "\n",
    "# accuracy analysis - https://scikit-learn.org/stable/modules/model_evaluation.html"
   ]
  },
  {
   "cell_type": "code",
   "execution_count": 179,
   "id": "d0f88b50",
   "metadata": {
    "ExecuteTime": {
     "end_time": "2022-09-25T06:34:39.073872Z",
     "start_time": "2022-09-25T06:34:39.069361Z"
    },
    "code_folding": []
   },
   "outputs": [],
   "source": [
    "# methods to remove the skewness\n",
    "# log transform\n",
    "# square root\n",
    "# square\n",
    "# cube root\n",
    "# boxcox\n",
    "\n",
    "# https://towardsdatascience.com/top-3-methods-for-handling-skewed-data-1334e0debf45\n",
    "# https://opendatascience.com/transforming-skewed-data-for-machine-learning/\n",
    "# https://reinec.medium.com/my-notes-handling-skewed-data-5984de303725"
   ]
  },
  {
   "cell_type": "code",
   "execution_count": 180,
   "id": "ca1a8be0",
   "metadata": {
    "ExecuteTime": {
     "end_time": "2022-09-25T06:34:39.511632Z",
     "start_time": "2022-09-25T06:34:39.507359Z"
    }
   },
   "outputs": [],
   "source": [
    "# methods to remove the oultiers\n",
    "\n",
    "# remove from the dataset\n",
    "# use decision tree or random forest algorithms bcz they can handle outliers \n",
    "\n",
    "# https://medium.com/analytics-vidhya/outlier-treatment-9bbe87384d02\n",
    "# https://www.analyticsvidhya.com/blog/2021/05/detecting-and-treating-outliers-treating-the-odd-one-out/"
   ]
  },
  {
   "cell_type": "code",
   "execution_count": 176,
   "id": "bd083a7d",
   "metadata": {
    "ExecuteTime": {
     "end_time": "2022-09-25T06:34:08.525594Z",
     "start_time": "2022-09-25T06:34:08.520347Z"
    }
   },
   "outputs": [],
   "source": [
    "# methods to remove the null or missing or nan values\n",
    "\n",
    "# replace with mean, median, mode\n",
    "# remove the missing rows or values\n",
    "# replace with 0 or 1\n",
    "# build predictive model \n"
   ]
  },
  {
   "cell_type": "code",
   "execution_count": 178,
   "id": "722254b6",
   "metadata": {
    "ExecuteTime": {
     "end_time": "2022-09-25T06:34:33.191046Z",
     "start_time": "2022-09-25T06:34:33.185074Z"
    }
   },
   "outputs": [],
   "source": [
    "# scaling of the dataset columns\n",
    "\n",
    "# normlization \n",
    "# standartlization"
   ]
  },
  {
   "cell_type": "code",
   "execution_count": 2,
   "id": "b601994f-85c2-41bc-ab4d-9746aedb60c8",
   "metadata": {
    "ExecuteTime": {
     "end_time": "2022-09-24T16:17:44.673759Z",
     "start_time": "2022-09-24T16:17:44.666868Z"
    }
   },
   "outputs": [],
   "source": [
    "#import libraries\n",
    "import pandas as pd\n",
    "import numpy as np\n",
    "import matplotlib.pyplot as plt\n",
    "import seaborn as sns"
   ]
  },
  {
   "cell_type": "markdown",
   "id": "9c0d512a-6514-4b52-818c-28a5044fde5c",
   "metadata": {},
   "source": [
    "### 1.Load the data file using pandas. "
   ]
  },
  {
   "cell_type": "code",
   "execution_count": 156,
   "id": "3f98be09-1b2f-4d02-b827-5f386a8fecc9",
   "metadata": {
    "ExecuteTime": {
     "end_time": "2022-09-25T05:59:55.550565Z",
     "start_time": "2022-09-25T05:59:55.503899Z"
    }
   },
   "outputs": [],
   "source": [
    "df=pd.read_csv('googleplaystore.csv')"
   ]
  },
  {
   "cell_type": "code",
   "execution_count": 157,
   "id": "cff8925c-f224-48c4-8be5-57f4334dc534",
   "metadata": {
    "ExecuteTime": {
     "end_time": "2022-09-25T05:59:56.136894Z",
     "start_time": "2022-09-25T05:59:56.116777Z"
    }
   },
   "outputs": [
    {
     "data": {
      "text/html": [
       "<div>\n",
       "<style scoped>\n",
       "    .dataframe tbody tr th:only-of-type {\n",
       "        vertical-align: middle;\n",
       "    }\n",
       "\n",
       "    .dataframe tbody tr th {\n",
       "        vertical-align: top;\n",
       "    }\n",
       "\n",
       "    .dataframe thead th {\n",
       "        text-align: right;\n",
       "    }\n",
       "</style>\n",
       "<table border=\"1\" class=\"dataframe\">\n",
       "  <thead>\n",
       "    <tr style=\"text-align: right;\">\n",
       "      <th></th>\n",
       "      <th>App</th>\n",
       "      <th>Category</th>\n",
       "      <th>Rating</th>\n",
       "      <th>Reviews</th>\n",
       "      <th>Size</th>\n",
       "      <th>Installs</th>\n",
       "      <th>Type</th>\n",
       "      <th>Price</th>\n",
       "      <th>Content Rating</th>\n",
       "      <th>Genres</th>\n",
       "      <th>Last Updated</th>\n",
       "      <th>Current Ver</th>\n",
       "      <th>Android Ver</th>\n",
       "    </tr>\n",
       "  </thead>\n",
       "  <tbody>\n",
       "    <tr>\n",
       "      <th>0</th>\n",
       "      <td>Photo Editor &amp; Candy Camera &amp; Grid &amp; ScrapBook</td>\n",
       "      <td>ART_AND_DESIGN</td>\n",
       "      <td>4.1</td>\n",
       "      <td>159</td>\n",
       "      <td>19M</td>\n",
       "      <td>10,000+</td>\n",
       "      <td>Free</td>\n",
       "      <td>0</td>\n",
       "      <td>Everyone</td>\n",
       "      <td>Art &amp; Design</td>\n",
       "      <td>January 7, 2018</td>\n",
       "      <td>1.0.0</td>\n",
       "      <td>4.0.3 and up</td>\n",
       "    </tr>\n",
       "    <tr>\n",
       "      <th>1</th>\n",
       "      <td>Coloring book moana</td>\n",
       "      <td>ART_AND_DESIGN</td>\n",
       "      <td>3.9</td>\n",
       "      <td>967</td>\n",
       "      <td>14M</td>\n",
       "      <td>500,000+</td>\n",
       "      <td>Free</td>\n",
       "      <td>0</td>\n",
       "      <td>Everyone</td>\n",
       "      <td>Art &amp; Design;Pretend Play</td>\n",
       "      <td>January 15, 2018</td>\n",
       "      <td>2.0.0</td>\n",
       "      <td>4.0.3 and up</td>\n",
       "    </tr>\n",
       "    <tr>\n",
       "      <th>2</th>\n",
       "      <td>U Launcher Lite – FREE Live Cool Themes, Hide ...</td>\n",
       "      <td>ART_AND_DESIGN</td>\n",
       "      <td>4.7</td>\n",
       "      <td>87510</td>\n",
       "      <td>8.7M</td>\n",
       "      <td>5,000,000+</td>\n",
       "      <td>Free</td>\n",
       "      <td>0</td>\n",
       "      <td>Everyone</td>\n",
       "      <td>Art &amp; Design</td>\n",
       "      <td>August 1, 2018</td>\n",
       "      <td>1.2.4</td>\n",
       "      <td>4.0.3 and up</td>\n",
       "    </tr>\n",
       "    <tr>\n",
       "      <th>3</th>\n",
       "      <td>Sketch - Draw &amp; Paint</td>\n",
       "      <td>ART_AND_DESIGN</td>\n",
       "      <td>4.5</td>\n",
       "      <td>215644</td>\n",
       "      <td>25M</td>\n",
       "      <td>50,000,000+</td>\n",
       "      <td>Free</td>\n",
       "      <td>0</td>\n",
       "      <td>Teen</td>\n",
       "      <td>Art &amp; Design</td>\n",
       "      <td>June 8, 2018</td>\n",
       "      <td>Varies with device</td>\n",
       "      <td>4.2 and up</td>\n",
       "    </tr>\n",
       "    <tr>\n",
       "      <th>4</th>\n",
       "      <td>Pixel Draw - Number Art Coloring Book</td>\n",
       "      <td>ART_AND_DESIGN</td>\n",
       "      <td>4.3</td>\n",
       "      <td>967</td>\n",
       "      <td>2.8M</td>\n",
       "      <td>100,000+</td>\n",
       "      <td>Free</td>\n",
       "      <td>0</td>\n",
       "      <td>Everyone</td>\n",
       "      <td>Art &amp; Design;Creativity</td>\n",
       "      <td>June 20, 2018</td>\n",
       "      <td>1.1</td>\n",
       "      <td>4.4 and up</td>\n",
       "    </tr>\n",
       "  </tbody>\n",
       "</table>\n",
       "</div>"
      ],
      "text/plain": [
       "                                                 App        Category  Rating  \\\n",
       "0     Photo Editor & Candy Camera & Grid & ScrapBook  ART_AND_DESIGN     4.1   \n",
       "1                                Coloring book moana  ART_AND_DESIGN     3.9   \n",
       "2  U Launcher Lite – FREE Live Cool Themes, Hide ...  ART_AND_DESIGN     4.7   \n",
       "3                              Sketch - Draw & Paint  ART_AND_DESIGN     4.5   \n",
       "4              Pixel Draw - Number Art Coloring Book  ART_AND_DESIGN     4.3   \n",
       "\n",
       "  Reviews  Size     Installs  Type Price Content Rating  \\\n",
       "0     159   19M      10,000+  Free     0       Everyone   \n",
       "1     967   14M     500,000+  Free     0       Everyone   \n",
       "2   87510  8.7M   5,000,000+  Free     0       Everyone   \n",
       "3  215644   25M  50,000,000+  Free     0           Teen   \n",
       "4     967  2.8M     100,000+  Free     0       Everyone   \n",
       "\n",
       "                      Genres      Last Updated         Current Ver  \\\n",
       "0               Art & Design   January 7, 2018               1.0.0   \n",
       "1  Art & Design;Pretend Play  January 15, 2018               2.0.0   \n",
       "2               Art & Design    August 1, 2018               1.2.4   \n",
       "3               Art & Design      June 8, 2018  Varies with device   \n",
       "4    Art & Design;Creativity     June 20, 2018                 1.1   \n",
       "\n",
       "    Android Ver  \n",
       "0  4.0.3 and up  \n",
       "1  4.0.3 and up  \n",
       "2  4.0.3 and up  \n",
       "3    4.2 and up  \n",
       "4    4.4 and up  "
      ]
     },
     "execution_count": 157,
     "metadata": {},
     "output_type": "execute_result"
    }
   ],
   "source": [
    "df.head()\n"
   ]
  },
  {
   "cell_type": "markdown",
   "id": "90f5cbfb-5525-4058-9ef9-9209d06c1d28",
   "metadata": {},
   "source": [
    "### 2.Check for null values in the data. Get the number of null values for each column."
   ]
  },
  {
   "cell_type": "code",
   "execution_count": 158,
   "id": "602583e5-c79a-429e-b805-a29f196144a8",
   "metadata": {
    "ExecuteTime": {
     "end_time": "2022-09-25T06:00:03.601392Z",
     "start_time": "2022-09-25T06:00:03.571497Z"
    }
   },
   "outputs": [
    {
     "data": {
      "text/plain": [
       "App                  0\n",
       "Category             0\n",
       "Rating            1474\n",
       "Reviews              0\n",
       "Size                 0\n",
       "Installs             0\n",
       "Type                 1\n",
       "Price                0\n",
       "Content Rating       1\n",
       "Genres               0\n",
       "Last Updated         0\n",
       "Current Ver          8\n",
       "Android Ver          3\n",
       "dtype: int64"
      ]
     },
     "execution_count": 158,
     "metadata": {},
     "output_type": "execute_result"
    }
   ],
   "source": [
    "df.isnull().sum()"
   ]
  },
  {
   "cell_type": "markdown",
   "id": "4be9d3f1-fa72-4897-abcd-4513140b7f33",
   "metadata": {},
   "source": [
    "### 3.Drop records with nulls in any of the columns. "
   ]
  },
  {
   "cell_type": "code",
   "execution_count": 159,
   "id": "1f937ff6-759a-4d10-94dd-e8bc38318e4e",
   "metadata": {
    "ExecuteTime": {
     "end_time": "2022-09-25T06:00:10.047188Z",
     "start_time": "2022-09-25T06:00:10.020957Z"
    }
   },
   "outputs": [],
   "source": [
    "df.dropna(inplace=True)"
   ]
  },
  {
   "cell_type": "code",
   "execution_count": 160,
   "id": "4d1dcaba-8fa2-43be-9ade-84615e3ed703",
   "metadata": {
    "ExecuteTime": {
     "end_time": "2022-09-25T06:00:10.986926Z",
     "start_time": "2022-09-25T06:00:10.953709Z"
    }
   },
   "outputs": [
    {
     "data": {
      "text/plain": [
       "App               0\n",
       "Category          0\n",
       "Rating            0\n",
       "Reviews           0\n",
       "Size              0\n",
       "Installs          0\n",
       "Type              0\n",
       "Price             0\n",
       "Content Rating    0\n",
       "Genres            0\n",
       "Last Updated      0\n",
       "Current Ver       0\n",
       "Android Ver       0\n",
       "dtype: int64"
      ]
     },
     "execution_count": 160,
     "metadata": {},
     "output_type": "execute_result"
    }
   ],
   "source": [
    "df.isnull().sum()"
   ]
  },
  {
   "cell_type": "code",
   "execution_count": 161,
   "id": "77abb394-4e31-493d-9cb1-1ce167b5550e",
   "metadata": {
    "ExecuteTime": {
     "end_time": "2022-09-25T06:00:12.654619Z",
     "start_time": "2022-09-25T06:00:12.620625Z"
    }
   },
   "outputs": [
    {
     "name": "stdout",
     "output_type": "stream",
     "text": [
      "<class 'pandas.core.frame.DataFrame'>\n",
      "Int64Index: 9360 entries, 0 to 10840\n",
      "Data columns (total 13 columns):\n",
      " #   Column          Non-Null Count  Dtype  \n",
      "---  ------          --------------  -----  \n",
      " 0   App             9360 non-null   object \n",
      " 1   Category        9360 non-null   object \n",
      " 2   Rating          9360 non-null   float64\n",
      " 3   Reviews         9360 non-null   object \n",
      " 4   Size            9360 non-null   object \n",
      " 5   Installs        9360 non-null   object \n",
      " 6   Type            9360 non-null   object \n",
      " 7   Price           9360 non-null   object \n",
      " 8   Content Rating  9360 non-null   object \n",
      " 9   Genres          9360 non-null   object \n",
      " 10  Last Updated    9360 non-null   object \n",
      " 11  Current Ver     9360 non-null   object \n",
      " 12  Android Ver     9360 non-null   object \n",
      "dtypes: float64(1), object(12)\n",
      "memory usage: 1023.8+ KB\n"
     ]
    }
   ],
   "source": [
    "df.info()"
   ]
  },
  {
   "cell_type": "markdown",
   "id": "a6432c1e-8502-4e8f-a4fa-f4396b6e60bd",
   "metadata": {},
   "source": [
    "### 4.1 Variables seem to have incorrect type and inconsistent formatting. You need to fix them: \n",
    "\n",
    "        a.Size column has sizes in Kb as well as Mb. To analyze, you’ll need to convert these to numeric.\n",
    "\n",
    "        b.Extract the numeric value from the column\n",
    "\n",
    "        c.Multiply the value by 1,000, if size is mentioned in Mb"
   ]
  },
  {
   "cell_type": "code",
   "execution_count": 9,
   "id": "1ea97373-076c-4b9e-9715-81ffda51a87f",
   "metadata": {
    "ExecuteTime": {
     "end_time": "2022-09-24T16:18:29.968484Z",
     "start_time": "2022-09-24T16:18:29.956419Z"
    }
   },
   "outputs": [
    {
     "data": {
      "text/plain": [
       "array(['19M', '14M', '8.7M', '25M', '2.8M', '5.6M', '29M', '33M', '3.1M',\n",
       "       '28M', '12M', '20M', '21M', '37M', '5.5M', '17M', '39M', '31M',\n",
       "       '4.2M', '23M', '6.0M', '6.1M', '4.6M', '9.2M', '5.2M', '11M',\n",
       "       '24M', 'Varies with device', '9.4M', '15M', '10M', '1.2M', '26M',\n",
       "       '8.0M', '7.9M', '56M', '57M', '35M', '54M', '201k', '3.6M', '5.7M',\n",
       "       '8.6M', '2.4M', '27M', '2.7M', '2.5M', '7.0M', '16M', '3.4M',\n",
       "       '8.9M', '3.9M', '2.9M', '38M', '32M', '5.4M', '18M', '1.1M',\n",
       "       '2.2M', '4.5M', '9.8M', '52M', '9.0M', '6.7M', '30M', '2.6M',\n",
       "       '7.1M', '22M', '6.4M', '3.2M', '8.2M', '4.9M', '9.5M', '5.0M',\n",
       "       '5.9M', '13M', '73M', '6.8M', '3.5M', '4.0M', '2.3M', '2.1M',\n",
       "       '42M', '9.1M', '55M', '23k', '7.3M', '6.5M', '1.5M', '7.5M', '51M',\n",
       "       '41M', '48M', '8.5M', '46M', '8.3M', '4.3M', '4.7M', '3.3M', '40M',\n",
       "       '7.8M', '8.8M', '6.6M', '5.1M', '61M', '66M', '79k', '8.4M',\n",
       "       '3.7M', '118k', '44M', '695k', '1.6M', '6.2M', '53M', '1.4M',\n",
       "       '3.0M', '7.2M', '5.8M', '3.8M', '9.6M', '45M', '63M', '49M', '77M',\n",
       "       '4.4M', '70M', '9.3M', '8.1M', '36M', '6.9M', '7.4M', '84M', '97M',\n",
       "       '2.0M', '1.9M', '1.8M', '5.3M', '47M', '556k', '526k', '76M',\n",
       "       '7.6M', '59M', '9.7M', '78M', '72M', '43M', '7.7M', '6.3M', '334k',\n",
       "       '93M', '65M', '79M', '100M', '58M', '50M', '68M', '64M', '34M',\n",
       "       '67M', '60M', '94M', '9.9M', '232k', '99M', '624k', '95M', '8.5k',\n",
       "       '41k', '292k', '80M', '1.7M', '10.0M', '74M', '62M', '69M', '75M',\n",
       "       '98M', '85M', '82M', '96M', '87M', '71M', '86M', '91M', '81M',\n",
       "       '92M', '83M', '88M', '704k', '862k', '899k', '378k', '4.8M',\n",
       "       '266k', '375k', '1.3M', '975k', '980k', '4.1M', '89M', '696k',\n",
       "       '544k', '525k', '920k', '779k', '853k', '720k', '713k', '772k',\n",
       "       '318k', '58k', '241k', '196k', '857k', '51k', '953k', '865k',\n",
       "       '251k', '930k', '540k', '313k', '746k', '203k', '26k', '314k',\n",
       "       '239k', '371k', '220k', '730k', '756k', '91k', '293k', '17k',\n",
       "       '74k', '14k', '317k', '78k', '924k', '818k', '81k', '939k', '169k',\n",
       "       '45k', '965k', '90M', '545k', '61k', '283k', '655k', '714k', '93k',\n",
       "       '872k', '121k', '322k', '976k', '206k', '954k', '444k', '717k',\n",
       "       '210k', '609k', '308k', '306k', '175k', '350k', '383k', '454k',\n",
       "       '1.0M', '70k', '812k', '442k', '842k', '417k', '412k', '459k',\n",
       "       '478k', '335k', '782k', '721k', '430k', '429k', '192k', '460k',\n",
       "       '728k', '496k', '816k', '414k', '506k', '887k', '613k', '778k',\n",
       "       '683k', '592k', '186k', '840k', '647k', '373k', '437k', '598k',\n",
       "       '716k', '585k', '982k', '219k', '55k', '323k', '691k', '511k',\n",
       "       '951k', '963k', '25k', '554k', '351k', '27k', '82k', '208k',\n",
       "       '551k', '29k', '103k', '116k', '153k', '209k', '499k', '173k',\n",
       "       '597k', '809k', '122k', '411k', '400k', '801k', '787k', '50k',\n",
       "       '643k', '986k', '516k', '837k', '780k', '20k', '498k', '600k',\n",
       "       '656k', '221k', '228k', '176k', '34k', '259k', '164k', '458k',\n",
       "       '629k', '28k', '288k', '775k', '785k', '636k', '916k', '994k',\n",
       "       '309k', '485k', '914k', '903k', '608k', '500k', '54k', '562k',\n",
       "       '847k', '948k', '811k', '270k', '48k', '523k', '784k', '280k',\n",
       "       '24k', '892k', '154k', '18k', '33k', '860k', '364k', '387k',\n",
       "       '626k', '161k', '879k', '39k', '170k', '141k', '160k', '144k',\n",
       "       '143k', '190k', '376k', '193k', '473k', '246k', '73k', '253k',\n",
       "       '957k', '420k', '72k', '404k', '470k', '226k', '240k', '89k',\n",
       "       '234k', '257k', '861k', '467k', '676k', '552k', '582k', '619k'],\n",
       "      dtype=object)"
      ]
     },
     "execution_count": 9,
     "metadata": {},
     "output_type": "execute_result"
    }
   ],
   "source": [
    "df['Size'].unique()"
   ]
  },
  {
   "cell_type": "code",
   "execution_count": 10,
   "id": "474d11bf-8f00-491a-a581-63dc744dfcf1",
   "metadata": {
    "ExecuteTime": {
     "end_time": "2022-09-24T16:18:33.040046Z",
     "start_time": "2022-09-24T16:18:33.029063Z"
    }
   },
   "outputs": [],
   "source": [
    "# replace M with blanc and multiply by 1000\n",
    "df.iloc[:,4]=df.iloc[:,4].apply(lambda x:float(str(x).replace('M',''))*1000 if 'M' in str(x) else x)"
   ]
  },
  {
   "cell_type": "code",
   "execution_count": 11,
   "id": "c00b44fb-4812-49c5-b046-5a02269961e9",
   "metadata": {
    "ExecuteTime": {
     "end_time": "2022-09-24T16:18:33.425346Z",
     "start_time": "2022-09-24T16:18:33.418206Z"
    }
   },
   "outputs": [
    {
     "data": {
      "text/plain": [
       "0                   19000.0\n",
       "1                   14000.0\n",
       "2                    8700.0\n",
       "3                   25000.0\n",
       "4                    2800.0\n",
       "                ...        \n",
       "10834                2600.0\n",
       "10836               53000.0\n",
       "10837                3600.0\n",
       "10839    Varies with device\n",
       "10840               19000.0\n",
       "Name: Size, Length: 9360, dtype: object"
      ]
     },
     "execution_count": 11,
     "metadata": {},
     "output_type": "execute_result"
    }
   ],
   "source": [
    "df.iloc[:,4]"
   ]
  },
  {
   "cell_type": "code",
   "execution_count": 12,
   "id": "40e9f363-ad27-4ab8-a9d9-a0e766302734",
   "metadata": {
    "ExecuteTime": {
     "end_time": "2022-09-24T16:18:33.852452Z",
     "start_time": "2022-09-24T16:18:33.842676Z"
    }
   },
   "outputs": [],
   "source": [
    "df.iloc[:,4]=df.iloc[:,4].apply(lambda x:float(str(x).replace(\"k\",\" \")) if \"k\" in str(x) else x)"
   ]
  },
  {
   "cell_type": "code",
   "execution_count": 13,
   "id": "33384bde-0c98-4932-ad50-85e33c6708ff",
   "metadata": {
    "ExecuteTime": {
     "end_time": "2022-09-24T16:18:34.260338Z",
     "start_time": "2022-09-24T16:18:34.249849Z"
    }
   },
   "outputs": [
    {
     "data": {
      "text/plain": [
       "0                   19000.0\n",
       "1                   14000.0\n",
       "2                    8700.0\n",
       "3                   25000.0\n",
       "4                    2800.0\n",
       "                ...        \n",
       "10834                2600.0\n",
       "10836               53000.0\n",
       "10837                3600.0\n",
       "10839    Varies with device\n",
       "10840               19000.0\n",
       "Name: Size, Length: 9360, dtype: object"
      ]
     },
     "execution_count": 13,
     "metadata": {},
     "output_type": "execute_result"
    }
   ],
   "source": [
    "df.iloc[:,4]"
   ]
  },
  {
   "cell_type": "code",
   "execution_count": null,
   "id": "bb006831",
   "metadata": {},
   "outputs": [],
   "source": []
  },
  {
   "cell_type": "code",
   "execution_count": 14,
   "id": "d928caec-5058-410e-8331-55543d85b14a",
   "metadata": {
    "ExecuteTime": {
     "end_time": "2022-09-24T16:18:36.849673Z",
     "start_time": "2022-09-24T16:18:36.842334Z"
    }
   },
   "outputs": [
    {
     "data": {
      "text/plain": [
       "array([19000.0, 14000.0, 8700.0, 25000.0, 2800.0, 5600.0, 29000.0,\n",
       "       33000.0, 3100.0, 28000.0, 12000.0, 20000.0, 21000.0, 37000.0,\n",
       "       5500.0, 17000.0, 39000.0, 31000.0, 4200.0, 23000.0, 6000.0, 6100.0,\n",
       "       4600.0, 9200.0, 5200.0, 11000.0, 24000.0, 'Varies with device',\n",
       "       9400.0, 15000.0, 10000.0, 1200.0, 26000.0, 8000.0, 7900.0, 56000.0,\n",
       "       57000.0, 35000.0, 54000.0, 201.0, 3600.0, 5700.0, 8600.0, 2400.0,\n",
       "       27000.0, 2700.0, 2500.0, 7000.0, 16000.0, 3400.0, 8900.0, 3900.0,\n",
       "       2900.0, 38000.0, 32000.0, 5400.0, 18000.0, 1100.0, 2200.0, 4500.0,\n",
       "       9800.0, 52000.0, 9000.0, 6700.0, 30000.0, 2600.0, 7100.0, 22000.0,\n",
       "       6400.0, 3200.0, 8200.0, 4900.0, 9500.0, 5000.0, 5900.0, 13000.0,\n",
       "       73000.0, 6800.0, 3500.0, 4000.0, 2300.0, 2100.0, 42000.0, 9100.0,\n",
       "       55000.0, 23.0, 7300.0, 6500.0, 1500.0, 7500.0, 51000.0, 41000.0,\n",
       "       48000.0, 8500.0, 46000.0, 8300.0, 4300.0, 4700.0, 3300.0, 40000.0,\n",
       "       7800.0, 8800.0, 6600.0, 5100.0, 61000.0, 66000.0, 79.0, 8400.0,\n",
       "       3700.0, 118.0, 44000.0, 695.0, 1600.0, 6200.0, 53000.0, 1400.0,\n",
       "       3000.0, 7200.0, 5800.0, 3800.0, 9600.0, 45000.0, 63000.0, 49000.0,\n",
       "       77000.0, 4400.0, 70000.0, 9300.0, 8100.0, 36000.0, 6900.0, 7400.0,\n",
       "       84000.0, 97000.0, 2000.0, 1900.0, 1800.0, 5300.0, 47000.0, 556.0,\n",
       "       526.0, 76000.0, 7600.0, 59000.0, 9700.0, 78000.0, 72000.0, 43000.0,\n",
       "       7700.0, 6300.0, 334.0, 93000.0, 65000.0, 79000.0, 100000.0,\n",
       "       58000.0, 50000.0, 68000.0, 64000.0, 34000.0, 67000.0, 60000.0,\n",
       "       94000.0, 9900.0, 232.0, 99000.0, 624.0, 95000.0, 8.5, 41.0, 292.0,\n",
       "       80000.0, 1700.0, 74000.0, 62000.0, 69000.0, 75000.0, 98000.0,\n",
       "       85000.0, 82000.0, 96000.0, 87000.0, 71000.0, 86000.0, 91000.0,\n",
       "       81000.0, 92000.0, 83000.0, 88000.0, 704.0, 862.0, 899.0, 378.0,\n",
       "       4800.0, 266.0, 375.0, 1300.0, 975.0, 980.0, 4100.0, 89000.0, 696.0,\n",
       "       544.0, 525.0, 920.0, 779.0, 853.0, 720.0, 713.0, 772.0, 318.0,\n",
       "       58.0, 241.0, 196.0, 857.0, 51.0, 953.0, 865.0, 251.0, 930.0, 540.0,\n",
       "       313.0, 746.0, 203.0, 26.0, 314.0, 239.0, 371.0, 220.0, 730.0,\n",
       "       756.0, 91.0, 293.0, 17.0, 74.0, 14.0, 317.0, 78.0, 924.0, 818.0,\n",
       "       81.0, 939.0, 169.0, 45.0, 965.0, 90000.0, 545.0, 61.0, 283.0,\n",
       "       655.0, 714.0, 93.0, 872.0, 121.0, 322.0, 976.0, 206.0, 954.0,\n",
       "       444.0, 717.0, 210.0, 609.0, 308.0, 306.0, 175.0, 350.0, 383.0,\n",
       "       454.0, 1000.0, 70.0, 812.0, 442.0, 842.0, 417.0, 412.0, 459.0,\n",
       "       478.0, 335.0, 782.0, 721.0, 430.0, 429.0, 192.0, 460.0, 728.0,\n",
       "       496.0, 816.0, 414.0, 506.0, 887.0, 613.0, 778.0, 683.0, 592.0,\n",
       "       186.0, 840.0, 647.0, 373.0, 437.0, 598.0, 716.0, 585.0, 982.0,\n",
       "       219.0, 55.0, 323.0, 691.0, 511.0, 951.0, 963.0, 25.0, 554.0, 351.0,\n",
       "       27.0, 82.0, 208.0, 551.0, 29.0, 103.0, 116.0, 153.0, 209.0, 499.0,\n",
       "       173.0, 597.0, 809.0, 122.0, 411.0, 400.0, 801.0, 787.0, 50.0,\n",
       "       643.0, 986.0, 516.0, 837.0, 780.0, 20.0, 498.0, 600.0, 656.0,\n",
       "       221.0, 228.0, 176.0, 34.0, 259.0, 164.0, 458.0, 629.0, 28.0, 288.0,\n",
       "       775.0, 785.0, 636.0, 916.0, 994.0, 309.0, 485.0, 914.0, 903.0,\n",
       "       608.0, 500.0, 54.0, 562.0, 847.0, 948.0, 811.0, 270.0, 48.0, 523.0,\n",
       "       784.0, 280.0, 24.0, 892.0, 154.0, 18.0, 33.0, 860.0, 364.0, 387.0,\n",
       "       626.0, 161.0, 879.0, 39.0, 170.0, 141.0, 160.0, 144.0, 143.0,\n",
       "       190.0, 376.0, 193.0, 473.0, 246.0, 73.0, 253.0, 957.0, 420.0, 72.0,\n",
       "       404.0, 470.0, 226.0, 240.0, 89.0, 234.0, 257.0, 861.0, 467.0,\n",
       "       676.0, 552.0, 582.0, 619.0], dtype=object)"
      ]
     },
     "execution_count": 14,
     "metadata": {},
     "output_type": "execute_result"
    }
   ],
   "source": [
    "df['Size'].unique()"
   ]
  },
  {
   "cell_type": "code",
   "execution_count": 15,
   "id": "4594206a-151b-455d-aa76-5c5ade9cb725",
   "metadata": {
    "ExecuteTime": {
     "end_time": "2022-09-24T16:18:39.543006Z",
     "start_time": "2022-09-24T16:18:39.528435Z"
    }
   },
   "outputs": [],
   "source": [
    "df.iloc[:,4]=df.iloc[:,4].apply(lambda x:float(str(x).replace(\"Varies with device\",\"0\")) if \"Varies with device\" in str(x) else x)"
   ]
  },
  {
   "cell_type": "code",
   "execution_count": 16,
   "id": "09424f9c-b4b8-4c7e-af00-13cf8e43f5ee",
   "metadata": {
    "ExecuteTime": {
     "end_time": "2022-09-24T16:18:40.506782Z",
     "start_time": "2022-09-24T16:18:40.483836Z"
    }
   },
   "outputs": [
    {
     "data": {
      "text/plain": [
       "array([1.90e+04, 1.40e+04, 8.70e+03, 2.50e+04, 2.80e+03, 5.60e+03,\n",
       "       2.90e+04, 3.30e+04, 3.10e+03, 2.80e+04, 1.20e+04, 2.00e+04,\n",
       "       2.10e+04, 3.70e+04, 5.50e+03, 1.70e+04, 3.90e+04, 3.10e+04,\n",
       "       4.20e+03, 2.30e+04, 6.00e+03, 6.10e+03, 4.60e+03, 9.20e+03,\n",
       "       5.20e+03, 1.10e+04, 2.40e+04, 0.00e+00, 9.40e+03, 1.50e+04,\n",
       "       1.00e+04, 1.20e+03, 2.60e+04, 8.00e+03, 7.90e+03, 5.60e+04,\n",
       "       5.70e+04, 3.50e+04, 5.40e+04, 2.01e+02, 3.60e+03, 5.70e+03,\n",
       "       8.60e+03, 2.40e+03, 2.70e+04, 2.70e+03, 2.50e+03, 7.00e+03,\n",
       "       1.60e+04, 3.40e+03, 8.90e+03, 3.90e+03, 2.90e+03, 3.80e+04,\n",
       "       3.20e+04, 5.40e+03, 1.80e+04, 1.10e+03, 2.20e+03, 4.50e+03,\n",
       "       9.80e+03, 5.20e+04, 9.00e+03, 6.70e+03, 3.00e+04, 2.60e+03,\n",
       "       7.10e+03, 2.20e+04, 6.40e+03, 3.20e+03, 8.20e+03, 4.90e+03,\n",
       "       9.50e+03, 5.00e+03, 5.90e+03, 1.30e+04, 7.30e+04, 6.80e+03,\n",
       "       3.50e+03, 4.00e+03, 2.30e+03, 2.10e+03, 4.20e+04, 9.10e+03,\n",
       "       5.50e+04, 2.30e+01, 7.30e+03, 6.50e+03, 1.50e+03, 7.50e+03,\n",
       "       5.10e+04, 4.10e+04, 4.80e+04, 8.50e+03, 4.60e+04, 8.30e+03,\n",
       "       4.30e+03, 4.70e+03, 3.30e+03, 4.00e+04, 7.80e+03, 8.80e+03,\n",
       "       6.60e+03, 5.10e+03, 6.10e+04, 6.60e+04, 7.90e+01, 8.40e+03,\n",
       "       3.70e+03, 1.18e+02, 4.40e+04, 6.95e+02, 1.60e+03, 6.20e+03,\n",
       "       5.30e+04, 1.40e+03, 3.00e+03, 7.20e+03, 5.80e+03, 3.80e+03,\n",
       "       9.60e+03, 4.50e+04, 6.30e+04, 4.90e+04, 7.70e+04, 4.40e+03,\n",
       "       7.00e+04, 9.30e+03, 8.10e+03, 3.60e+04, 6.90e+03, 7.40e+03,\n",
       "       8.40e+04, 9.70e+04, 2.00e+03, 1.90e+03, 1.80e+03, 5.30e+03,\n",
       "       4.70e+04, 5.56e+02, 5.26e+02, 7.60e+04, 7.60e+03, 5.90e+04,\n",
       "       9.70e+03, 7.80e+04, 7.20e+04, 4.30e+04, 7.70e+03, 6.30e+03,\n",
       "       3.34e+02, 9.30e+04, 6.50e+04, 7.90e+04, 1.00e+05, 5.80e+04,\n",
       "       5.00e+04, 6.80e+04, 6.40e+04, 3.40e+04, 6.70e+04, 6.00e+04,\n",
       "       9.40e+04, 9.90e+03, 2.32e+02, 9.90e+04, 6.24e+02, 9.50e+04,\n",
       "       8.50e+00, 4.10e+01, 2.92e+02, 8.00e+04, 1.70e+03, 7.40e+04,\n",
       "       6.20e+04, 6.90e+04, 7.50e+04, 9.80e+04, 8.50e+04, 8.20e+04,\n",
       "       9.60e+04, 8.70e+04, 7.10e+04, 8.60e+04, 9.10e+04, 8.10e+04,\n",
       "       9.20e+04, 8.30e+04, 8.80e+04, 7.04e+02, 8.62e+02, 8.99e+02,\n",
       "       3.78e+02, 4.80e+03, 2.66e+02, 3.75e+02, 1.30e+03, 9.75e+02,\n",
       "       9.80e+02, 4.10e+03, 8.90e+04, 6.96e+02, 5.44e+02, 5.25e+02,\n",
       "       9.20e+02, 7.79e+02, 8.53e+02, 7.20e+02, 7.13e+02, 7.72e+02,\n",
       "       3.18e+02, 5.80e+01, 2.41e+02, 1.96e+02, 8.57e+02, 5.10e+01,\n",
       "       9.53e+02, 8.65e+02, 2.51e+02, 9.30e+02, 5.40e+02, 3.13e+02,\n",
       "       7.46e+02, 2.03e+02, 2.60e+01, 3.14e+02, 2.39e+02, 3.71e+02,\n",
       "       2.20e+02, 7.30e+02, 7.56e+02, 9.10e+01, 2.93e+02, 1.70e+01,\n",
       "       7.40e+01, 1.40e+01, 3.17e+02, 7.80e+01, 9.24e+02, 8.18e+02,\n",
       "       8.10e+01, 9.39e+02, 1.69e+02, 4.50e+01, 9.65e+02, 9.00e+04,\n",
       "       5.45e+02, 6.10e+01, 2.83e+02, 6.55e+02, 7.14e+02, 9.30e+01,\n",
       "       8.72e+02, 1.21e+02, 3.22e+02, 9.76e+02, 2.06e+02, 9.54e+02,\n",
       "       4.44e+02, 7.17e+02, 2.10e+02, 6.09e+02, 3.08e+02, 3.06e+02,\n",
       "       1.75e+02, 3.50e+02, 3.83e+02, 4.54e+02, 1.00e+03, 7.00e+01,\n",
       "       8.12e+02, 4.42e+02, 8.42e+02, 4.17e+02, 4.12e+02, 4.59e+02,\n",
       "       4.78e+02, 3.35e+02, 7.82e+02, 7.21e+02, 4.30e+02, 4.29e+02,\n",
       "       1.92e+02, 4.60e+02, 7.28e+02, 4.96e+02, 8.16e+02, 4.14e+02,\n",
       "       5.06e+02, 8.87e+02, 6.13e+02, 7.78e+02, 6.83e+02, 5.92e+02,\n",
       "       1.86e+02, 8.40e+02, 6.47e+02, 3.73e+02, 4.37e+02, 5.98e+02,\n",
       "       7.16e+02, 5.85e+02, 9.82e+02, 2.19e+02, 5.50e+01, 3.23e+02,\n",
       "       6.91e+02, 5.11e+02, 9.51e+02, 9.63e+02, 2.50e+01, 5.54e+02,\n",
       "       3.51e+02, 2.70e+01, 8.20e+01, 2.08e+02, 5.51e+02, 2.90e+01,\n",
       "       1.03e+02, 1.16e+02, 1.53e+02, 2.09e+02, 4.99e+02, 1.73e+02,\n",
       "       5.97e+02, 8.09e+02, 1.22e+02, 4.11e+02, 4.00e+02, 8.01e+02,\n",
       "       7.87e+02, 5.00e+01, 6.43e+02, 9.86e+02, 5.16e+02, 8.37e+02,\n",
       "       7.80e+02, 2.00e+01, 4.98e+02, 6.00e+02, 6.56e+02, 2.21e+02,\n",
       "       2.28e+02, 1.76e+02, 3.40e+01, 2.59e+02, 1.64e+02, 4.58e+02,\n",
       "       6.29e+02, 2.80e+01, 2.88e+02, 7.75e+02, 7.85e+02, 6.36e+02,\n",
       "       9.16e+02, 9.94e+02, 3.09e+02, 4.85e+02, 9.14e+02, 9.03e+02,\n",
       "       6.08e+02, 5.00e+02, 5.40e+01, 5.62e+02, 8.47e+02, 9.48e+02,\n",
       "       8.11e+02, 2.70e+02, 4.80e+01, 5.23e+02, 7.84e+02, 2.80e+02,\n",
       "       2.40e+01, 8.92e+02, 1.54e+02, 1.80e+01, 3.30e+01, 8.60e+02,\n",
       "       3.64e+02, 3.87e+02, 6.26e+02, 1.61e+02, 8.79e+02, 3.90e+01,\n",
       "       1.70e+02, 1.41e+02, 1.60e+02, 1.44e+02, 1.43e+02, 1.90e+02,\n",
       "       3.76e+02, 1.93e+02, 4.73e+02, 2.46e+02, 7.30e+01, 2.53e+02,\n",
       "       9.57e+02, 4.20e+02, 7.20e+01, 4.04e+02, 4.70e+02, 2.26e+02,\n",
       "       2.40e+02, 8.90e+01, 2.34e+02, 2.57e+02, 8.61e+02, 4.67e+02,\n",
       "       6.76e+02, 5.52e+02, 5.82e+02, 6.19e+02])"
      ]
     },
     "execution_count": 16,
     "metadata": {},
     "output_type": "execute_result"
    }
   ],
   "source": [
    "df['Size'].unique()"
   ]
  },
  {
   "cell_type": "markdown",
   "id": "229c24f9-d950-4e01-9e96-45b63570d0bd",
   "metadata": {},
   "source": [
    "### 4.2 Reviews is a numeric field that is loaded as a string field. Convert it to numeric (int/float)."
   ]
  },
  {
   "cell_type": "code",
   "execution_count": 17,
   "id": "169b974e-a229-4a1b-8a86-dbe23816ca26",
   "metadata": {
    "ExecuteTime": {
     "end_time": "2022-09-24T16:19:05.368567Z",
     "start_time": "2022-09-24T16:19:05.361353Z"
    }
   },
   "outputs": [],
   "source": [
    "df['Reviews']=df['Reviews'].astype('int')"
   ]
  },
  {
   "cell_type": "code",
   "execution_count": 18,
   "id": "d8a53d46-a9a4-4578-93c0-7c8e504e09b9",
   "metadata": {
    "ExecuteTime": {
     "end_time": "2022-09-24T16:19:05.740222Z",
     "start_time": "2022-09-24T16:19:05.725390Z"
    }
   },
   "outputs": [
    {
     "data": {
      "text/plain": [
       "0           159.0\n",
       "1           967.0\n",
       "2         87510.0\n",
       "3        215644.0\n",
       "4           967.0\n",
       "           ...   \n",
       "10834         7.0\n",
       "10836        38.0\n",
       "10837         4.0\n",
       "10839       114.0\n",
       "10840    398307.0\n",
       "Name: Reviews, Length: 9360, dtype: float64"
      ]
     },
     "execution_count": 18,
     "metadata": {},
     "output_type": "execute_result"
    }
   ],
   "source": [
    "df['Reviews'].apply(lambda x:float(x))"
   ]
  },
  {
   "cell_type": "code",
   "execution_count": 19,
   "id": "c564e51f-5449-4c22-a871-4c6ded21f95d",
   "metadata": {
    "ExecuteTime": {
     "end_time": "2022-09-24T16:19:06.259364Z",
     "start_time": "2022-09-24T16:19:06.243478Z"
    }
   },
   "outputs": [
    {
     "name": "stdout",
     "output_type": "stream",
     "text": [
      "<class 'pandas.core.frame.DataFrame'>\n",
      "Int64Index: 9360 entries, 0 to 10840\n",
      "Data columns (total 13 columns):\n",
      " #   Column          Non-Null Count  Dtype  \n",
      "---  ------          --------------  -----  \n",
      " 0   App             9360 non-null   object \n",
      " 1   Category        9360 non-null   object \n",
      " 2   Rating          9360 non-null   float64\n",
      " 3   Reviews         9360 non-null   int64  \n",
      " 4   Size            9360 non-null   float64\n",
      " 5   Installs        9360 non-null   object \n",
      " 6   Type            9360 non-null   object \n",
      " 7   Price           9360 non-null   object \n",
      " 8   Content Rating  9360 non-null   object \n",
      " 9   Genres          9360 non-null   object \n",
      " 10  Last Updated    9360 non-null   object \n",
      " 11  Current Ver     9360 non-null   object \n",
      " 12  Android Ver     9360 non-null   object \n",
      "dtypes: float64(2), int64(1), object(10)\n",
      "memory usage: 1023.8+ KB\n"
     ]
    }
   ],
   "source": [
    "df.info()"
   ]
  },
  {
   "cell_type": "markdown",
   "id": "ca1ee5f6-5d43-410f-ae69-5ea22d0012d0",
   "metadata": {},
   "source": [
    "### 4.3 Installs field is currently stored as string and has values like 1,000,000+. \n",
    "\n",
    "        a.Treat 1,000,000+ as 1,000,000\n",
    "\n",
    "        b.remove ‘+’, ‘,’ from the field, convert it to integer"
   ]
  },
  {
   "cell_type": "code",
   "execution_count": 163,
   "id": "7b64b17a",
   "metadata": {
    "ExecuteTime": {
     "end_time": "2022-09-25T06:02:39.124837Z",
     "start_time": "2022-09-25T06:02:39.121220Z"
    }
   },
   "outputs": [
    {
     "data": {
      "text/plain": [
       "array(['10,000+', '500,000+', '5,000,000+', '50,000,000+', '100,000+',\n",
       "       '50,000+', '1,000,000+', '10,000,000+', '5,000+', '100,000,000+',\n",
       "       '1,000,000,000+', '1,000+', '500,000,000+', '100+', '500+', '10+',\n",
       "       '5+', '50+', '1+'], dtype=object)"
      ]
     },
     "execution_count": 163,
     "metadata": {},
     "output_type": "execute_result"
    }
   ],
   "source": [
    "df['Installs'].unique()"
   ]
  },
  {
   "cell_type": "code",
   "execution_count": 20,
   "id": "348bd2d9-b582-4e64-bc0d-e24b20b75b3d",
   "metadata": {
    "ExecuteTime": {
     "end_time": "2022-09-24T16:19:17.603228Z",
     "start_time": "2022-09-24T16:19:17.586161Z"
    }
   },
   "outputs": [],
   "source": [
    "df['Installs']=df['Installs'].apply(lambda x:int(x.replace(\"+\",\"\").replace(\",\",\"\")))"
   ]
  },
  {
   "cell_type": "code",
   "execution_count": 21,
   "id": "797b1c6b-e6b8-4dc9-b1eb-c6ca69da0cbe",
   "metadata": {
    "ExecuteTime": {
     "end_time": "2022-09-24T16:19:18.245367Z",
     "start_time": "2022-09-24T16:19:18.238183Z"
    }
   },
   "outputs": [
    {
     "data": {
      "text/plain": [
       "0           10000\n",
       "1          500000\n",
       "2         5000000\n",
       "3        50000000\n",
       "4          100000\n",
       "           ...   \n",
       "10834         500\n",
       "10836        5000\n",
       "10837         100\n",
       "10839        1000\n",
       "10840    10000000\n",
       "Name: Installs, Length: 9360, dtype: int64"
      ]
     },
     "execution_count": 21,
     "metadata": {},
     "output_type": "execute_result"
    }
   ],
   "source": [
    "df['Installs']"
   ]
  },
  {
   "cell_type": "markdown",
   "id": "880a24ef-d410-4b71-8140-7f56851048ab",
   "metadata": {},
   "source": [
    "### 4.4 Price field is a string and has $ symbol. Remove ‘$’ sign, and convert it to numeric."
   ]
  },
  {
   "cell_type": "code",
   "execution_count": 22,
   "id": "f81421d0-22b7-454e-82d2-00dfbb091ef5",
   "metadata": {
    "ExecuteTime": {
     "end_time": "2022-09-24T16:19:24.132845Z",
     "start_time": "2022-09-24T16:19:24.115219Z"
    }
   },
   "outputs": [],
   "source": [
    "df['Price']=df['Price'].apply(lambda x:float(x.replace(\"$\",\"\")))"
   ]
  },
  {
   "cell_type": "code",
   "execution_count": 23,
   "id": "af3902c0-a7a5-40cb-a577-406f8a9fcd87",
   "metadata": {
    "ExecuteTime": {
     "end_time": "2022-09-24T16:19:24.534161Z",
     "start_time": "2022-09-24T16:19:24.527937Z"
    }
   },
   "outputs": [
    {
     "data": {
      "text/plain": [
       "array([  0.  ,   4.99,   3.99,   6.99,   7.99,   5.99,   2.99,   3.49,\n",
       "         1.99,   9.99,   7.49,   0.99,   9.  ,   5.49,  10.  ,  24.99,\n",
       "        11.99,  79.99,  16.99,  14.99,  29.99,  12.99,   2.49,  10.99,\n",
       "         1.5 ,  19.99,  15.99,  33.99,  39.99,   3.95,   4.49,   1.7 ,\n",
       "         8.99,   1.49,   3.88, 399.99,  17.99, 400.  ,   3.02,   1.76,\n",
       "         4.84,   4.77,   1.61,   2.5 ,   1.59,   6.49,   1.29, 299.99,\n",
       "       379.99,  37.99,  18.99, 389.99,   8.49,   1.75,  14.  ,   2.  ,\n",
       "         3.08,   2.59,  19.4 ,   3.9 ,   4.59,  15.46,   3.04,  13.99,\n",
       "         4.29,   3.28,   4.6 ,   1.  ,   2.95,   2.9 ,   1.97,   2.56,\n",
       "         1.2 ])"
      ]
     },
     "execution_count": 23,
     "metadata": {},
     "output_type": "execute_result"
    }
   ],
   "source": [
    "df['Price'].unique()"
   ]
  },
  {
   "cell_type": "markdown",
   "id": "f9da918f-450b-4dce-9679-48cf44368c79",
   "metadata": {},
   "source": [
    "### 4.5.1 5. Sanity checks:\n",
    "\n",
    "            Average rating should be between 1 and 5 as only these values are allowed on the play store.\n",
    "            Drop the rows that have a value outside this range"
   ]
  },
  {
   "cell_type": "code",
   "execution_count": 24,
   "id": "63668039-231c-4327-9c77-47ffde114608",
   "metadata": {
    "ExecuteTime": {
     "end_time": "2022-09-24T16:19:27.276573Z",
     "start_time": "2022-09-24T16:19:27.266250Z"
    }
   },
   "outputs": [
    {
     "data": {
      "text/plain": [
       "5.0"
      ]
     },
     "execution_count": 24,
     "metadata": {},
     "output_type": "execute_result"
    }
   ],
   "source": [
    "df['Rating'].max()"
   ]
  },
  {
   "cell_type": "code",
   "execution_count": 25,
   "id": "664c1dfc-1c47-4ad2-8db3-63b32f351e28",
   "metadata": {
    "ExecuteTime": {
     "end_time": "2022-09-24T16:19:37.707845Z",
     "start_time": "2022-09-24T16:19:37.697400Z"
    }
   },
   "outputs": [
    {
     "data": {
      "text/plain": [
       "count    9360.000000\n",
       "mean        4.191838\n",
       "std         0.515263\n",
       "min         1.000000\n",
       "25%         4.000000\n",
       "50%         4.300000\n",
       "75%         4.500000\n",
       "max         5.000000\n",
       "Name: Rating, dtype: float64"
      ]
     },
     "execution_count": 25,
     "metadata": {},
     "output_type": "execute_result"
    }
   ],
   "source": [
    "df['Rating'].describe()"
   ]
  },
  {
   "cell_type": "code",
   "execution_count": 26,
   "id": "ce31ddfc-280a-443b-b9e8-eb16ec5b3d2b",
   "metadata": {
    "ExecuteTime": {
     "end_time": "2022-09-24T16:19:38.224720Z",
     "start_time": "2022-09-24T16:19:38.191846Z"
    }
   },
   "outputs": [
    {
     "data": {
      "text/html": [
       "<div>\n",
       "<style scoped>\n",
       "    .dataframe tbody tr th:only-of-type {\n",
       "        vertical-align: middle;\n",
       "    }\n",
       "\n",
       "    .dataframe tbody tr th {\n",
       "        vertical-align: top;\n",
       "    }\n",
       "\n",
       "    .dataframe thead th {\n",
       "        text-align: right;\n",
       "    }\n",
       "</style>\n",
       "<table border=\"1\" class=\"dataframe\">\n",
       "  <thead>\n",
       "    <tr style=\"text-align: right;\">\n",
       "      <th></th>\n",
       "      <th>App</th>\n",
       "      <th>Category</th>\n",
       "      <th>Rating</th>\n",
       "      <th>Reviews</th>\n",
       "      <th>Size</th>\n",
       "      <th>Installs</th>\n",
       "      <th>Type</th>\n",
       "      <th>Price</th>\n",
       "      <th>Content Rating</th>\n",
       "      <th>Genres</th>\n",
       "      <th>Last Updated</th>\n",
       "      <th>Current Ver</th>\n",
       "      <th>Android Ver</th>\n",
       "    </tr>\n",
       "  </thead>\n",
       "  <tbody>\n",
       "  </tbody>\n",
       "</table>\n",
       "</div>"
      ],
      "text/plain": [
       "Empty DataFrame\n",
       "Columns: [App, Category, Rating, Reviews, Size, Installs, Type, Price, Content Rating, Genres, Last Updated, Current Ver, Android Ver]\n",
       "Index: []"
      ]
     },
     "execution_count": 26,
     "metadata": {},
     "output_type": "execute_result"
    }
   ],
   "source": [
    "df[(df['Rating']<1)|(df['Rating']>5)]"
   ]
  },
  {
   "cell_type": "markdown",
   "id": "c9d7b7ea-5a12-49c9-91da-a866d67c94b3",
   "metadata": {},
   "source": [
    "### 4.5.2 Reviews should not be more than installs as only those who installed can review the app. If there are any such records, drop them."
   ]
  },
  {
   "cell_type": "code",
   "execution_count": 27,
   "id": "234ebc9d-3c61-421f-8e2e-3f707b5c33a2",
   "metadata": {
    "ExecuteTime": {
     "end_time": "2022-09-24T16:19:51.294509Z",
     "start_time": "2022-09-24T16:19:51.287560Z"
    }
   },
   "outputs": [],
   "source": [
    "df=df.drop(df[df['Reviews']>df['Installs']].index)"
   ]
  },
  {
   "cell_type": "code",
   "execution_count": 28,
   "id": "ec26d551-e9b7-4eb2-9f8a-1019fdc3cd62",
   "metadata": {
    "ExecuteTime": {
     "end_time": "2022-09-24T16:19:51.825975Z",
     "start_time": "2022-09-24T16:19:51.820445Z"
    }
   },
   "outputs": [],
   "source": [
    "\n",
    "df.reset_index(inplace=True,drop=True)"
   ]
  },
  {
   "cell_type": "code",
   "execution_count": 29,
   "id": "98179baa-127d-465d-bc52-865c2a037d8f",
   "metadata": {
    "ExecuteTime": {
     "end_time": "2022-09-24T16:19:52.332486Z",
     "start_time": "2022-09-24T16:19:52.307940Z"
    }
   },
   "outputs": [
    {
     "data": {
      "text/html": [
       "<div>\n",
       "<style scoped>\n",
       "    .dataframe tbody tr th:only-of-type {\n",
       "        vertical-align: middle;\n",
       "    }\n",
       "\n",
       "    .dataframe tbody tr th {\n",
       "        vertical-align: top;\n",
       "    }\n",
       "\n",
       "    .dataframe thead th {\n",
       "        text-align: right;\n",
       "    }\n",
       "</style>\n",
       "<table border=\"1\" class=\"dataframe\">\n",
       "  <thead>\n",
       "    <tr style=\"text-align: right;\">\n",
       "      <th></th>\n",
       "      <th>App</th>\n",
       "      <th>Category</th>\n",
       "      <th>Rating</th>\n",
       "      <th>Reviews</th>\n",
       "      <th>Size</th>\n",
       "      <th>Installs</th>\n",
       "      <th>Type</th>\n",
       "      <th>Price</th>\n",
       "      <th>Content Rating</th>\n",
       "      <th>Genres</th>\n",
       "      <th>Last Updated</th>\n",
       "      <th>Current Ver</th>\n",
       "      <th>Android Ver</th>\n",
       "    </tr>\n",
       "  </thead>\n",
       "  <tbody>\n",
       "    <tr>\n",
       "      <th>0</th>\n",
       "      <td>Photo Editor &amp; Candy Camera &amp; Grid &amp; ScrapBook</td>\n",
       "      <td>ART_AND_DESIGN</td>\n",
       "      <td>4.1</td>\n",
       "      <td>159</td>\n",
       "      <td>19000.0</td>\n",
       "      <td>10000</td>\n",
       "      <td>Free</td>\n",
       "      <td>0.0</td>\n",
       "      <td>Everyone</td>\n",
       "      <td>Art &amp; Design</td>\n",
       "      <td>January 7, 2018</td>\n",
       "      <td>1.0.0</td>\n",
       "      <td>4.0.3 and up</td>\n",
       "    </tr>\n",
       "    <tr>\n",
       "      <th>1</th>\n",
       "      <td>Coloring book moana</td>\n",
       "      <td>ART_AND_DESIGN</td>\n",
       "      <td>3.9</td>\n",
       "      <td>967</td>\n",
       "      <td>14000.0</td>\n",
       "      <td>500000</td>\n",
       "      <td>Free</td>\n",
       "      <td>0.0</td>\n",
       "      <td>Everyone</td>\n",
       "      <td>Art &amp; Design;Pretend Play</td>\n",
       "      <td>January 15, 2018</td>\n",
       "      <td>2.0.0</td>\n",
       "      <td>4.0.3 and up</td>\n",
       "    </tr>\n",
       "    <tr>\n",
       "      <th>2</th>\n",
       "      <td>U Launcher Lite – FREE Live Cool Themes, Hide ...</td>\n",
       "      <td>ART_AND_DESIGN</td>\n",
       "      <td>4.7</td>\n",
       "      <td>87510</td>\n",
       "      <td>8700.0</td>\n",
       "      <td>5000000</td>\n",
       "      <td>Free</td>\n",
       "      <td>0.0</td>\n",
       "      <td>Everyone</td>\n",
       "      <td>Art &amp; Design</td>\n",
       "      <td>August 1, 2018</td>\n",
       "      <td>1.2.4</td>\n",
       "      <td>4.0.3 and up</td>\n",
       "    </tr>\n",
       "    <tr>\n",
       "      <th>3</th>\n",
       "      <td>Sketch - Draw &amp; Paint</td>\n",
       "      <td>ART_AND_DESIGN</td>\n",
       "      <td>4.5</td>\n",
       "      <td>215644</td>\n",
       "      <td>25000.0</td>\n",
       "      <td>50000000</td>\n",
       "      <td>Free</td>\n",
       "      <td>0.0</td>\n",
       "      <td>Teen</td>\n",
       "      <td>Art &amp; Design</td>\n",
       "      <td>June 8, 2018</td>\n",
       "      <td>Varies with device</td>\n",
       "      <td>4.2 and up</td>\n",
       "    </tr>\n",
       "    <tr>\n",
       "      <th>4</th>\n",
       "      <td>Pixel Draw - Number Art Coloring Book</td>\n",
       "      <td>ART_AND_DESIGN</td>\n",
       "      <td>4.3</td>\n",
       "      <td>967</td>\n",
       "      <td>2800.0</td>\n",
       "      <td>100000</td>\n",
       "      <td>Free</td>\n",
       "      <td>0.0</td>\n",
       "      <td>Everyone</td>\n",
       "      <td>Art &amp; Design;Creativity</td>\n",
       "      <td>June 20, 2018</td>\n",
       "      <td>1.1</td>\n",
       "      <td>4.4 and up</td>\n",
       "    </tr>\n",
       "    <tr>\n",
       "      <th>...</th>\n",
       "      <td>...</td>\n",
       "      <td>...</td>\n",
       "      <td>...</td>\n",
       "      <td>...</td>\n",
       "      <td>...</td>\n",
       "      <td>...</td>\n",
       "      <td>...</td>\n",
       "      <td>...</td>\n",
       "      <td>...</td>\n",
       "      <td>...</td>\n",
       "      <td>...</td>\n",
       "      <td>...</td>\n",
       "      <td>...</td>\n",
       "    </tr>\n",
       "    <tr>\n",
       "      <th>9348</th>\n",
       "      <td>FR Calculator</td>\n",
       "      <td>FAMILY</td>\n",
       "      <td>4.0</td>\n",
       "      <td>7</td>\n",
       "      <td>2600.0</td>\n",
       "      <td>500</td>\n",
       "      <td>Free</td>\n",
       "      <td>0.0</td>\n",
       "      <td>Everyone</td>\n",
       "      <td>Education</td>\n",
       "      <td>June 18, 2017</td>\n",
       "      <td>1.0.0</td>\n",
       "      <td>4.1 and up</td>\n",
       "    </tr>\n",
       "    <tr>\n",
       "      <th>9349</th>\n",
       "      <td>Sya9a Maroc - FR</td>\n",
       "      <td>FAMILY</td>\n",
       "      <td>4.5</td>\n",
       "      <td>38</td>\n",
       "      <td>53000.0</td>\n",
       "      <td>5000</td>\n",
       "      <td>Free</td>\n",
       "      <td>0.0</td>\n",
       "      <td>Everyone</td>\n",
       "      <td>Education</td>\n",
       "      <td>July 25, 2017</td>\n",
       "      <td>1.48</td>\n",
       "      <td>4.1 and up</td>\n",
       "    </tr>\n",
       "    <tr>\n",
       "      <th>9350</th>\n",
       "      <td>Fr. Mike Schmitz Audio Teachings</td>\n",
       "      <td>FAMILY</td>\n",
       "      <td>5.0</td>\n",
       "      <td>4</td>\n",
       "      <td>3600.0</td>\n",
       "      <td>100</td>\n",
       "      <td>Free</td>\n",
       "      <td>0.0</td>\n",
       "      <td>Everyone</td>\n",
       "      <td>Education</td>\n",
       "      <td>July 6, 2018</td>\n",
       "      <td>1.0</td>\n",
       "      <td>4.1 and up</td>\n",
       "    </tr>\n",
       "    <tr>\n",
       "      <th>9351</th>\n",
       "      <td>The SCP Foundation DB fr nn5n</td>\n",
       "      <td>BOOKS_AND_REFERENCE</td>\n",
       "      <td>4.5</td>\n",
       "      <td>114</td>\n",
       "      <td>0.0</td>\n",
       "      <td>1000</td>\n",
       "      <td>Free</td>\n",
       "      <td>0.0</td>\n",
       "      <td>Mature 17+</td>\n",
       "      <td>Books &amp; Reference</td>\n",
       "      <td>January 19, 2015</td>\n",
       "      <td>Varies with device</td>\n",
       "      <td>Varies with device</td>\n",
       "    </tr>\n",
       "    <tr>\n",
       "      <th>9352</th>\n",
       "      <td>iHoroscope - 2018 Daily Horoscope &amp; Astrology</td>\n",
       "      <td>LIFESTYLE</td>\n",
       "      <td>4.5</td>\n",
       "      <td>398307</td>\n",
       "      <td>19000.0</td>\n",
       "      <td>10000000</td>\n",
       "      <td>Free</td>\n",
       "      <td>0.0</td>\n",
       "      <td>Everyone</td>\n",
       "      <td>Lifestyle</td>\n",
       "      <td>July 25, 2018</td>\n",
       "      <td>Varies with device</td>\n",
       "      <td>Varies with device</td>\n",
       "    </tr>\n",
       "  </tbody>\n",
       "</table>\n",
       "<p>9353 rows × 13 columns</p>\n",
       "</div>"
      ],
      "text/plain": [
       "                                                    App             Category  \\\n",
       "0        Photo Editor & Candy Camera & Grid & ScrapBook       ART_AND_DESIGN   \n",
       "1                                   Coloring book moana       ART_AND_DESIGN   \n",
       "2     U Launcher Lite – FREE Live Cool Themes, Hide ...       ART_AND_DESIGN   \n",
       "3                                 Sketch - Draw & Paint       ART_AND_DESIGN   \n",
       "4                 Pixel Draw - Number Art Coloring Book       ART_AND_DESIGN   \n",
       "...                                                 ...                  ...   \n",
       "9348                                      FR Calculator               FAMILY   \n",
       "9349                                   Sya9a Maroc - FR               FAMILY   \n",
       "9350                   Fr. Mike Schmitz Audio Teachings               FAMILY   \n",
       "9351                      The SCP Foundation DB fr nn5n  BOOKS_AND_REFERENCE   \n",
       "9352      iHoroscope - 2018 Daily Horoscope & Astrology            LIFESTYLE   \n",
       "\n",
       "      Rating  Reviews     Size  Installs  Type  Price Content Rating  \\\n",
       "0        4.1      159  19000.0     10000  Free    0.0       Everyone   \n",
       "1        3.9      967  14000.0    500000  Free    0.0       Everyone   \n",
       "2        4.7    87510   8700.0   5000000  Free    0.0       Everyone   \n",
       "3        4.5   215644  25000.0  50000000  Free    0.0           Teen   \n",
       "4        4.3      967   2800.0    100000  Free    0.0       Everyone   \n",
       "...      ...      ...      ...       ...   ...    ...            ...   \n",
       "9348     4.0        7   2600.0       500  Free    0.0       Everyone   \n",
       "9349     4.5       38  53000.0      5000  Free    0.0       Everyone   \n",
       "9350     5.0        4   3600.0       100  Free    0.0       Everyone   \n",
       "9351     4.5      114      0.0      1000  Free    0.0     Mature 17+   \n",
       "9352     4.5   398307  19000.0  10000000  Free    0.0       Everyone   \n",
       "\n",
       "                         Genres      Last Updated         Current Ver  \\\n",
       "0                  Art & Design   January 7, 2018               1.0.0   \n",
       "1     Art & Design;Pretend Play  January 15, 2018               2.0.0   \n",
       "2                  Art & Design    August 1, 2018               1.2.4   \n",
       "3                  Art & Design      June 8, 2018  Varies with device   \n",
       "4       Art & Design;Creativity     June 20, 2018                 1.1   \n",
       "...                         ...               ...                 ...   \n",
       "9348                  Education     June 18, 2017               1.0.0   \n",
       "9349                  Education     July 25, 2017                1.48   \n",
       "9350                  Education      July 6, 2018                 1.0   \n",
       "9351          Books & Reference  January 19, 2015  Varies with device   \n",
       "9352                  Lifestyle     July 25, 2018  Varies with device   \n",
       "\n",
       "             Android Ver  \n",
       "0           4.0.3 and up  \n",
       "1           4.0.3 and up  \n",
       "2           4.0.3 and up  \n",
       "3             4.2 and up  \n",
       "4             4.4 and up  \n",
       "...                  ...  \n",
       "9348          4.1 and up  \n",
       "9349          4.1 and up  \n",
       "9350          4.1 and up  \n",
       "9351  Varies with device  \n",
       "9352  Varies with device  \n",
       "\n",
       "[9353 rows x 13 columns]"
      ]
     },
     "execution_count": 29,
     "metadata": {},
     "output_type": "execute_result"
    }
   ],
   "source": [
    "df"
   ]
  },
  {
   "cell_type": "markdown",
   "id": "f47f0a36-6776-4619-ae33-eac1db6d1a52",
   "metadata": {},
   "source": [
    "### 4.5.3 For free apps (type = “Free”), the price should not be >0. Drop any such rows."
   ]
  },
  {
   "cell_type": "code",
   "execution_count": 33,
   "id": "2f5a99ff-b6c8-4333-ae23-0f4561e74fbd",
   "metadata": {
    "ExecuteTime": {
     "end_time": "2022-09-24T16:21:05.642143Z",
     "start_time": "2022-09-24T16:21:05.629757Z"
    }
   },
   "outputs": [
    {
     "data": {
      "text/html": [
       "<div>\n",
       "<style scoped>\n",
       "    .dataframe tbody tr th:only-of-type {\n",
       "        vertical-align: middle;\n",
       "    }\n",
       "\n",
       "    .dataframe tbody tr th {\n",
       "        vertical-align: top;\n",
       "    }\n",
       "\n",
       "    .dataframe thead th {\n",
       "        text-align: right;\n",
       "    }\n",
       "</style>\n",
       "<table border=\"1\" class=\"dataframe\">\n",
       "  <thead>\n",
       "    <tr style=\"text-align: right;\">\n",
       "      <th></th>\n",
       "      <th>App</th>\n",
       "      <th>Category</th>\n",
       "      <th>Rating</th>\n",
       "      <th>Reviews</th>\n",
       "      <th>Size</th>\n",
       "      <th>Installs</th>\n",
       "      <th>Type</th>\n",
       "      <th>Price</th>\n",
       "      <th>Content Rating</th>\n",
       "      <th>Genres</th>\n",
       "      <th>Last Updated</th>\n",
       "      <th>Current Ver</th>\n",
       "      <th>Android Ver</th>\n",
       "    </tr>\n",
       "  </thead>\n",
       "  <tbody>\n",
       "  </tbody>\n",
       "</table>\n",
       "</div>"
      ],
      "text/plain": [
       "Empty DataFrame\n",
       "Columns: [App, Category, Rating, Reviews, Size, Installs, Type, Price, Content Rating, Genres, Last Updated, Current Ver, Android Ver]\n",
       "Index: []"
      ]
     },
     "execution_count": 33,
     "metadata": {},
     "output_type": "execute_result"
    }
   ],
   "source": [
    "df[(df['Type']=='Free')&(df['Price']>0)]"
   ]
  },
  {
   "cell_type": "code",
   "execution_count": 34,
   "id": "26beb872-3cdc-45e7-a46c-4ac252f4e8b2",
   "metadata": {
    "ExecuteTime": {
     "end_time": "2022-09-24T16:21:07.273753Z",
     "start_time": "2022-09-24T16:21:07.254281Z"
    }
   },
   "outputs": [
    {
     "data": {
      "text/html": [
       "<div>\n",
       "<style scoped>\n",
       "    .dataframe tbody tr th:only-of-type {\n",
       "        vertical-align: middle;\n",
       "    }\n",
       "\n",
       "    .dataframe tbody tr th {\n",
       "        vertical-align: top;\n",
       "    }\n",
       "\n",
       "    .dataframe thead th {\n",
       "        text-align: right;\n",
       "    }\n",
       "</style>\n",
       "<table border=\"1\" class=\"dataframe\">\n",
       "  <thead>\n",
       "    <tr style=\"text-align: right;\">\n",
       "      <th></th>\n",
       "      <th>App</th>\n",
       "      <th>Category</th>\n",
       "      <th>Rating</th>\n",
       "      <th>Reviews</th>\n",
       "      <th>Size</th>\n",
       "      <th>Installs</th>\n",
       "      <th>Type</th>\n",
       "      <th>Price</th>\n",
       "      <th>Content Rating</th>\n",
       "      <th>Genres</th>\n",
       "      <th>Last Updated</th>\n",
       "      <th>Current Ver</th>\n",
       "      <th>Android Ver</th>\n",
       "    </tr>\n",
       "  </thead>\n",
       "  <tbody>\n",
       "    <tr>\n",
       "      <th>0</th>\n",
       "      <td>Photo Editor &amp; Candy Camera &amp; Grid &amp; ScrapBook</td>\n",
       "      <td>ART_AND_DESIGN</td>\n",
       "      <td>4.1</td>\n",
       "      <td>159</td>\n",
       "      <td>19000.0</td>\n",
       "      <td>10000</td>\n",
       "      <td>Free</td>\n",
       "      <td>0.0</td>\n",
       "      <td>Everyone</td>\n",
       "      <td>Art &amp; Design</td>\n",
       "      <td>January 7, 2018</td>\n",
       "      <td>1.0.0</td>\n",
       "      <td>4.0.3 and up</td>\n",
       "    </tr>\n",
       "    <tr>\n",
       "      <th>1</th>\n",
       "      <td>Coloring book moana</td>\n",
       "      <td>ART_AND_DESIGN</td>\n",
       "      <td>3.9</td>\n",
       "      <td>967</td>\n",
       "      <td>14000.0</td>\n",
       "      <td>500000</td>\n",
       "      <td>Free</td>\n",
       "      <td>0.0</td>\n",
       "      <td>Everyone</td>\n",
       "      <td>Art &amp; Design;Pretend Play</td>\n",
       "      <td>January 15, 2018</td>\n",
       "      <td>2.0.0</td>\n",
       "      <td>4.0.3 and up</td>\n",
       "    </tr>\n",
       "    <tr>\n",
       "      <th>2</th>\n",
       "      <td>U Launcher Lite – FREE Live Cool Themes, Hide ...</td>\n",
       "      <td>ART_AND_DESIGN</td>\n",
       "      <td>4.7</td>\n",
       "      <td>87510</td>\n",
       "      <td>8700.0</td>\n",
       "      <td>5000000</td>\n",
       "      <td>Free</td>\n",
       "      <td>0.0</td>\n",
       "      <td>Everyone</td>\n",
       "      <td>Art &amp; Design</td>\n",
       "      <td>August 1, 2018</td>\n",
       "      <td>1.2.4</td>\n",
       "      <td>4.0.3 and up</td>\n",
       "    </tr>\n",
       "    <tr>\n",
       "      <th>3</th>\n",
       "      <td>Sketch - Draw &amp; Paint</td>\n",
       "      <td>ART_AND_DESIGN</td>\n",
       "      <td>4.5</td>\n",
       "      <td>215644</td>\n",
       "      <td>25000.0</td>\n",
       "      <td>50000000</td>\n",
       "      <td>Free</td>\n",
       "      <td>0.0</td>\n",
       "      <td>Teen</td>\n",
       "      <td>Art &amp; Design</td>\n",
       "      <td>June 8, 2018</td>\n",
       "      <td>Varies with device</td>\n",
       "      <td>4.2 and up</td>\n",
       "    </tr>\n",
       "    <tr>\n",
       "      <th>4</th>\n",
       "      <td>Pixel Draw - Number Art Coloring Book</td>\n",
       "      <td>ART_AND_DESIGN</td>\n",
       "      <td>4.3</td>\n",
       "      <td>967</td>\n",
       "      <td>2800.0</td>\n",
       "      <td>100000</td>\n",
       "      <td>Free</td>\n",
       "      <td>0.0</td>\n",
       "      <td>Everyone</td>\n",
       "      <td>Art &amp; Design;Creativity</td>\n",
       "      <td>June 20, 2018</td>\n",
       "      <td>1.1</td>\n",
       "      <td>4.4 and up</td>\n",
       "    </tr>\n",
       "    <tr>\n",
       "      <th>...</th>\n",
       "      <td>...</td>\n",
       "      <td>...</td>\n",
       "      <td>...</td>\n",
       "      <td>...</td>\n",
       "      <td>...</td>\n",
       "      <td>...</td>\n",
       "      <td>...</td>\n",
       "      <td>...</td>\n",
       "      <td>...</td>\n",
       "      <td>...</td>\n",
       "      <td>...</td>\n",
       "      <td>...</td>\n",
       "      <td>...</td>\n",
       "    </tr>\n",
       "    <tr>\n",
       "      <th>9348</th>\n",
       "      <td>FR Calculator</td>\n",
       "      <td>FAMILY</td>\n",
       "      <td>4.0</td>\n",
       "      <td>7</td>\n",
       "      <td>2600.0</td>\n",
       "      <td>500</td>\n",
       "      <td>Free</td>\n",
       "      <td>0.0</td>\n",
       "      <td>Everyone</td>\n",
       "      <td>Education</td>\n",
       "      <td>June 18, 2017</td>\n",
       "      <td>1.0.0</td>\n",
       "      <td>4.1 and up</td>\n",
       "    </tr>\n",
       "    <tr>\n",
       "      <th>9349</th>\n",
       "      <td>Sya9a Maroc - FR</td>\n",
       "      <td>FAMILY</td>\n",
       "      <td>4.5</td>\n",
       "      <td>38</td>\n",
       "      <td>53000.0</td>\n",
       "      <td>5000</td>\n",
       "      <td>Free</td>\n",
       "      <td>0.0</td>\n",
       "      <td>Everyone</td>\n",
       "      <td>Education</td>\n",
       "      <td>July 25, 2017</td>\n",
       "      <td>1.48</td>\n",
       "      <td>4.1 and up</td>\n",
       "    </tr>\n",
       "    <tr>\n",
       "      <th>9350</th>\n",
       "      <td>Fr. Mike Schmitz Audio Teachings</td>\n",
       "      <td>FAMILY</td>\n",
       "      <td>5.0</td>\n",
       "      <td>4</td>\n",
       "      <td>3600.0</td>\n",
       "      <td>100</td>\n",
       "      <td>Free</td>\n",
       "      <td>0.0</td>\n",
       "      <td>Everyone</td>\n",
       "      <td>Education</td>\n",
       "      <td>July 6, 2018</td>\n",
       "      <td>1.0</td>\n",
       "      <td>4.1 and up</td>\n",
       "    </tr>\n",
       "    <tr>\n",
       "      <th>9351</th>\n",
       "      <td>The SCP Foundation DB fr nn5n</td>\n",
       "      <td>BOOKS_AND_REFERENCE</td>\n",
       "      <td>4.5</td>\n",
       "      <td>114</td>\n",
       "      <td>0.0</td>\n",
       "      <td>1000</td>\n",
       "      <td>Free</td>\n",
       "      <td>0.0</td>\n",
       "      <td>Mature 17+</td>\n",
       "      <td>Books &amp; Reference</td>\n",
       "      <td>January 19, 2015</td>\n",
       "      <td>Varies with device</td>\n",
       "      <td>Varies with device</td>\n",
       "    </tr>\n",
       "    <tr>\n",
       "      <th>9352</th>\n",
       "      <td>iHoroscope - 2018 Daily Horoscope &amp; Astrology</td>\n",
       "      <td>LIFESTYLE</td>\n",
       "      <td>4.5</td>\n",
       "      <td>398307</td>\n",
       "      <td>19000.0</td>\n",
       "      <td>10000000</td>\n",
       "      <td>Free</td>\n",
       "      <td>0.0</td>\n",
       "      <td>Everyone</td>\n",
       "      <td>Lifestyle</td>\n",
       "      <td>July 25, 2018</td>\n",
       "      <td>Varies with device</td>\n",
       "      <td>Varies with device</td>\n",
       "    </tr>\n",
       "  </tbody>\n",
       "</table>\n",
       "<p>9353 rows × 13 columns</p>\n",
       "</div>"
      ],
      "text/plain": [
       "                                                    App             Category  \\\n",
       "0        Photo Editor & Candy Camera & Grid & ScrapBook       ART_AND_DESIGN   \n",
       "1                                   Coloring book moana       ART_AND_DESIGN   \n",
       "2     U Launcher Lite – FREE Live Cool Themes, Hide ...       ART_AND_DESIGN   \n",
       "3                                 Sketch - Draw & Paint       ART_AND_DESIGN   \n",
       "4                 Pixel Draw - Number Art Coloring Book       ART_AND_DESIGN   \n",
       "...                                                 ...                  ...   \n",
       "9348                                      FR Calculator               FAMILY   \n",
       "9349                                   Sya9a Maroc - FR               FAMILY   \n",
       "9350                   Fr. Mike Schmitz Audio Teachings               FAMILY   \n",
       "9351                      The SCP Foundation DB fr nn5n  BOOKS_AND_REFERENCE   \n",
       "9352      iHoroscope - 2018 Daily Horoscope & Astrology            LIFESTYLE   \n",
       "\n",
       "      Rating  Reviews     Size  Installs  Type  Price Content Rating  \\\n",
       "0        4.1      159  19000.0     10000  Free    0.0       Everyone   \n",
       "1        3.9      967  14000.0    500000  Free    0.0       Everyone   \n",
       "2        4.7    87510   8700.0   5000000  Free    0.0       Everyone   \n",
       "3        4.5   215644  25000.0  50000000  Free    0.0           Teen   \n",
       "4        4.3      967   2800.0    100000  Free    0.0       Everyone   \n",
       "...      ...      ...      ...       ...   ...    ...            ...   \n",
       "9348     4.0        7   2600.0       500  Free    0.0       Everyone   \n",
       "9349     4.5       38  53000.0      5000  Free    0.0       Everyone   \n",
       "9350     5.0        4   3600.0       100  Free    0.0       Everyone   \n",
       "9351     4.5      114      0.0      1000  Free    0.0     Mature 17+   \n",
       "9352     4.5   398307  19000.0  10000000  Free    0.0       Everyone   \n",
       "\n",
       "                         Genres      Last Updated         Current Ver  \\\n",
       "0                  Art & Design   January 7, 2018               1.0.0   \n",
       "1     Art & Design;Pretend Play  January 15, 2018               2.0.0   \n",
       "2                  Art & Design    August 1, 2018               1.2.4   \n",
       "3                  Art & Design      June 8, 2018  Varies with device   \n",
       "4       Art & Design;Creativity     June 20, 2018                 1.1   \n",
       "...                         ...               ...                 ...   \n",
       "9348                  Education     June 18, 2017               1.0.0   \n",
       "9349                  Education     July 25, 2017                1.48   \n",
       "9350                  Education      July 6, 2018                 1.0   \n",
       "9351          Books & Reference  January 19, 2015  Varies with device   \n",
       "9352                  Lifestyle     July 25, 2018  Varies with device   \n",
       "\n",
       "             Android Ver  \n",
       "0           4.0.3 and up  \n",
       "1           4.0.3 and up  \n",
       "2           4.0.3 and up  \n",
       "3             4.2 and up  \n",
       "4             4.4 and up  \n",
       "...                  ...  \n",
       "9348          4.1 and up  \n",
       "9349          4.1 and up  \n",
       "9350          4.1 and up  \n",
       "9351  Varies with device  \n",
       "9352  Varies with device  \n",
       "\n",
       "[9353 rows x 13 columns]"
      ]
     },
     "execution_count": 34,
     "metadata": {},
     "output_type": "execute_result"
    }
   ],
   "source": [
    "df"
   ]
  },
  {
   "cell_type": "code",
   "execution_count": 35,
   "id": "3eb35ca2-f48a-42cc-9361-e7c6a93b5cfd",
   "metadata": {
    "ExecuteTime": {
     "end_time": "2022-09-24T16:21:12.471515Z",
     "start_time": "2022-09-24T16:21:12.466818Z"
    }
   },
   "outputs": [],
   "source": [
    "### the price of the free app is not greatr than 0 so there is no need to drop any rows"
   ]
  },
  {
   "cell_type": "markdown",
   "id": "f37007ca-9b8c-4663-a731-fa6a0a5fa8a1",
   "metadata": {},
   "source": [
    "### 5.1 Performing univariate analysis: \n",
    "\n",
    "      *Boxplot for Price\n",
    "\n",
    "           *Are there any outliers? Think about the price of usual apps on Play Store."
   ]
  },
  {
   "cell_type": "code",
   "execution_count": 36,
   "id": "ce93a856-166a-444d-bcd2-a160676341b4",
   "metadata": {
    "ExecuteTime": {
     "end_time": "2022-09-24T16:21:44.075863Z",
     "start_time": "2022-09-24T16:21:43.937402Z"
    }
   },
   "outputs": [
    {
     "data": {
      "text/plain": [
       "<AxesSubplot:xlabel='Price'>"
      ]
     },
     "execution_count": 36,
     "metadata": {},
     "output_type": "execute_result"
    },
    {
     "data": {
      "image/png": "[encoded data removed]",
      "text/plain": [
       "<Figure size 640x480 with 1 Axes>"
      ]
     },
     "metadata": {},
     "output_type": "display_data"
    }
   ],
   "source": [
    "sns.boxplot(x=\"Price\",data=df)"
   ]
  },
  {
   "cell_type": "code",
   "execution_count": 37,
   "id": "59d319b8-50bc-480b-8b7f-8b0b56c5cbbf",
   "metadata": {
    "ExecuteTime": {
     "end_time": "2022-09-24T16:21:51.051385Z",
     "start_time": "2022-09-24T16:21:51.043371Z"
    }
   },
   "outputs": [],
   "source": [
    "### there are outliers in the price data, the price of the apps are mostly below 50 "
   ]
  },
  {
   "cell_type": "markdown",
   "id": "442e39bc-d1fa-4514-9129-4277c9db9a7b",
   "metadata": {},
   "source": [
    "### 5.2 Boxplot for Reviews\n",
    "\n",
    "           *Are there any apps with very high number of reviews? Do the values seem right?"
   ]
  },
  {
   "cell_type": "code",
   "execution_count": 38,
   "id": "13697e83-6f1b-4001-bb09-9e44b0866221",
   "metadata": {
    "ExecuteTime": {
     "end_time": "2022-09-24T16:21:53.376092Z",
     "start_time": "2022-09-24T16:21:53.261325Z"
    }
   },
   "outputs": [
    {
     "data": {
      "text/plain": [
       "<AxesSubplot:xlabel='Reviews'>"
      ]
     },
     "execution_count": 38,
     "metadata": {},
     "output_type": "execute_result"
    },
    {
     "data": {
      "image/png": "[encoded data removed]",
      "text/plain": [
       "<Figure size 640x480 with 1 Axes>"
      ]
     },
     "metadata": {},
     "output_type": "display_data"
    }
   ],
   "source": [
    "sns.boxplot(x='Reviews',data=df)"
   ]
  },
  {
   "cell_type": "code",
   "execution_count": 39,
   "id": "1e01fd3c-13c1-4811-977f-0fcb1d560ba5",
   "metadata": {
    "ExecuteTime": {
     "end_time": "2022-09-24T16:21:54.037345Z",
     "start_time": "2022-09-24T16:21:53.941496Z"
    }
   },
   "outputs": [
    {
     "data": {
      "text/plain": [
       "(0.0, 100000.0)"
      ]
     },
     "execution_count": 39,
     "metadata": {},
     "output_type": "execute_result"
    },
    {
     "data": {
      "image/png": "[encoded data removed]",
      "text/plain": [
       "<Figure size 640x480 with 1 Axes>"
      ]
     },
     "metadata": {},
     "output_type": "display_data"
    }
   ],
   "source": [
    "sns.boxplot(x='Reviews',data=df)\n",
    "plt.xlim(0,100000)"
   ]
  },
  {
   "cell_type": "code",
   "execution_count": 40,
   "id": "b0647d02-f9ba-4e44-9584-3a20fd50bf5a",
   "metadata": {
    "ExecuteTime": {
     "end_time": "2022-09-24T16:21:54.511619Z",
     "start_time": "2022-09-24T16:21:54.505361Z"
    }
   },
   "outputs": [],
   "source": [
    "### yes there is an app with hight nuber of reviews "
   ]
  },
  {
   "cell_type": "markdown",
   "id": "5bfb86f0-be11-4887-97a4-11a56a89f495",
   "metadata": {},
   "source": [
    "### 5.3 Histogram for Rating\n",
    "\n",
    "           *How are the ratings distributed? Is it more toward higher ratings?"
   ]
  },
  {
   "cell_type": "code",
   "execution_count": 41,
   "id": "935f98dd-03f9-421a-b9b9-839968c6ead5",
   "metadata": {
    "ExecuteTime": {
     "end_time": "2022-09-24T16:22:00.081687Z",
     "start_time": "2022-09-24T16:21:59.921556Z"
    }
   },
   "outputs": [
    {
     "data": {
      "text/plain": [
       "(array([  17.,   18.,   41.,   74.,  137.,  445.,  879., 1660., 4172.,\n",
       "        1910.]),\n",
       " array([1. , 1.4, 1.8, 2.2, 2.6, 3. , 3.4, 3.8, 4.2, 4.6, 5. ]),\n",
       " <BarContainer object of 10 artists>)"
      ]
     },
     "execution_count": 41,
     "metadata": {},
     "output_type": "execute_result"
    },
    {
     "data": {
      "image/png": "[encoded data removed]",
      "text/plain": [
       "<Figure size 640x480 with 1 Axes>"
      ]
     },
     "metadata": {},
     "output_type": "display_data"
    }
   ],
   "source": [
    "plt.hist(x='Rating',data=df)"
   ]
  },
  {
   "cell_type": "code",
   "execution_count": 42,
   "id": "e8fa6743-e301-4458-a1ee-514f1cfb89f8",
   "metadata": {
    "ExecuteTime": {
     "end_time": "2022-09-24T16:22:05.669031Z",
     "start_time": "2022-09-24T16:22:05.665413Z"
    }
   },
   "outputs": [],
   "source": [
    "###  the ratings are distributed stepup wise"
   ]
  },
  {
   "cell_type": "markdown",
   "id": "9bf8e0c6-4971-4943-8744-58b86c90515a",
   "metadata": {},
   "source": [
    "### 5.4 Histogram for Size"
   ]
  },
  {
   "cell_type": "code",
   "execution_count": 43,
   "id": "c9878c59-9b82-4f6e-9892-1c5f69686d56",
   "metadata": {
    "ExecuteTime": {
     "end_time": "2022-09-24T16:22:06.619670Z",
     "start_time": "2022-09-24T16:22:06.512941Z"
    }
   },
   "outputs": [
    {
     "data": {
      "text/plain": [
       "(array([4779., 1386., 1036.,  617.,  464.,  334.,  234.,  174.,  125.,\n",
       "         204.]),\n",
       " array([     0.,  10000.,  20000.,  30000.,  40000.,  50000.,  60000.,\n",
       "         70000.,  80000.,  90000., 100000.]),\n",
       " <BarContainer object of 10 artists>)"
      ]
     },
     "execution_count": 43,
     "metadata": {},
     "output_type": "execute_result"
    },
    {
     "data": {
      "image/png": "[encoded data removed]",
      "text/plain": [
       "<Figure size 640x480 with 1 Axes>"
      ]
     },
     "metadata": {},
     "output_type": "display_data"
    }
   ],
   "source": [
    "plt.hist(x='Size',data=df)"
   ]
  },
  {
   "cell_type": "markdown",
   "id": "fb7d9509-7867-47d8-b5ce-0bdc776b8138",
   "metadata": {},
   "source": [
    "### 6. Outlier treatment: \n",
    "\n",
    "          *Price: From the box plot, it seems like there are some apps with very high price. A price of $200 for an application on the Play Store is very high and suspicious!\n",
    "\n",
    "                      *Check out the records with very high price\n",
    "\n",
    "                            *Is 200 indeed a high price?\n",
    "\n",
    "           *Drop these as most seem to be junk apps"
   ]
  },
  {
   "cell_type": "code",
   "execution_count": 44,
   "id": "29915117-e28e-44f6-8cce-344d0ab550bb",
   "metadata": {
    "ExecuteTime": {
     "end_time": "2022-09-24T16:22:18.448396Z",
     "start_time": "2022-09-24T16:22:18.439264Z"
    }
   },
   "outputs": [
    {
     "data": {
      "text/plain": [
       "Int64Index([4035, 4188, 4193, 5040, 5043, 5044, 5045, 5046, 5047, 5048, 5051,\n",
       "            5053, 5055, 5058, 5062],\n",
       "           dtype='int64')"
      ]
     },
     "execution_count": 44,
     "metadata": {},
     "output_type": "execute_result"
    }
   ],
   "source": [
    "df[df['Price']>200].index"
   ]
  },
  {
   "cell_type": "code",
   "execution_count": 45,
   "id": "6347ef7d-dd52-4803-80c6-4b16824248a6",
   "metadata": {
    "ExecuteTime": {
     "end_time": "2022-09-24T16:22:20.373340Z",
     "start_time": "2022-09-24T16:22:20.362698Z"
    }
   },
   "outputs": [],
   "source": [
    "df.drop(df[df['Price']>200].index,inplace=True)"
   ]
  },
  {
   "cell_type": "code",
   "execution_count": 46,
   "id": "978e9f0a-dbdc-403d-8257-c5489e828d9f",
   "metadata": {
    "ExecuteTime": {
     "end_time": "2022-09-24T16:22:20.823588Z",
     "start_time": "2022-09-24T16:22:20.804233Z"
    }
   },
   "outputs": [
    {
     "name": "stdout",
     "output_type": "stream",
     "text": [
      "<class 'pandas.core.frame.DataFrame'>\n",
      "Int64Index: 9338 entries, 0 to 9352\n",
      "Data columns (total 13 columns):\n",
      " #   Column          Non-Null Count  Dtype  \n",
      "---  ------          --------------  -----  \n",
      " 0   App             9338 non-null   object \n",
      " 1   Category        9338 non-null   object \n",
      " 2   Rating          9338 non-null   float64\n",
      " 3   Reviews         9338 non-null   int64  \n",
      " 4   Size            9338 non-null   float64\n",
      " 5   Installs        9338 non-null   int64  \n",
      " 6   Type            9338 non-null   object \n",
      " 7   Price           9338 non-null   float64\n",
      " 8   Content Rating  9338 non-null   object \n",
      " 9   Genres          9338 non-null   object \n",
      " 10  Last Updated    9338 non-null   object \n",
      " 11  Current Ver     9338 non-null   object \n",
      " 12  Android Ver     9338 non-null   object \n",
      "dtypes: float64(3), int64(2), object(8)\n",
      "memory usage: 1021.3+ KB\n"
     ]
    }
   ],
   "source": [
    "df.info()"
   ]
  },
  {
   "cell_type": "markdown",
   "id": "a96693a0-1e84-447c-a0b2-39764737f4bd",
   "metadata": {},
   "source": [
    "### 6.2 Reviews: Very few apps have very high number of reviews. These are all star apps that don’t help with                     the analysis and, in fact, will skew it. Drop records having more than 2 million reviews"
   ]
  },
  {
   "cell_type": "code",
   "execution_count": 47,
   "id": "7f9ea2f7-daa6-4af4-88b8-dac591642183",
   "metadata": {
    "ExecuteTime": {
     "end_time": "2022-09-24T16:22:27.280868Z",
     "start_time": "2022-09-24T16:22:27.269715Z"
    }
   },
   "outputs": [],
   "source": [
    "df.drop(df[df['Reviews']>2000000].index,inplace=True)"
   ]
  },
  {
   "cell_type": "code",
   "execution_count": 48,
   "id": "cda1a764-8374-4c38-a9f1-99af9a5a0678",
   "metadata": {
    "ExecuteTime": {
     "end_time": "2022-09-24T16:22:28.150535Z",
     "start_time": "2022-09-24T16:22:28.128421Z"
    }
   },
   "outputs": [
    {
     "name": "stdout",
     "output_type": "stream",
     "text": [
      "<class 'pandas.core.frame.DataFrame'>\n",
      "Int64Index: 8885 entries, 0 to 9352\n",
      "Data columns (total 13 columns):\n",
      " #   Column          Non-Null Count  Dtype  \n",
      "---  ------          --------------  -----  \n",
      " 0   App             8885 non-null   object \n",
      " 1   Category        8885 non-null   object \n",
      " 2   Rating          8885 non-null   float64\n",
      " 3   Reviews         8885 non-null   int64  \n",
      " 4   Size            8885 non-null   float64\n",
      " 5   Installs        8885 non-null   int64  \n",
      " 6   Type            8885 non-null   object \n",
      " 7   Price           8885 non-null   float64\n",
      " 8   Content Rating  8885 non-null   object \n",
      " 9   Genres          8885 non-null   object \n",
      " 10  Last Updated    8885 non-null   object \n",
      " 11  Current Ver     8885 non-null   object \n",
      " 12  Android Ver     8885 non-null   object \n",
      "dtypes: float64(3), int64(2), object(8)\n",
      "memory usage: 971.8+ KB\n"
     ]
    }
   ],
   "source": [
    "df.info()"
   ]
  },
  {
   "cell_type": "markdown",
   "id": "36bfead1-0c6e-40dd-a8ff-b4d0c42e1a60",
   "metadata": {},
   "source": [
    "### 6.3 Installs:  There seems to be some outliers in this field too. Apps having very high number of installs should be dropped from the analysis.\n",
    "\n",
    "         *Find out the different percentiles – 10, 25, 50, 70, 90, 95, 99\n",
    "\n",
    "         *Decide a threshold as cutoff for outlier and drop records having values more than that"
   ]
  },
  {
   "cell_type": "code",
   "execution_count": 49,
   "id": "865de7d9-e9b2-4e5d-9192-ef965dd6dde9",
   "metadata": {
    "ExecuteTime": {
     "end_time": "2022-09-24T16:22:33.254847Z",
     "start_time": "2022-09-24T16:22:33.241899Z"
    }
   },
   "outputs": [
    {
     "data": {
      "text/plain": [
       "0.10         1000.0\n",
       "0.25        10000.0\n",
       "0.50       500000.0\n",
       "0.70      1000000.0\n",
       "0.90     10000000.0\n",
       "0.95     10000000.0\n",
       "0.99    100000000.0\n",
       "Name: Installs, dtype: float64"
      ]
     },
     "execution_count": 49,
     "metadata": {},
     "output_type": "execute_result"
    }
   ],
   "source": [
    "df['Installs'].quantile([.1,.25,.5,.7,.9,.95,.99])"
   ]
  },
  {
   "cell_type": "code",
   "execution_count": 50,
   "id": "45882957-1345-40ad-9875-1335fd1d62ce",
   "metadata": {
    "ExecuteTime": {
     "end_time": "2022-09-24T16:22:33.766747Z",
     "start_time": "2022-09-24T16:22:33.754067Z"
    }
   },
   "outputs": [],
   "source": [
    "df.drop(df[df['Installs']>10000000].index,inplace=True)"
   ]
  },
  {
   "cell_type": "code",
   "execution_count": 51,
   "id": "b5fe213b-6f97-492d-9c0c-08bf01363a84",
   "metadata": {
    "ExecuteTime": {
     "end_time": "2022-09-24T16:22:34.127492Z",
     "start_time": "2022-09-24T16:22:34.070486Z"
    }
   },
   "outputs": [
    {
     "name": "stdout",
     "output_type": "stream",
     "text": [
      "<class 'pandas.core.frame.DataFrame'>\n",
      "Int64Index: 8496 entries, 0 to 9352\n",
      "Data columns (total 13 columns):\n",
      " #   Column          Non-Null Count  Dtype  \n",
      "---  ------          --------------  -----  \n",
      " 0   App             8496 non-null   object \n",
      " 1   Category        8496 non-null   object \n",
      " 2   Rating          8496 non-null   float64\n",
      " 3   Reviews         8496 non-null   int64  \n",
      " 4   Size            8496 non-null   float64\n",
      " 5   Installs        8496 non-null   int64  \n",
      " 6   Type            8496 non-null   object \n",
      " 7   Price           8496 non-null   float64\n",
      " 8   Content Rating  8496 non-null   object \n",
      " 9   Genres          8496 non-null   object \n",
      " 10  Last Updated    8496 non-null   object \n",
      " 11  Current Ver     8496 non-null   object \n",
      " 12  Android Ver     8496 non-null   object \n",
      "dtypes: float64(3), int64(2), object(8)\n",
      "memory usage: 929.2+ KB\n"
     ]
    }
   ],
   "source": [
    "df.info()"
   ]
  },
  {
   "cell_type": "markdown",
   "id": "c75b0b00-9bcb-4fc7-bda5-105aecc96327",
   "metadata": {},
   "source": [
    "### 7.1 Make scatter plot/joinplot for Rating vs. Price\n",
    "\n",
    "        *What pattern do you observe? Does rating increase with price?"
   ]
  },
  {
   "cell_type": "code",
   "execution_count": 52,
   "id": "65dceea6-a6a0-47bf-8d60-9dd7491d320f",
   "metadata": {
    "ExecuteTime": {
     "end_time": "2022-09-24T16:22:57.883072Z",
     "start_time": "2022-09-24T16:22:57.721388Z"
    }
   },
   "outputs": [
    {
     "data": {
      "text/plain": [
       "<AxesSubplot:xlabel='Rating', ylabel='Price'>"
      ]
     },
     "execution_count": 52,
     "metadata": {},
     "output_type": "execute_result"
    },
    {
     "data": {
      "image/png": "[encoded data removed]",
      "text/plain": [
       "<Figure size 640x480 with 1 Axes>"
      ]
     },
     "metadata": {},
     "output_type": "display_data"
    }
   ],
   "source": [
    "sns.scatterplot(x='Rating',y='Price',data=df)"
   ]
  },
  {
   "cell_type": "code",
   "execution_count": 53,
   "id": "b3ae9c8f-a8df-4beb-bc73-83e77b367286",
   "metadata": {
    "ExecuteTime": {
     "end_time": "2022-09-24T16:23:01.138369Z",
     "start_time": "2022-09-24T16:23:00.702313Z"
    }
   },
   "outputs": [
    {
     "data": {
      "text/plain": [
       "<seaborn.axisgrid.JointGrid at 0x7fe4ff4a3fa0>"
      ]
     },
     "execution_count": 53,
     "metadata": {},
     "output_type": "execute_result"
    },
    {
     "data": {
      "image/png": "[encoded data removed]",
      "text/plain": [
       "<Figure size 600x600 with 3 Axes>"
      ]
     },
     "metadata": {},
     "output_type": "display_data"
    }
   ],
   "source": [
    "sns.jointplot(x='Rating',y='Price',data=df)"
   ]
  },
  {
   "cell_type": "markdown",
   "id": "0b138c25-2b74-462f-ad58-cfa7e99fe917",
   "metadata": {},
   "source": [
    "\n",
    "yes ,paid apps are higher rating compared to free apps"
   ]
  },
  {
   "cell_type": "markdown",
   "id": "ab1203be-294c-4ced-a708-ee19b0a33d5e",
   "metadata": {},
   "source": [
    "### 7.2 Make scatter plot/joinplot for Rating vs. Size\n",
    "\n",
    "          *Are heavier apps rated better?"
   ]
  },
  {
   "cell_type": "markdown",
   "id": "2bfdf142-5bd8-4561-83c5-37966695bfc2",
   "metadata": {},
   "source": [
    "sns.scatterplot(x='Rating',y='Size',data=df)"
   ]
  },
  {
   "cell_type": "code",
   "execution_count": 54,
   "id": "e6153a35-9858-4aaf-b63d-be6bf9514ff9",
   "metadata": {
    "ExecuteTime": {
     "end_time": "2022-09-24T16:23:32.221013Z",
     "start_time": "2022-09-24T16:23:31.754686Z"
    }
   },
   "outputs": [
    {
     "data": {
      "text/plain": [
       "<seaborn.axisgrid.JointGrid at 0x7fe4fca60ca0>"
      ]
     },
     "execution_count": 54,
     "metadata": {},
     "output_type": "execute_result"
    },
    {
     "data": {
      "image/png": "[encoded data removed]",
      "text/plain": [
       "<Figure size 600x600 with 3 Axes>"
      ]
     },
     "metadata": {},
     "output_type": "display_data"
    }
   ],
   "source": [
    "sns.jointplot(x='Rating',y='Size',data=df)"
   ]
  },
  {
   "cell_type": "markdown",
   "id": "92860819-a9fa-48be-9382-5e1867d95deb",
   "metadata": {},
   "source": [
    "yes from the plot it seems heavier appa are rated better"
   ]
  },
  {
   "cell_type": "markdown",
   "id": "0965da19-b5fa-4d60-b3d6-f8237c231ca4",
   "metadata": {},
   "source": [
    "### 7.4 Make boxplot for Rating vs. Content Rating\n",
    "\n",
    "          *Is there any difference in the ratings? Are some types liked better?"
   ]
  },
  {
   "cell_type": "code",
   "execution_count": 165,
   "id": "5206b790",
   "metadata": {
    "ExecuteTime": {
     "end_time": "2022-09-25T06:08:15.803971Z",
     "start_time": "2022-09-25T06:08:15.795416Z"
    }
   },
   "outputs": [
    {
     "data": {
      "text/plain": [
       "0        4.1\n",
       "1        3.9\n",
       "2        4.7\n",
       "4        4.3\n",
       "5        4.4\n",
       "        ... \n",
       "10833    4.8\n",
       "10834    4.0\n",
       "10836    4.5\n",
       "10837    5.0\n",
       "10840    4.5\n",
       "Name: Rating, Length: 7414, dtype: float64"
      ]
     },
     "execution_count": 165,
     "metadata": {},
     "output_type": "execute_result"
    }
   ],
   "source": [
    "df[df['Content Rating'] == 'Everyone']['Rating']"
   ]
  },
  {
   "cell_type": "code",
   "execution_count": 55,
   "id": "76bb6fea-7382-4988-97e0-801380ad9c2e",
   "metadata": {
    "ExecuteTime": {
     "end_time": "2022-09-24T16:24:33.262927Z",
     "start_time": "2022-09-24T16:24:33.091236Z"
    }
   },
   "outputs": [
    {
     "data": {
      "text/plain": [
       "<AxesSubplot:xlabel='Rating', ylabel='Content Rating'>"
      ]
     },
     "execution_count": 55,
     "metadata": {},
     "output_type": "execute_result"
    },
    {
     "data": {
      "image/png": "[encoded data removed]",
      "text/plain": [
       "<Figure size 640x480 with 1 Axes>"
      ]
     },
     "metadata": {},
     "output_type": "display_data"
    }
   ],
   "source": [
    "sns.boxplot(x='Rating',y='Content Rating',data=df)"
   ]
  },
  {
   "cell_type": "markdown",
   "id": "62a29ac1-e24a-4c1f-ad1d-d0eef64942b6",
   "metadata": {},
   "source": [
    "Apps which are for everyone has more bad ratings compare to other sections as it has so much outliers value, while 18+ apps have better ratings."
   ]
  },
  {
   "cell_type": "markdown",
   "id": "f255e48b-7cce-48cc-adb6-c1e84b44552a",
   "metadata": {},
   "source": [
    "### 7.3 Make scatter plot/joinplot for Rating vs. Reviews\n",
    "\n",
    "            *Does more review mean a better rating always?"
   ]
  },
  {
   "cell_type": "code",
   "execution_count": 57,
   "id": "4a359319-72c8-4ef8-b4fe-e71a68725af9",
   "metadata": {
    "ExecuteTime": {
     "end_time": "2022-09-24T16:26:00.817352Z",
     "start_time": "2022-09-24T16:26:00.568000Z"
    }
   },
   "outputs": [
    {
     "data": {
      "text/plain": [
       "<AxesSubplot:xlabel='Rating', ylabel='Reviews'>"
      ]
     },
     "execution_count": 57,
     "metadata": {},
     "output_type": "execute_result"
    },
    {
     "data": {
      "image/png": "[encoded data removed]",
      "text/plain": [
       "<Figure size 640x480 with 1 Axes>"
      ]
     },
     "metadata": {},
     "output_type": "display_data"
    }
   ],
   "source": [
    "sns.scatterplot(x='Rating',y='Reviews',data=df)"
   ]
  },
  {
   "cell_type": "code",
   "execution_count": 58,
   "id": "bd5407f4-ef26-4a3a-b2fd-b5957784573c",
   "metadata": {
    "ExecuteTime": {
     "end_time": "2022-09-24T16:26:07.792006Z",
     "start_time": "2022-09-24T16:26:06.863288Z"
    }
   },
   "outputs": [
    {
     "data": {
      "text/plain": [
       "<seaborn.axisgrid.JointGrid at 0x7fe4fcabaa00>"
      ]
     },
     "execution_count": 58,
     "metadata": {},
     "output_type": "execute_result"
    },
    {
     "data": {
      "image/png": "[encoded data removed]",
      "text/plain": [
       "<Figure size 600x600 with 3 Axes>"
      ]
     },
     "metadata": {},
     "output_type": "display_data"
    }
   ],
   "source": [
    "sns.jointplot(x='Rating',y='Reviews',data=df)"
   ]
  },
  {
   "cell_type": "markdown",
   "id": "f1961cea-70db-4185-8399-5eaa8055c586",
   "metadata": {},
   "source": [
    "It is clear that more reviews makes app rating better."
   ]
  },
  {
   "cell_type": "markdown",
   "id": "ad11e798-f1d7-4d4f-a019-82ff8d4dbcda",
   "metadata": {},
   "source": [
    "### 7.5 Make boxplot for Ratings vs. Category\n",
    "\n",
    "          *Which genre has the best ratings?"
   ]
  },
  {
   "cell_type": "code",
   "execution_count": 59,
   "id": "fcbde748-ed51-4791-b8ef-330cd373f7f2",
   "metadata": {
    "ExecuteTime": {
     "end_time": "2022-09-24T16:26:17.443845Z",
     "start_time": "2022-09-24T16:26:16.995059Z"
    }
   },
   "outputs": [
    {
     "data": {
      "text/plain": [
       "<AxesSubplot:xlabel='Rating', ylabel='Category'>"
      ]
     },
     "execution_count": 59,
     "metadata": {},
     "output_type": "execute_result"
    },
    {
     "data": {
      "image/png": "[encoded data removed]",
      "text/plain": [
       "<Figure size 640x480 with 1 Axes>"
      ]
     },
     "metadata": {},
     "output_type": "display_data"
    }
   ],
   "source": [
    "sns.boxplot(x='Rating',y='Category',data=df)\n"
   ]
  },
  {
   "cell_type": "code",
   "execution_count": 68,
   "id": "4413b910-800a-47d2-8649-6752b700df29",
   "metadata": {
    "ExecuteTime": {
     "end_time": "2022-09-24T16:27:47.786181Z",
     "start_time": "2022-09-24T16:27:47.782915Z"
    }
   },
   "outputs": [
    {
     "name": "stdout",
     "output_type": "stream",
     "text": [
      "Before, figure default size is:  [20.0, 20.0]\n",
      "After, figure default size is:  [10.0, 20.0]\n"
     ]
    }
   ],
   "source": [
    "print(\"Before, figure default size is: \", plt.rcParams[\"figure.figsize\"])\n",
    "plt.rcParams[\"figure.figsize\"] = (10, 20)\n",
    "print(\"After, figure default size is: \", plt.rcParams[\"figure.figsize\"])"
   ]
  },
  {
   "cell_type": "code",
   "execution_count": 69,
   "id": "540b0c3a-ac88-4bdd-abef-0f427f42fa73",
   "metadata": {
    "ExecuteTime": {
     "end_time": "2022-09-24T16:27:48.470840Z",
     "start_time": "2022-09-24T16:27:48.001054Z"
    }
   },
   "outputs": [
    {
     "data": {
      "text/plain": [
       "<AxesSubplot:xlabel='Rating', ylabel='Category'>"
      ]
     },
     "execution_count": 69,
     "metadata": {},
     "output_type": "execute_result"
    },
    {
     "data": {
      "image/png": "[encoded data removed]",
      "text/plain": [
       "<Figure size 1000x2000 with 1 Axes>"
      ]
     },
     "metadata": {},
     "output_type": "display_data"
    }
   ],
   "source": [
    "\n",
    "sns.boxplot(x='Rating',y='Category',data=df)"
   ]
  },
  {
   "cell_type": "markdown",
   "id": "aad22fd1-77ff-4029-be80-fc75f9e822c3",
   "metadata": {},
   "source": [
    "\n",
    "Events apps had best rating"
   ]
  },
  {
   "cell_type": "markdown",
   "id": "f987772a-948e-4d74-b10c-e006cacd3d13",
   "metadata": {},
   "source": [
    "### 8.Data preprocessing"
   ]
  },
  {
   "cell_type": "code",
   "execution_count": 74,
   "id": "4824ab3c-dfaa-4a74-b669-de4a9244f47f",
   "metadata": {
    "ExecuteTime": {
     "end_time": "2022-09-24T16:34:08.287749Z",
     "start_time": "2022-09-24T16:34:08.279650Z"
    }
   },
   "outputs": [],
   "source": [
    "\n",
    "\n",
    "cop1=df.copy()"
   ]
  },
  {
   "cell_type": "code",
   "execution_count": 75,
   "id": "63a543b6-9349-4b45-99c1-b00897213407",
   "metadata": {
    "ExecuteTime": {
     "end_time": "2022-09-24T16:34:08.424566Z",
     "start_time": "2022-09-24T16:34:08.422337Z"
    }
   },
   "outputs": [],
   "source": [
    "inp1=cop1"
   ]
  },
  {
   "cell_type": "code",
   "execution_count": 76,
   "id": "c17ac681-9966-4fed-a835-3883d602c7d0",
   "metadata": {
    "ExecuteTime": {
     "end_time": "2022-09-24T16:34:08.573730Z",
     "start_time": "2022-09-24T16:34:08.560406Z"
    }
   },
   "outputs": [
    {
     "data": {
      "text/html": [
       "<div>\n",
       "<style scoped>\n",
       "    .dataframe tbody tr th:only-of-type {\n",
       "        vertical-align: middle;\n",
       "    }\n",
       "\n",
       "    .dataframe tbody tr th {\n",
       "        vertical-align: top;\n",
       "    }\n",
       "\n",
       "    .dataframe thead th {\n",
       "        text-align: right;\n",
       "    }\n",
       "</style>\n",
       "<table border=\"1\" class=\"dataframe\">\n",
       "  <thead>\n",
       "    <tr style=\"text-align: right;\">\n",
       "      <th></th>\n",
       "      <th>App</th>\n",
       "      <th>Category</th>\n",
       "      <th>Rating</th>\n",
       "      <th>Reviews</th>\n",
       "      <th>Size</th>\n",
       "      <th>Installs</th>\n",
       "      <th>Type</th>\n",
       "      <th>Price</th>\n",
       "      <th>Content Rating</th>\n",
       "      <th>Genres</th>\n",
       "      <th>Last Updated</th>\n",
       "      <th>Current Ver</th>\n",
       "      <th>Android Ver</th>\n",
       "    </tr>\n",
       "  </thead>\n",
       "  <tbody>\n",
       "    <tr>\n",
       "      <th>0</th>\n",
       "      <td>Photo Editor &amp; Candy Camera &amp; Grid &amp; ScrapBook</td>\n",
       "      <td>ART_AND_DESIGN</td>\n",
       "      <td>4.1</td>\n",
       "      <td>159</td>\n",
       "      <td>19000.0</td>\n",
       "      <td>10000</td>\n",
       "      <td>Free</td>\n",
       "      <td>0.0</td>\n",
       "      <td>Everyone</td>\n",
       "      <td>Art &amp; Design</td>\n",
       "      <td>January 7, 2018</td>\n",
       "      <td>1.0.0</td>\n",
       "      <td>4.0.3 and up</td>\n",
       "    </tr>\n",
       "    <tr>\n",
       "      <th>1</th>\n",
       "      <td>Coloring book moana</td>\n",
       "      <td>ART_AND_DESIGN</td>\n",
       "      <td>3.9</td>\n",
       "      <td>967</td>\n",
       "      <td>14000.0</td>\n",
       "      <td>500000</td>\n",
       "      <td>Free</td>\n",
       "      <td>0.0</td>\n",
       "      <td>Everyone</td>\n",
       "      <td>Art &amp; Design;Pretend Play</td>\n",
       "      <td>January 15, 2018</td>\n",
       "      <td>2.0.0</td>\n",
       "      <td>4.0.3 and up</td>\n",
       "    </tr>\n",
       "    <tr>\n",
       "      <th>2</th>\n",
       "      <td>U Launcher Lite – FREE Live Cool Themes, Hide ...</td>\n",
       "      <td>ART_AND_DESIGN</td>\n",
       "      <td>4.7</td>\n",
       "      <td>87510</td>\n",
       "      <td>8700.0</td>\n",
       "      <td>5000000</td>\n",
       "      <td>Free</td>\n",
       "      <td>0.0</td>\n",
       "      <td>Everyone</td>\n",
       "      <td>Art &amp; Design</td>\n",
       "      <td>August 1, 2018</td>\n",
       "      <td>1.2.4</td>\n",
       "      <td>4.0.3 and up</td>\n",
       "    </tr>\n",
       "    <tr>\n",
       "      <th>4</th>\n",
       "      <td>Pixel Draw - Number Art Coloring Book</td>\n",
       "      <td>ART_AND_DESIGN</td>\n",
       "      <td>4.3</td>\n",
       "      <td>967</td>\n",
       "      <td>2800.0</td>\n",
       "      <td>100000</td>\n",
       "      <td>Free</td>\n",
       "      <td>0.0</td>\n",
       "      <td>Everyone</td>\n",
       "      <td>Art &amp; Design;Creativity</td>\n",
       "      <td>June 20, 2018</td>\n",
       "      <td>1.1</td>\n",
       "      <td>4.4 and up</td>\n",
       "    </tr>\n",
       "    <tr>\n",
       "      <th>5</th>\n",
       "      <td>Paper flowers instructions</td>\n",
       "      <td>ART_AND_DESIGN</td>\n",
       "      <td>4.4</td>\n",
       "      <td>167</td>\n",
       "      <td>5600.0</td>\n",
       "      <td>50000</td>\n",
       "      <td>Free</td>\n",
       "      <td>0.0</td>\n",
       "      <td>Everyone</td>\n",
       "      <td>Art &amp; Design</td>\n",
       "      <td>March 26, 2017</td>\n",
       "      <td>1.0</td>\n",
       "      <td>2.3 and up</td>\n",
       "    </tr>\n",
       "    <tr>\n",
       "      <th>...</th>\n",
       "      <td>...</td>\n",
       "      <td>...</td>\n",
       "      <td>...</td>\n",
       "      <td>...</td>\n",
       "      <td>...</td>\n",
       "      <td>...</td>\n",
       "      <td>...</td>\n",
       "      <td>...</td>\n",
       "      <td>...</td>\n",
       "      <td>...</td>\n",
       "      <td>...</td>\n",
       "      <td>...</td>\n",
       "      <td>...</td>\n",
       "    </tr>\n",
       "    <tr>\n",
       "      <th>9348</th>\n",
       "      <td>FR Calculator</td>\n",
       "      <td>FAMILY</td>\n",
       "      <td>4.0</td>\n",
       "      <td>7</td>\n",
       "      <td>2600.0</td>\n",
       "      <td>500</td>\n",
       "      <td>Free</td>\n",
       "      <td>0.0</td>\n",
       "      <td>Everyone</td>\n",
       "      <td>Education</td>\n",
       "      <td>June 18, 2017</td>\n",
       "      <td>1.0.0</td>\n",
       "      <td>4.1 and up</td>\n",
       "    </tr>\n",
       "    <tr>\n",
       "      <th>9349</th>\n",
       "      <td>Sya9a Maroc - FR</td>\n",
       "      <td>FAMILY</td>\n",
       "      <td>4.5</td>\n",
       "      <td>38</td>\n",
       "      <td>53000.0</td>\n",
       "      <td>5000</td>\n",
       "      <td>Free</td>\n",
       "      <td>0.0</td>\n",
       "      <td>Everyone</td>\n",
       "      <td>Education</td>\n",
       "      <td>July 25, 2017</td>\n",
       "      <td>1.48</td>\n",
       "      <td>4.1 and up</td>\n",
       "    </tr>\n",
       "    <tr>\n",
       "      <th>9350</th>\n",
       "      <td>Fr. Mike Schmitz Audio Teachings</td>\n",
       "      <td>FAMILY</td>\n",
       "      <td>5.0</td>\n",
       "      <td>4</td>\n",
       "      <td>3600.0</td>\n",
       "      <td>100</td>\n",
       "      <td>Free</td>\n",
       "      <td>0.0</td>\n",
       "      <td>Everyone</td>\n",
       "      <td>Education</td>\n",
       "      <td>July 6, 2018</td>\n",
       "      <td>1.0</td>\n",
       "      <td>4.1 and up</td>\n",
       "    </tr>\n",
       "    <tr>\n",
       "      <th>9351</th>\n",
       "      <td>The SCP Foundation DB fr nn5n</td>\n",
       "      <td>BOOKS_AND_REFERENCE</td>\n",
       "      <td>4.5</td>\n",
       "      <td>114</td>\n",
       "      <td>0.0</td>\n",
       "      <td>1000</td>\n",
       "      <td>Free</td>\n",
       "      <td>0.0</td>\n",
       "      <td>Mature 17+</td>\n",
       "      <td>Books &amp; Reference</td>\n",
       "      <td>January 19, 2015</td>\n",
       "      <td>Varies with device</td>\n",
       "      <td>Varies with device</td>\n",
       "    </tr>\n",
       "    <tr>\n",
       "      <th>9352</th>\n",
       "      <td>iHoroscope - 2018 Daily Horoscope &amp; Astrology</td>\n",
       "      <td>LIFESTYLE</td>\n",
       "      <td>4.5</td>\n",
       "      <td>398307</td>\n",
       "      <td>19000.0</td>\n",
       "      <td>10000000</td>\n",
       "      <td>Free</td>\n",
       "      <td>0.0</td>\n",
       "      <td>Everyone</td>\n",
       "      <td>Lifestyle</td>\n",
       "      <td>July 25, 2018</td>\n",
       "      <td>Varies with device</td>\n",
       "      <td>Varies with device</td>\n",
       "    </tr>\n",
       "  </tbody>\n",
       "</table>\n",
       "<p>8496 rows × 13 columns</p>\n",
       "</div>"
      ],
      "text/plain": [
       "                                                    App             Category  \\\n",
       "0        Photo Editor & Candy Camera & Grid & ScrapBook       ART_AND_DESIGN   \n",
       "1                                   Coloring book moana       ART_AND_DESIGN   \n",
       "2     U Launcher Lite – FREE Live Cool Themes, Hide ...       ART_AND_DESIGN   \n",
       "4                 Pixel Draw - Number Art Coloring Book       ART_AND_DESIGN   \n",
       "5                            Paper flowers instructions       ART_AND_DESIGN   \n",
       "...                                                 ...                  ...   \n",
       "9348                                      FR Calculator               FAMILY   \n",
       "9349                                   Sya9a Maroc - FR               FAMILY   \n",
       "9350                   Fr. Mike Schmitz Audio Teachings               FAMILY   \n",
       "9351                      The SCP Foundation DB fr nn5n  BOOKS_AND_REFERENCE   \n",
       "9352      iHoroscope - 2018 Daily Horoscope & Astrology            LIFESTYLE   \n",
       "\n",
       "      Rating  Reviews     Size  Installs  Type  Price Content Rating  \\\n",
       "0        4.1      159  19000.0     10000  Free    0.0       Everyone   \n",
       "1        3.9      967  14000.0    500000  Free    0.0       Everyone   \n",
       "2        4.7    87510   8700.0   5000000  Free    0.0       Everyone   \n",
       "4        4.3      967   2800.0    100000  Free    0.0       Everyone   \n",
       "5        4.4      167   5600.0     50000  Free    0.0       Everyone   \n",
       "...      ...      ...      ...       ...   ...    ...            ...   \n",
       "9348     4.0        7   2600.0       500  Free    0.0       Everyone   \n",
       "9349     4.5       38  53000.0      5000  Free    0.0       Everyone   \n",
       "9350     5.0        4   3600.0       100  Free    0.0       Everyone   \n",
       "9351     4.5      114      0.0      1000  Free    0.0     Mature 17+   \n",
       "9352     4.5   398307  19000.0  10000000  Free    0.0       Everyone   \n",
       "\n",
       "                         Genres      Last Updated         Current Ver  \\\n",
       "0                  Art & Design   January 7, 2018               1.0.0   \n",
       "1     Art & Design;Pretend Play  January 15, 2018               2.0.0   \n",
       "2                  Art & Design    August 1, 2018               1.2.4   \n",
       "4       Art & Design;Creativity     June 20, 2018                 1.1   \n",
       "5                  Art & Design    March 26, 2017                 1.0   \n",
       "...                         ...               ...                 ...   \n",
       "9348                  Education     June 18, 2017               1.0.0   \n",
       "9349                  Education     July 25, 2017                1.48   \n",
       "9350                  Education      July 6, 2018                 1.0   \n",
       "9351          Books & Reference  January 19, 2015  Varies with device   \n",
       "9352                  Lifestyle     July 25, 2018  Varies with device   \n",
       "\n",
       "             Android Ver  \n",
       "0           4.0.3 and up  \n",
       "1           4.0.3 and up  \n",
       "2           4.0.3 and up  \n",
       "4             4.4 and up  \n",
       "5             2.3 and up  \n",
       "...                  ...  \n",
       "9348          4.1 and up  \n",
       "9349          4.1 and up  \n",
       "9350          4.1 and up  \n",
       "9351  Varies with device  \n",
       "9352  Varies with device  \n",
       "\n",
       "[8496 rows x 13 columns]"
      ]
     },
     "execution_count": 76,
     "metadata": {},
     "output_type": "execute_result"
    }
   ],
   "source": [
    "inp1"
   ]
  },
  {
   "cell_type": "markdown",
   "id": "64648586-2154-4ced-80ef-bf95a21d4d06",
   "metadata": {},
   "source": [
    "\n",
    "### 8.1 Reviews and Install have some values that are still relatively very high. Before building a linear regression model, you need to reduce the skew. Apply log transformation (np.log1p) to Reviews and Installs."
   ]
  },
  {
   "cell_type": "code",
   "execution_count": 77,
   "id": "513bce4f-b22a-4749-8c86-ce1aa25de43b",
   "metadata": {
    "ExecuteTime": {
     "end_time": "2022-09-24T16:34:08.915036Z",
     "start_time": "2022-09-24T16:34:08.906506Z"
    }
   },
   "outputs": [
    {
     "data": {
      "text/plain": [
       "0          159\n",
       "1          967\n",
       "2        87510\n",
       "4          967\n",
       "5          167\n",
       "         ...  \n",
       "9348         7\n",
       "9349        38\n",
       "9350         4\n",
       "9351       114\n",
       "9352    398307\n",
       "Name: Reviews, Length: 8496, dtype: int64"
      ]
     },
     "execution_count": 77,
     "metadata": {},
     "output_type": "execute_result"
    }
   ],
   "source": [
    "inp1['Reviews']"
   ]
  },
  {
   "cell_type": "code",
   "execution_count": 78,
   "id": "29e44796-dba8-418d-9384-c3624ec8cfba",
   "metadata": {
    "ExecuteTime": {
     "end_time": "2022-09-24T16:34:09.072816Z",
     "start_time": "2022-09-24T16:34:09.070273Z"
    }
   },
   "outputs": [],
   "source": [
    "inp1['Reviews']=np.log1p(inp1['Reviews'])"
   ]
  },
  {
   "cell_type": "code",
   "execution_count": 79,
   "id": "c7049960-c6e4-4056-af9f-c8f5d992a2c7",
   "metadata": {
    "ExecuteTime": {
     "end_time": "2022-09-24T16:34:09.235762Z",
     "start_time": "2022-09-24T16:34:09.231196Z"
    }
   },
   "outputs": [
    {
     "data": {
      "text/plain": [
       "0        5.075174\n",
       "1        6.875232\n",
       "2       11.379520\n",
       "4        6.875232\n",
       "5        5.123964\n",
       "          ...    \n",
       "9348     2.079442\n",
       "9349     3.663562\n",
       "9350     1.609438\n",
       "9351     4.744932\n",
       "9352    12.894981\n",
       "Name: Reviews, Length: 8496, dtype: float64"
      ]
     },
     "execution_count": 79,
     "metadata": {},
     "output_type": "execute_result"
    }
   ],
   "source": [
    "reviewskew=inp1['Reviews']\n",
    "reviewskew"
   ]
  },
  {
   "cell_type": "code",
   "execution_count": 80,
   "id": "f191b890-6f9e-4b64-a0d4-56cc552cbc29",
   "metadata": {
    "ExecuteTime": {
     "end_time": "2022-09-24T16:34:09.420192Z",
     "start_time": "2022-09-24T16:34:09.415853Z"
    }
   },
   "outputs": [
    {
     "data": {
      "text/plain": [
       "0          10000\n",
       "1         500000\n",
       "2        5000000\n",
       "4         100000\n",
       "5          50000\n",
       "          ...   \n",
       "9348         500\n",
       "9349        5000\n",
       "9350         100\n",
       "9351        1000\n",
       "9352    10000000\n",
       "Name: Installs, Length: 8496, dtype: int64"
      ]
     },
     "execution_count": 80,
     "metadata": {},
     "output_type": "execute_result"
    }
   ],
   "source": [
    "inp1['Installs']"
   ]
  },
  {
   "cell_type": "code",
   "execution_count": 81,
   "id": "51f57d4d-447a-4305-96fc-c33a4849df19",
   "metadata": {
    "ExecuteTime": {
     "end_time": "2022-09-24T16:34:09.605967Z",
     "start_time": "2022-09-24T16:34:09.602402Z"
    }
   },
   "outputs": [],
   "source": [
    "inp1['Installs']=np.log1p(inp1['Installs'])"
   ]
  },
  {
   "cell_type": "code",
   "execution_count": 82,
   "id": "aa3bfb6d-8217-4160-9995-db5fbf20336f",
   "metadata": {
    "ExecuteTime": {
     "end_time": "2022-09-24T16:34:09.806816Z",
     "start_time": "2022-09-24T16:34:09.799624Z"
    }
   },
   "outputs": [
    {
     "data": {
      "text/plain": [
       "0        9.210440\n",
       "1       13.122365\n",
       "2       15.424949\n",
       "4       11.512935\n",
       "5       10.819798\n",
       "          ...    \n",
       "9348     6.216606\n",
       "9349     8.517393\n",
       "9350     4.615121\n",
       "9351     6.908755\n",
       "9352    16.118096\n",
       "Name: Installs, Length: 8496, dtype: float64"
      ]
     },
     "execution_count": 82,
     "metadata": {},
     "output_type": "execute_result"
    }
   ],
   "source": [
    "installskew=inp1['Installs']\n",
    "installskew"
   ]
  },
  {
   "cell_type": "code",
   "execution_count": 83,
   "id": "bd05e14f-8a22-4942-bfee-c0eed8e253af",
   "metadata": {
    "ExecuteTime": {
     "end_time": "2022-09-24T16:34:10.540993Z",
     "start_time": "2022-09-24T16:34:10.528809Z"
    }
   },
   "outputs": [
    {
     "data": {
      "text/plain": [
       "-0.20039949659264134"
      ]
     },
     "execution_count": 83,
     "metadata": {},
     "output_type": "execute_result"
    }
   ],
   "source": [
    "reviewskew.skew()"
   ]
  },
  {
   "cell_type": "code",
   "execution_count": 84,
   "id": "43227ee8-ba37-4c5e-b1c7-4408c2e78c52",
   "metadata": {
    "ExecuteTime": {
     "end_time": "2022-09-24T16:34:10.680087Z",
     "start_time": "2022-09-24T16:34:10.676611Z"
    }
   },
   "outputs": [
    {
     "data": {
      "text/plain": [
       "-0.5097286542754812"
      ]
     },
     "execution_count": 84,
     "metadata": {},
     "output_type": "execute_result"
    }
   ],
   "source": [
    "installskew.skew()"
   ]
  },
  {
   "cell_type": "markdown",
   "id": "846f5011-4088-4c30-9a8c-1c98fbb631cf",
   "metadata": {},
   "source": [
    "### 8.2 Drop columns App, Last Updated, Current Ver, and Android Ver. These variables are not useful for our task."
   ]
  },
  {
   "cell_type": "code",
   "execution_count": 85,
   "id": "fe95c601-ba5b-4f8c-ad0b-680ec6397781",
   "metadata": {
    "ExecuteTime": {
     "end_time": "2022-09-24T16:34:11.511574Z",
     "start_time": "2022-09-24T16:34:11.501121Z"
    }
   },
   "outputs": [],
   "source": [
    "inp1.drop( ['App','Last Updated','Current Ver','Android Ver','Type'],axis=1,inplace=True)"
   ]
  },
  {
   "cell_type": "code",
   "execution_count": 86,
   "id": "4e49373d-d6d0-4546-99d3-b4467c6e94f2",
   "metadata": {
    "ExecuteTime": {
     "end_time": "2022-09-24T16:34:11.927662Z",
     "start_time": "2022-09-24T16:34:11.911809Z"
    }
   },
   "outputs": [
    {
     "data": {
      "text/html": [
       "<div>\n",
       "<style scoped>\n",
       "    .dataframe tbody tr th:only-of-type {\n",
       "        vertical-align: middle;\n",
       "    }\n",
       "\n",
       "    .dataframe tbody tr th {\n",
       "        vertical-align: top;\n",
       "    }\n",
       "\n",
       "    .dataframe thead th {\n",
       "        text-align: right;\n",
       "    }\n",
       "</style>\n",
       "<table border=\"1\" class=\"dataframe\">\n",
       "  <thead>\n",
       "    <tr style=\"text-align: right;\">\n",
       "      <th></th>\n",
       "      <th>Category</th>\n",
       "      <th>Rating</th>\n",
       "      <th>Reviews</th>\n",
       "      <th>Size</th>\n",
       "      <th>Installs</th>\n",
       "      <th>Price</th>\n",
       "      <th>Content Rating</th>\n",
       "      <th>Genres</th>\n",
       "    </tr>\n",
       "  </thead>\n",
       "  <tbody>\n",
       "    <tr>\n",
       "      <th>0</th>\n",
       "      <td>ART_AND_DESIGN</td>\n",
       "      <td>4.1</td>\n",
       "      <td>5.075174</td>\n",
       "      <td>19000.0</td>\n",
       "      <td>9.210440</td>\n",
       "      <td>0.0</td>\n",
       "      <td>Everyone</td>\n",
       "      <td>Art &amp; Design</td>\n",
       "    </tr>\n",
       "    <tr>\n",
       "      <th>1</th>\n",
       "      <td>ART_AND_DESIGN</td>\n",
       "      <td>3.9</td>\n",
       "      <td>6.875232</td>\n",
       "      <td>14000.0</td>\n",
       "      <td>13.122365</td>\n",
       "      <td>0.0</td>\n",
       "      <td>Everyone</td>\n",
       "      <td>Art &amp; Design;Pretend Play</td>\n",
       "    </tr>\n",
       "    <tr>\n",
       "      <th>2</th>\n",
       "      <td>ART_AND_DESIGN</td>\n",
       "      <td>4.7</td>\n",
       "      <td>11.379520</td>\n",
       "      <td>8700.0</td>\n",
       "      <td>15.424949</td>\n",
       "      <td>0.0</td>\n",
       "      <td>Everyone</td>\n",
       "      <td>Art &amp; Design</td>\n",
       "    </tr>\n",
       "    <tr>\n",
       "      <th>4</th>\n",
       "      <td>ART_AND_DESIGN</td>\n",
       "      <td>4.3</td>\n",
       "      <td>6.875232</td>\n",
       "      <td>2800.0</td>\n",
       "      <td>11.512935</td>\n",
       "      <td>0.0</td>\n",
       "      <td>Everyone</td>\n",
       "      <td>Art &amp; Design;Creativity</td>\n",
       "    </tr>\n",
       "    <tr>\n",
       "      <th>5</th>\n",
       "      <td>ART_AND_DESIGN</td>\n",
       "      <td>4.4</td>\n",
       "      <td>5.123964</td>\n",
       "      <td>5600.0</td>\n",
       "      <td>10.819798</td>\n",
       "      <td>0.0</td>\n",
       "      <td>Everyone</td>\n",
       "      <td>Art &amp; Design</td>\n",
       "    </tr>\n",
       "  </tbody>\n",
       "</table>\n",
       "</div>"
      ],
      "text/plain": [
       "         Category  Rating    Reviews     Size   Installs  Price  \\\n",
       "0  ART_AND_DESIGN     4.1   5.075174  19000.0   9.210440    0.0   \n",
       "1  ART_AND_DESIGN     3.9   6.875232  14000.0  13.122365    0.0   \n",
       "2  ART_AND_DESIGN     4.7  11.379520   8700.0  15.424949    0.0   \n",
       "4  ART_AND_DESIGN     4.3   6.875232   2800.0  11.512935    0.0   \n",
       "5  ART_AND_DESIGN     4.4   5.123964   5600.0  10.819798    0.0   \n",
       "\n",
       "  Content Rating                     Genres  \n",
       "0       Everyone               Art & Design  \n",
       "1       Everyone  Art & Design;Pretend Play  \n",
       "2       Everyone               Art & Design  \n",
       "4       Everyone    Art & Design;Creativity  \n",
       "5       Everyone               Art & Design  "
      ]
     },
     "execution_count": 86,
     "metadata": {},
     "output_type": "execute_result"
    }
   ],
   "source": [
    "inp1.head()"
   ]
  },
  {
   "cell_type": "markdown",
   "id": "2a767a02-c26c-4cc9-82c1-53978e814991",
   "metadata": {},
   "source": [
    "\n",
    "### 8.3 Get dummy columns for Category, Genres, and Content Rating. This needs to be done as the models do not understand categorical data, and all data should be numeric. Dummy encoding is one way to convert character fields to numeric. Name of dataframe should be inp2."
   ]
  },
  {
   "cell_type": "code",
   "execution_count": 87,
   "id": "64e3d0db-44f9-4548-8385-fb4844f482ab",
   "metadata": {
    "ExecuteTime": {
     "end_time": "2022-09-24T16:34:12.488764Z",
     "start_time": "2022-09-24T16:34:12.464221Z"
    }
   },
   "outputs": [
    {
     "data": {
      "text/html": [
       "<div>\n",
       "<style scoped>\n",
       "    .dataframe tbody tr th:only-of-type {\n",
       "        vertical-align: middle;\n",
       "    }\n",
       "\n",
       "    .dataframe tbody tr th {\n",
       "        vertical-align: top;\n",
       "    }\n",
       "\n",
       "    .dataframe thead th {\n",
       "        text-align: right;\n",
       "    }\n",
       "</style>\n",
       "<table border=\"1\" class=\"dataframe\">\n",
       "  <thead>\n",
       "    <tr style=\"text-align: right;\">\n",
       "      <th></th>\n",
       "      <th>Category</th>\n",
       "      <th>Rating</th>\n",
       "      <th>Reviews</th>\n",
       "      <th>Size</th>\n",
       "      <th>Installs</th>\n",
       "      <th>Price</th>\n",
       "      <th>Content Rating</th>\n",
       "      <th>Genres</th>\n",
       "    </tr>\n",
       "  </thead>\n",
       "  <tbody>\n",
       "    <tr>\n",
       "      <th>0</th>\n",
       "      <td>ART_AND_DESIGN</td>\n",
       "      <td>4.1</td>\n",
       "      <td>5.075174</td>\n",
       "      <td>19000.0</td>\n",
       "      <td>9.210440</td>\n",
       "      <td>0.0</td>\n",
       "      <td>Everyone</td>\n",
       "      <td>Art &amp; Design</td>\n",
       "    </tr>\n",
       "    <tr>\n",
       "      <th>1</th>\n",
       "      <td>ART_AND_DESIGN</td>\n",
       "      <td>3.9</td>\n",
       "      <td>6.875232</td>\n",
       "      <td>14000.0</td>\n",
       "      <td>13.122365</td>\n",
       "      <td>0.0</td>\n",
       "      <td>Everyone</td>\n",
       "      <td>Art &amp; Design;Pretend Play</td>\n",
       "    </tr>\n",
       "    <tr>\n",
       "      <th>2</th>\n",
       "      <td>ART_AND_DESIGN</td>\n",
       "      <td>4.7</td>\n",
       "      <td>11.379520</td>\n",
       "      <td>8700.0</td>\n",
       "      <td>15.424949</td>\n",
       "      <td>0.0</td>\n",
       "      <td>Everyone</td>\n",
       "      <td>Art &amp; Design</td>\n",
       "    </tr>\n",
       "    <tr>\n",
       "      <th>4</th>\n",
       "      <td>ART_AND_DESIGN</td>\n",
       "      <td>4.3</td>\n",
       "      <td>6.875232</td>\n",
       "      <td>2800.0</td>\n",
       "      <td>11.512935</td>\n",
       "      <td>0.0</td>\n",
       "      <td>Everyone</td>\n",
       "      <td>Art &amp; Design;Creativity</td>\n",
       "    </tr>\n",
       "    <tr>\n",
       "      <th>5</th>\n",
       "      <td>ART_AND_DESIGN</td>\n",
       "      <td>4.4</td>\n",
       "      <td>5.123964</td>\n",
       "      <td>5600.0</td>\n",
       "      <td>10.819798</td>\n",
       "      <td>0.0</td>\n",
       "      <td>Everyone</td>\n",
       "      <td>Art &amp; Design</td>\n",
       "    </tr>\n",
       "    <tr>\n",
       "      <th>...</th>\n",
       "      <td>...</td>\n",
       "      <td>...</td>\n",
       "      <td>...</td>\n",
       "      <td>...</td>\n",
       "      <td>...</td>\n",
       "      <td>...</td>\n",
       "      <td>...</td>\n",
       "      <td>...</td>\n",
       "    </tr>\n",
       "    <tr>\n",
       "      <th>9348</th>\n",
       "      <td>FAMILY</td>\n",
       "      <td>4.0</td>\n",
       "      <td>2.079442</td>\n",
       "      <td>2600.0</td>\n",
       "      <td>6.216606</td>\n",
       "      <td>0.0</td>\n",
       "      <td>Everyone</td>\n",
       "      <td>Education</td>\n",
       "    </tr>\n",
       "    <tr>\n",
       "      <th>9349</th>\n",
       "      <td>FAMILY</td>\n",
       "      <td>4.5</td>\n",
       "      <td>3.663562</td>\n",
       "      <td>53000.0</td>\n",
       "      <td>8.517393</td>\n",
       "      <td>0.0</td>\n",
       "      <td>Everyone</td>\n",
       "      <td>Education</td>\n",
       "    </tr>\n",
       "    <tr>\n",
       "      <th>9350</th>\n",
       "      <td>FAMILY</td>\n",
       "      <td>5.0</td>\n",
       "      <td>1.609438</td>\n",
       "      <td>3600.0</td>\n",
       "      <td>4.615121</td>\n",
       "      <td>0.0</td>\n",
       "      <td>Everyone</td>\n",
       "      <td>Education</td>\n",
       "    </tr>\n",
       "    <tr>\n",
       "      <th>9351</th>\n",
       "      <td>BOOKS_AND_REFERENCE</td>\n",
       "      <td>4.5</td>\n",
       "      <td>4.744932</td>\n",
       "      <td>0.0</td>\n",
       "      <td>6.908755</td>\n",
       "      <td>0.0</td>\n",
       "      <td>Mature 17+</td>\n",
       "      <td>Books &amp; Reference</td>\n",
       "    </tr>\n",
       "    <tr>\n",
       "      <th>9352</th>\n",
       "      <td>LIFESTYLE</td>\n",
       "      <td>4.5</td>\n",
       "      <td>12.894981</td>\n",
       "      <td>19000.0</td>\n",
       "      <td>16.118096</td>\n",
       "      <td>0.0</td>\n",
       "      <td>Everyone</td>\n",
       "      <td>Lifestyle</td>\n",
       "    </tr>\n",
       "  </tbody>\n",
       "</table>\n",
       "<p>8496 rows × 8 columns</p>\n",
       "</div>"
      ],
      "text/plain": [
       "                 Category  Rating    Reviews     Size   Installs  Price  \\\n",
       "0          ART_AND_DESIGN     4.1   5.075174  19000.0   9.210440    0.0   \n",
       "1          ART_AND_DESIGN     3.9   6.875232  14000.0  13.122365    0.0   \n",
       "2          ART_AND_DESIGN     4.7  11.379520   8700.0  15.424949    0.0   \n",
       "4          ART_AND_DESIGN     4.3   6.875232   2800.0  11.512935    0.0   \n",
       "5          ART_AND_DESIGN     4.4   5.123964   5600.0  10.819798    0.0   \n",
       "...                   ...     ...        ...      ...        ...    ...   \n",
       "9348               FAMILY     4.0   2.079442   2600.0   6.216606    0.0   \n",
       "9349               FAMILY     4.5   3.663562  53000.0   8.517393    0.0   \n",
       "9350               FAMILY     5.0   1.609438   3600.0   4.615121    0.0   \n",
       "9351  BOOKS_AND_REFERENCE     4.5   4.744932      0.0   6.908755    0.0   \n",
       "9352            LIFESTYLE     4.5  12.894981  19000.0  16.118096    0.0   \n",
       "\n",
       "     Content Rating                     Genres  \n",
       "0          Everyone               Art & Design  \n",
       "1          Everyone  Art & Design;Pretend Play  \n",
       "2          Everyone               Art & Design  \n",
       "4          Everyone    Art & Design;Creativity  \n",
       "5          Everyone               Art & Design  \n",
       "...             ...                        ...  \n",
       "9348       Everyone                  Education  \n",
       "9349       Everyone                  Education  \n",
       "9350       Everyone                  Education  \n",
       "9351     Mature 17+          Books & Reference  \n",
       "9352       Everyone                  Lifestyle  \n",
       "\n",
       "[8496 rows x 8 columns]"
      ]
     },
     "execution_count": 87,
     "metadata": {},
     "output_type": "execute_result"
    }
   ],
   "source": [
    "inp2=inp1\n",
    "inp2"
   ]
  },
  {
   "cell_type": "code",
   "execution_count": 88,
   "id": "f5e229fe-746d-4e7d-b7b1-3847384ef099",
   "metadata": {
    "ExecuteTime": {
     "end_time": "2022-09-24T16:34:12.833994Z",
     "start_time": "2022-09-24T16:34:12.795883Z"
    }
   },
   "outputs": [
    {
     "data": {
      "text/html": [
       "<div>\n",
       "<style scoped>\n",
       "    .dataframe tbody tr th:only-of-type {\n",
       "        vertical-align: middle;\n",
       "    }\n",
       "\n",
       "    .dataframe tbody tr th {\n",
       "        vertical-align: top;\n",
       "    }\n",
       "\n",
       "    .dataframe thead th {\n",
       "        text-align: right;\n",
       "    }\n",
       "</style>\n",
       "<table border=\"1\" class=\"dataframe\">\n",
       "  <thead>\n",
       "    <tr style=\"text-align: right;\">\n",
       "      <th></th>\n",
       "      <th>Rating</th>\n",
       "      <th>Reviews</th>\n",
       "      <th>Size</th>\n",
       "      <th>Installs</th>\n",
       "      <th>Price</th>\n",
       "      <th>Content Rating</th>\n",
       "      <th>Genres</th>\n",
       "      <th>Category_ART_AND_DESIGN</th>\n",
       "      <th>Category_AUTO_AND_VEHICLES</th>\n",
       "      <th>Category_BEAUTY</th>\n",
       "      <th>...</th>\n",
       "      <th>Category_PERSONALIZATION</th>\n",
       "      <th>Category_PHOTOGRAPHY</th>\n",
       "      <th>Category_PRODUCTIVITY</th>\n",
       "      <th>Category_SHOPPING</th>\n",
       "      <th>Category_SOCIAL</th>\n",
       "      <th>Category_SPORTS</th>\n",
       "      <th>Category_TOOLS</th>\n",
       "      <th>Category_TRAVEL_AND_LOCAL</th>\n",
       "      <th>Category_VIDEO_PLAYERS</th>\n",
       "      <th>Category_WEATHER</th>\n",
       "    </tr>\n",
       "  </thead>\n",
       "  <tbody>\n",
       "    <tr>\n",
       "      <th>0</th>\n",
       "      <td>4.1</td>\n",
       "      <td>5.075174</td>\n",
       "      <td>19000.0</td>\n",
       "      <td>9.210440</td>\n",
       "      <td>0.0</td>\n",
       "      <td>Everyone</td>\n",
       "      <td>Art &amp; Design</td>\n",
       "      <td>1</td>\n",
       "      <td>0</td>\n",
       "      <td>0</td>\n",
       "      <td>...</td>\n",
       "      <td>0</td>\n",
       "      <td>0</td>\n",
       "      <td>0</td>\n",
       "      <td>0</td>\n",
       "      <td>0</td>\n",
       "      <td>0</td>\n",
       "      <td>0</td>\n",
       "      <td>0</td>\n",
       "      <td>0</td>\n",
       "      <td>0</td>\n",
       "    </tr>\n",
       "    <tr>\n",
       "      <th>1</th>\n",
       "      <td>3.9</td>\n",
       "      <td>6.875232</td>\n",
       "      <td>14000.0</td>\n",
       "      <td>13.122365</td>\n",
       "      <td>0.0</td>\n",
       "      <td>Everyone</td>\n",
       "      <td>Art &amp; Design;Pretend Play</td>\n",
       "      <td>1</td>\n",
       "      <td>0</td>\n",
       "      <td>0</td>\n",
       "      <td>...</td>\n",
       "      <td>0</td>\n",
       "      <td>0</td>\n",
       "      <td>0</td>\n",
       "      <td>0</td>\n",
       "      <td>0</td>\n",
       "      <td>0</td>\n",
       "      <td>0</td>\n",
       "      <td>0</td>\n",
       "      <td>0</td>\n",
       "      <td>0</td>\n",
       "    </tr>\n",
       "    <tr>\n",
       "      <th>2</th>\n",
       "      <td>4.7</td>\n",
       "      <td>11.379520</td>\n",
       "      <td>8700.0</td>\n",
       "      <td>15.424949</td>\n",
       "      <td>0.0</td>\n",
       "      <td>Everyone</td>\n",
       "      <td>Art &amp; Design</td>\n",
       "      <td>1</td>\n",
       "      <td>0</td>\n",
       "      <td>0</td>\n",
       "      <td>...</td>\n",
       "      <td>0</td>\n",
       "      <td>0</td>\n",
       "      <td>0</td>\n",
       "      <td>0</td>\n",
       "      <td>0</td>\n",
       "      <td>0</td>\n",
       "      <td>0</td>\n",
       "      <td>0</td>\n",
       "      <td>0</td>\n",
       "      <td>0</td>\n",
       "    </tr>\n",
       "    <tr>\n",
       "      <th>4</th>\n",
       "      <td>4.3</td>\n",
       "      <td>6.875232</td>\n",
       "      <td>2800.0</td>\n",
       "      <td>11.512935</td>\n",
       "      <td>0.0</td>\n",
       "      <td>Everyone</td>\n",
       "      <td>Art &amp; Design;Creativity</td>\n",
       "      <td>1</td>\n",
       "      <td>0</td>\n",
       "      <td>0</td>\n",
       "      <td>...</td>\n",
       "      <td>0</td>\n",
       "      <td>0</td>\n",
       "      <td>0</td>\n",
       "      <td>0</td>\n",
       "      <td>0</td>\n",
       "      <td>0</td>\n",
       "      <td>0</td>\n",
       "      <td>0</td>\n",
       "      <td>0</td>\n",
       "      <td>0</td>\n",
       "    </tr>\n",
       "    <tr>\n",
       "      <th>5</th>\n",
       "      <td>4.4</td>\n",
       "      <td>5.123964</td>\n",
       "      <td>5600.0</td>\n",
       "      <td>10.819798</td>\n",
       "      <td>0.0</td>\n",
       "      <td>Everyone</td>\n",
       "      <td>Art &amp; Design</td>\n",
       "      <td>1</td>\n",
       "      <td>0</td>\n",
       "      <td>0</td>\n",
       "      <td>...</td>\n",
       "      <td>0</td>\n",
       "      <td>0</td>\n",
       "      <td>0</td>\n",
       "      <td>0</td>\n",
       "      <td>0</td>\n",
       "      <td>0</td>\n",
       "      <td>0</td>\n",
       "      <td>0</td>\n",
       "      <td>0</td>\n",
       "      <td>0</td>\n",
       "    </tr>\n",
       "    <tr>\n",
       "      <th>...</th>\n",
       "      <td>...</td>\n",
       "      <td>...</td>\n",
       "      <td>...</td>\n",
       "      <td>...</td>\n",
       "      <td>...</td>\n",
       "      <td>...</td>\n",
       "      <td>...</td>\n",
       "      <td>...</td>\n",
       "      <td>...</td>\n",
       "      <td>...</td>\n",
       "      <td>...</td>\n",
       "      <td>...</td>\n",
       "      <td>...</td>\n",
       "      <td>...</td>\n",
       "      <td>...</td>\n",
       "      <td>...</td>\n",
       "      <td>...</td>\n",
       "      <td>...</td>\n",
       "      <td>...</td>\n",
       "      <td>...</td>\n",
       "      <td>...</td>\n",
       "    </tr>\n",
       "    <tr>\n",
       "      <th>9348</th>\n",
       "      <td>4.0</td>\n",
       "      <td>2.079442</td>\n",
       "      <td>2600.0</td>\n",
       "      <td>6.216606</td>\n",
       "      <td>0.0</td>\n",
       "      <td>Everyone</td>\n",
       "      <td>Education</td>\n",
       "      <td>0</td>\n",
       "      <td>0</td>\n",
       "      <td>0</td>\n",
       "      <td>...</td>\n",
       "      <td>0</td>\n",
       "      <td>0</td>\n",
       "      <td>0</td>\n",
       "      <td>0</td>\n",
       "      <td>0</td>\n",
       "      <td>0</td>\n",
       "      <td>0</td>\n",
       "      <td>0</td>\n",
       "      <td>0</td>\n",
       "      <td>0</td>\n",
       "    </tr>\n",
       "    <tr>\n",
       "      <th>9349</th>\n",
       "      <td>4.5</td>\n",
       "      <td>3.663562</td>\n",
       "      <td>53000.0</td>\n",
       "      <td>8.517393</td>\n",
       "      <td>0.0</td>\n",
       "      <td>Everyone</td>\n",
       "      <td>Education</td>\n",
       "      <td>0</td>\n",
       "      <td>0</td>\n",
       "      <td>0</td>\n",
       "      <td>...</td>\n",
       "      <td>0</td>\n",
       "      <td>0</td>\n",
       "      <td>0</td>\n",
       "      <td>0</td>\n",
       "      <td>0</td>\n",
       "      <td>0</td>\n",
       "      <td>0</td>\n",
       "      <td>0</td>\n",
       "      <td>0</td>\n",
       "      <td>0</td>\n",
       "    </tr>\n",
       "    <tr>\n",
       "      <th>9350</th>\n",
       "      <td>5.0</td>\n",
       "      <td>1.609438</td>\n",
       "      <td>3600.0</td>\n",
       "      <td>4.615121</td>\n",
       "      <td>0.0</td>\n",
       "      <td>Everyone</td>\n",
       "      <td>Education</td>\n",
       "      <td>0</td>\n",
       "      <td>0</td>\n",
       "      <td>0</td>\n",
       "      <td>...</td>\n",
       "      <td>0</td>\n",
       "      <td>0</td>\n",
       "      <td>0</td>\n",
       "      <td>0</td>\n",
       "      <td>0</td>\n",
       "      <td>0</td>\n",
       "      <td>0</td>\n",
       "      <td>0</td>\n",
       "      <td>0</td>\n",
       "      <td>0</td>\n",
       "    </tr>\n",
       "    <tr>\n",
       "      <th>9351</th>\n",
       "      <td>4.5</td>\n",
       "      <td>4.744932</td>\n",
       "      <td>0.0</td>\n",
       "      <td>6.908755</td>\n",
       "      <td>0.0</td>\n",
       "      <td>Mature 17+</td>\n",
       "      <td>Books &amp; Reference</td>\n",
       "      <td>0</td>\n",
       "      <td>0</td>\n",
       "      <td>0</td>\n",
       "      <td>...</td>\n",
       "      <td>0</td>\n",
       "      <td>0</td>\n",
       "      <td>0</td>\n",
       "      <td>0</td>\n",
       "      <td>0</td>\n",
       "      <td>0</td>\n",
       "      <td>0</td>\n",
       "      <td>0</td>\n",
       "      <td>0</td>\n",
       "      <td>0</td>\n",
       "    </tr>\n",
       "    <tr>\n",
       "      <th>9352</th>\n",
       "      <td>4.5</td>\n",
       "      <td>12.894981</td>\n",
       "      <td>19000.0</td>\n",
       "      <td>16.118096</td>\n",
       "      <td>0.0</td>\n",
       "      <td>Everyone</td>\n",
       "      <td>Lifestyle</td>\n",
       "      <td>0</td>\n",
       "      <td>0</td>\n",
       "      <td>0</td>\n",
       "      <td>...</td>\n",
       "      <td>0</td>\n",
       "      <td>0</td>\n",
       "      <td>0</td>\n",
       "      <td>0</td>\n",
       "      <td>0</td>\n",
       "      <td>0</td>\n",
       "      <td>0</td>\n",
       "      <td>0</td>\n",
       "      <td>0</td>\n",
       "      <td>0</td>\n",
       "    </tr>\n",
       "  </tbody>\n",
       "</table>\n",
       "<p>8496 rows × 40 columns</p>\n",
       "</div>"
      ],
      "text/plain": [
       "      Rating    Reviews     Size   Installs  Price Content Rating  \\\n",
       "0        4.1   5.075174  19000.0   9.210440    0.0       Everyone   \n",
       "1        3.9   6.875232  14000.0  13.122365    0.0       Everyone   \n",
       "2        4.7  11.379520   8700.0  15.424949    0.0       Everyone   \n",
       "4        4.3   6.875232   2800.0  11.512935    0.0       Everyone   \n",
       "5        4.4   5.123964   5600.0  10.819798    0.0       Everyone   \n",
       "...      ...        ...      ...        ...    ...            ...   \n",
       "9348     4.0   2.079442   2600.0   6.216606    0.0       Everyone   \n",
       "9349     4.5   3.663562  53000.0   8.517393    0.0       Everyone   \n",
       "9350     5.0   1.609438   3600.0   4.615121    0.0       Everyone   \n",
       "9351     4.5   4.744932      0.0   6.908755    0.0     Mature 17+   \n",
       "9352     4.5  12.894981  19000.0  16.118096    0.0       Everyone   \n",
       "\n",
       "                         Genres  Category_ART_AND_DESIGN  \\\n",
       "0                  Art & Design                        1   \n",
       "1     Art & Design;Pretend Play                        1   \n",
       "2                  Art & Design                        1   \n",
       "4       Art & Design;Creativity                        1   \n",
       "5                  Art & Design                        1   \n",
       "...                         ...                      ...   \n",
       "9348                  Education                        0   \n",
       "9349                  Education                        0   \n",
       "9350                  Education                        0   \n",
       "9351          Books & Reference                        0   \n",
       "9352                  Lifestyle                        0   \n",
       "\n",
       "      Category_AUTO_AND_VEHICLES  Category_BEAUTY  ...  \\\n",
       "0                              0                0  ...   \n",
       "1                              0                0  ...   \n",
       "2                              0                0  ...   \n",
       "4                              0                0  ...   \n",
       "5                              0                0  ...   \n",
       "...                          ...              ...  ...   \n",
       "9348                           0                0  ...   \n",
       "9349                           0                0  ...   \n",
       "9350                           0                0  ...   \n",
       "9351                           0                0  ...   \n",
       "9352                           0                0  ...   \n",
       "\n",
       "      Category_PERSONALIZATION  Category_PHOTOGRAPHY  Category_PRODUCTIVITY  \\\n",
       "0                            0                     0                      0   \n",
       "1                            0                     0                      0   \n",
       "2                            0                     0                      0   \n",
       "4                            0                     0                      0   \n",
       "5                            0                     0                      0   \n",
       "...                        ...                   ...                    ...   \n",
       "9348                         0                     0                      0   \n",
       "9349                         0                     0                      0   \n",
       "9350                         0                     0                      0   \n",
       "9351                         0                     0                      0   \n",
       "9352                         0                     0                      0   \n",
       "\n",
       "      Category_SHOPPING  Category_SOCIAL  Category_SPORTS  Category_TOOLS  \\\n",
       "0                     0                0                0               0   \n",
       "1                     0                0                0               0   \n",
       "2                     0                0                0               0   \n",
       "4                     0                0                0               0   \n",
       "5                     0                0                0               0   \n",
       "...                 ...              ...              ...             ...   \n",
       "9348                  0                0                0               0   \n",
       "9349                  0                0                0               0   \n",
       "9350                  0                0                0               0   \n",
       "9351                  0                0                0               0   \n",
       "9352                  0                0                0               0   \n",
       "\n",
       "      Category_TRAVEL_AND_LOCAL  Category_VIDEO_PLAYERS  Category_WEATHER  \n",
       "0                             0                       0                 0  \n",
       "1                             0                       0                 0  \n",
       "2                             0                       0                 0  \n",
       "4                             0                       0                 0  \n",
       "5                             0                       0                 0  \n",
       "...                         ...                     ...               ...  \n",
       "9348                          0                       0                 0  \n",
       "9349                          0                       0                 0  \n",
       "9350                          0                       0                 0  \n",
       "9351                          0                       0                 0  \n",
       "9352                          0                       0                 0  \n",
       "\n",
       "[8496 rows x 40 columns]"
      ]
     },
     "execution_count": 88,
     "metadata": {},
     "output_type": "execute_result"
    }
   ],
   "source": [
    "inp2.Category = pd.Categorical(inp2.Category)\n",
    "\n",
    "x = inp2[['Category']]\n",
    "del inp2['Category']\n",
    "\n",
    "dummies = pd.get_dummies(x, prefix = 'Category')\n",
    "inp2 = pd.concat([inp2,dummies], axis=1)\n",
    "inp2"
   ]
  },
  {
   "cell_type": "code",
   "execution_count": 89,
   "id": "6c018ce0-0405-42ef-89dd-78ac395440d5",
   "metadata": {
    "ExecuteTime": {
     "end_time": "2022-09-24T16:34:13.247627Z",
     "start_time": "2022-09-24T16:34:13.218420Z"
    }
   },
   "outputs": [
    {
     "data": {
      "text/html": [
       "<div>\n",
       "<style scoped>\n",
       "    .dataframe tbody tr th:only-of-type {\n",
       "        vertical-align: middle;\n",
       "    }\n",
       "\n",
       "    .dataframe tbody tr th {\n",
       "        vertical-align: top;\n",
       "    }\n",
       "\n",
       "    .dataframe thead th {\n",
       "        text-align: right;\n",
       "    }\n",
       "</style>\n",
       "<table border=\"1\" class=\"dataframe\">\n",
       "  <thead>\n",
       "    <tr style=\"text-align: right;\">\n",
       "      <th></th>\n",
       "      <th>Rating</th>\n",
       "      <th>Reviews</th>\n",
       "      <th>Size</th>\n",
       "      <th>Installs</th>\n",
       "      <th>Price</th>\n",
       "      <th>Content Rating</th>\n",
       "      <th>Category_ART_AND_DESIGN</th>\n",
       "      <th>Category_AUTO_AND_VEHICLES</th>\n",
       "      <th>Category_BEAUTY</th>\n",
       "      <th>Category_BOOKS_AND_REFERENCE</th>\n",
       "      <th>...</th>\n",
       "      <th>Genres_Tools</th>\n",
       "      <th>Genres_Tools;Education</th>\n",
       "      <th>Genres_Travel &amp; Local</th>\n",
       "      <th>Genres_Travel &amp; Local;Action &amp; Adventure</th>\n",
       "      <th>Genres_Trivia</th>\n",
       "      <th>Genres_Video Players &amp; Editors</th>\n",
       "      <th>Genres_Video Players &amp; Editors;Creativity</th>\n",
       "      <th>Genres_Video Players &amp; Editors;Music &amp; Video</th>\n",
       "      <th>Genres_Weather</th>\n",
       "      <th>Genres_Word</th>\n",
       "    </tr>\n",
       "  </thead>\n",
       "  <tbody>\n",
       "    <tr>\n",
       "      <th>0</th>\n",
       "      <td>4.1</td>\n",
       "      <td>5.075174</td>\n",
       "      <td>19000.0</td>\n",
       "      <td>9.210440</td>\n",
       "      <td>0.0</td>\n",
       "      <td>Everyone</td>\n",
       "      <td>1</td>\n",
       "      <td>0</td>\n",
       "      <td>0</td>\n",
       "      <td>0</td>\n",
       "      <td>...</td>\n",
       "      <td>0</td>\n",
       "      <td>0</td>\n",
       "      <td>0</td>\n",
       "      <td>0</td>\n",
       "      <td>0</td>\n",
       "      <td>0</td>\n",
       "      <td>0</td>\n",
       "      <td>0</td>\n",
       "      <td>0</td>\n",
       "      <td>0</td>\n",
       "    </tr>\n",
       "    <tr>\n",
       "      <th>1</th>\n",
       "      <td>3.9</td>\n",
       "      <td>6.875232</td>\n",
       "      <td>14000.0</td>\n",
       "      <td>13.122365</td>\n",
       "      <td>0.0</td>\n",
       "      <td>Everyone</td>\n",
       "      <td>1</td>\n",
       "      <td>0</td>\n",
       "      <td>0</td>\n",
       "      <td>0</td>\n",
       "      <td>...</td>\n",
       "      <td>0</td>\n",
       "      <td>0</td>\n",
       "      <td>0</td>\n",
       "      <td>0</td>\n",
       "      <td>0</td>\n",
       "      <td>0</td>\n",
       "      <td>0</td>\n",
       "      <td>0</td>\n",
       "      <td>0</td>\n",
       "      <td>0</td>\n",
       "    </tr>\n",
       "    <tr>\n",
       "      <th>2</th>\n",
       "      <td>4.7</td>\n",
       "      <td>11.379520</td>\n",
       "      <td>8700.0</td>\n",
       "      <td>15.424949</td>\n",
       "      <td>0.0</td>\n",
       "      <td>Everyone</td>\n",
       "      <td>1</td>\n",
       "      <td>0</td>\n",
       "      <td>0</td>\n",
       "      <td>0</td>\n",
       "      <td>...</td>\n",
       "      <td>0</td>\n",
       "      <td>0</td>\n",
       "      <td>0</td>\n",
       "      <td>0</td>\n",
       "      <td>0</td>\n",
       "      <td>0</td>\n",
       "      <td>0</td>\n",
       "      <td>0</td>\n",
       "      <td>0</td>\n",
       "      <td>0</td>\n",
       "    </tr>\n",
       "    <tr>\n",
       "      <th>4</th>\n",
       "      <td>4.3</td>\n",
       "      <td>6.875232</td>\n",
       "      <td>2800.0</td>\n",
       "      <td>11.512935</td>\n",
       "      <td>0.0</td>\n",
       "      <td>Everyone</td>\n",
       "      <td>1</td>\n",
       "      <td>0</td>\n",
       "      <td>0</td>\n",
       "      <td>0</td>\n",
       "      <td>...</td>\n",
       "      <td>0</td>\n",
       "      <td>0</td>\n",
       "      <td>0</td>\n",
       "      <td>0</td>\n",
       "      <td>0</td>\n",
       "      <td>0</td>\n",
       "      <td>0</td>\n",
       "      <td>0</td>\n",
       "      <td>0</td>\n",
       "      <td>0</td>\n",
       "    </tr>\n",
       "    <tr>\n",
       "      <th>5</th>\n",
       "      <td>4.4</td>\n",
       "      <td>5.123964</td>\n",
       "      <td>5600.0</td>\n",
       "      <td>10.819798</td>\n",
       "      <td>0.0</td>\n",
       "      <td>Everyone</td>\n",
       "      <td>1</td>\n",
       "      <td>0</td>\n",
       "      <td>0</td>\n",
       "      <td>0</td>\n",
       "      <td>...</td>\n",
       "      <td>0</td>\n",
       "      <td>0</td>\n",
       "      <td>0</td>\n",
       "      <td>0</td>\n",
       "      <td>0</td>\n",
       "      <td>0</td>\n",
       "      <td>0</td>\n",
       "      <td>0</td>\n",
       "      <td>0</td>\n",
       "      <td>0</td>\n",
       "    </tr>\n",
       "    <tr>\n",
       "      <th>...</th>\n",
       "      <td>...</td>\n",
       "      <td>...</td>\n",
       "      <td>...</td>\n",
       "      <td>...</td>\n",
       "      <td>...</td>\n",
       "      <td>...</td>\n",
       "      <td>...</td>\n",
       "      <td>...</td>\n",
       "      <td>...</td>\n",
       "      <td>...</td>\n",
       "      <td>...</td>\n",
       "      <td>...</td>\n",
       "      <td>...</td>\n",
       "      <td>...</td>\n",
       "      <td>...</td>\n",
       "      <td>...</td>\n",
       "      <td>...</td>\n",
       "      <td>...</td>\n",
       "      <td>...</td>\n",
       "      <td>...</td>\n",
       "      <td>...</td>\n",
       "    </tr>\n",
       "    <tr>\n",
       "      <th>9348</th>\n",
       "      <td>4.0</td>\n",
       "      <td>2.079442</td>\n",
       "      <td>2600.0</td>\n",
       "      <td>6.216606</td>\n",
       "      <td>0.0</td>\n",
       "      <td>Everyone</td>\n",
       "      <td>0</td>\n",
       "      <td>0</td>\n",
       "      <td>0</td>\n",
       "      <td>0</td>\n",
       "      <td>...</td>\n",
       "      <td>0</td>\n",
       "      <td>0</td>\n",
       "      <td>0</td>\n",
       "      <td>0</td>\n",
       "      <td>0</td>\n",
       "      <td>0</td>\n",
       "      <td>0</td>\n",
       "      <td>0</td>\n",
       "      <td>0</td>\n",
       "      <td>0</td>\n",
       "    </tr>\n",
       "    <tr>\n",
       "      <th>9349</th>\n",
       "      <td>4.5</td>\n",
       "      <td>3.663562</td>\n",
       "      <td>53000.0</td>\n",
       "      <td>8.517393</td>\n",
       "      <td>0.0</td>\n",
       "      <td>Everyone</td>\n",
       "      <td>0</td>\n",
       "      <td>0</td>\n",
       "      <td>0</td>\n",
       "      <td>0</td>\n",
       "      <td>...</td>\n",
       "      <td>0</td>\n",
       "      <td>0</td>\n",
       "      <td>0</td>\n",
       "      <td>0</td>\n",
       "      <td>0</td>\n",
       "      <td>0</td>\n",
       "      <td>0</td>\n",
       "      <td>0</td>\n",
       "      <td>0</td>\n",
       "      <td>0</td>\n",
       "    </tr>\n",
       "    <tr>\n",
       "      <th>9350</th>\n",
       "      <td>5.0</td>\n",
       "      <td>1.609438</td>\n",
       "      <td>3600.0</td>\n",
       "      <td>4.615121</td>\n",
       "      <td>0.0</td>\n",
       "      <td>Everyone</td>\n",
       "      <td>0</td>\n",
       "      <td>0</td>\n",
       "      <td>0</td>\n",
       "      <td>0</td>\n",
       "      <td>...</td>\n",
       "      <td>0</td>\n",
       "      <td>0</td>\n",
       "      <td>0</td>\n",
       "      <td>0</td>\n",
       "      <td>0</td>\n",
       "      <td>0</td>\n",
       "      <td>0</td>\n",
       "      <td>0</td>\n",
       "      <td>0</td>\n",
       "      <td>0</td>\n",
       "    </tr>\n",
       "    <tr>\n",
       "      <th>9351</th>\n",
       "      <td>4.5</td>\n",
       "      <td>4.744932</td>\n",
       "      <td>0.0</td>\n",
       "      <td>6.908755</td>\n",
       "      <td>0.0</td>\n",
       "      <td>Mature 17+</td>\n",
       "      <td>0</td>\n",
       "      <td>0</td>\n",
       "      <td>0</td>\n",
       "      <td>1</td>\n",
       "      <td>...</td>\n",
       "      <td>0</td>\n",
       "      <td>0</td>\n",
       "      <td>0</td>\n",
       "      <td>0</td>\n",
       "      <td>0</td>\n",
       "      <td>0</td>\n",
       "      <td>0</td>\n",
       "      <td>0</td>\n",
       "      <td>0</td>\n",
       "      <td>0</td>\n",
       "    </tr>\n",
       "    <tr>\n",
       "      <th>9352</th>\n",
       "      <td>4.5</td>\n",
       "      <td>12.894981</td>\n",
       "      <td>19000.0</td>\n",
       "      <td>16.118096</td>\n",
       "      <td>0.0</td>\n",
       "      <td>Everyone</td>\n",
       "      <td>0</td>\n",
       "      <td>0</td>\n",
       "      <td>0</td>\n",
       "      <td>0</td>\n",
       "      <td>...</td>\n",
       "      <td>0</td>\n",
       "      <td>0</td>\n",
       "      <td>0</td>\n",
       "      <td>0</td>\n",
       "      <td>0</td>\n",
       "      <td>0</td>\n",
       "      <td>0</td>\n",
       "      <td>0</td>\n",
       "      <td>0</td>\n",
       "      <td>0</td>\n",
       "    </tr>\n",
       "  </tbody>\n",
       "</table>\n",
       "<p>8496 rows × 154 columns</p>\n",
       "</div>"
      ],
      "text/plain": [
       "      Rating    Reviews     Size   Installs  Price Content Rating  \\\n",
       "0        4.1   5.075174  19000.0   9.210440    0.0       Everyone   \n",
       "1        3.9   6.875232  14000.0  13.122365    0.0       Everyone   \n",
       "2        4.7  11.379520   8700.0  15.424949    0.0       Everyone   \n",
       "4        4.3   6.875232   2800.0  11.512935    0.0       Everyone   \n",
       "5        4.4   5.123964   5600.0  10.819798    0.0       Everyone   \n",
       "...      ...        ...      ...        ...    ...            ...   \n",
       "9348     4.0   2.079442   2600.0   6.216606    0.0       Everyone   \n",
       "9349     4.5   3.663562  53000.0   8.517393    0.0       Everyone   \n",
       "9350     5.0   1.609438   3600.0   4.615121    0.0       Everyone   \n",
       "9351     4.5   4.744932      0.0   6.908755    0.0     Mature 17+   \n",
       "9352     4.5  12.894981  19000.0  16.118096    0.0       Everyone   \n",
       "\n",
       "      Category_ART_AND_DESIGN  Category_AUTO_AND_VEHICLES  Category_BEAUTY  \\\n",
       "0                           1                           0                0   \n",
       "1                           1                           0                0   \n",
       "2                           1                           0                0   \n",
       "4                           1                           0                0   \n",
       "5                           1                           0                0   \n",
       "...                       ...                         ...              ...   \n",
       "9348                        0                           0                0   \n",
       "9349                        0                           0                0   \n",
       "9350                        0                           0                0   \n",
       "9351                        0                           0                0   \n",
       "9352                        0                           0                0   \n",
       "\n",
       "      Category_BOOKS_AND_REFERENCE  ...  Genres_Tools  Genres_Tools;Education  \\\n",
       "0                                0  ...             0                       0   \n",
       "1                                0  ...             0                       0   \n",
       "2                                0  ...             0                       0   \n",
       "4                                0  ...             0                       0   \n",
       "5                                0  ...             0                       0   \n",
       "...                            ...  ...           ...                     ...   \n",
       "9348                             0  ...             0                       0   \n",
       "9349                             0  ...             0                       0   \n",
       "9350                             0  ...             0                       0   \n",
       "9351                             1  ...             0                       0   \n",
       "9352                             0  ...             0                       0   \n",
       "\n",
       "      Genres_Travel & Local  Genres_Travel & Local;Action & Adventure  \\\n",
       "0                         0                                         0   \n",
       "1                         0                                         0   \n",
       "2                         0                                         0   \n",
       "4                         0                                         0   \n",
       "5                         0                                         0   \n",
       "...                     ...                                       ...   \n",
       "9348                      0                                         0   \n",
       "9349                      0                                         0   \n",
       "9350                      0                                         0   \n",
       "9351                      0                                         0   \n",
       "9352                      0                                         0   \n",
       "\n",
       "      Genres_Trivia  Genres_Video Players & Editors  \\\n",
       "0                 0                               0   \n",
       "1                 0                               0   \n",
       "2                 0                               0   \n",
       "4                 0                               0   \n",
       "5                 0                               0   \n",
       "...             ...                             ...   \n",
       "9348              0                               0   \n",
       "9349              0                               0   \n",
       "9350              0                               0   \n",
       "9351              0                               0   \n",
       "9352              0                               0   \n",
       "\n",
       "      Genres_Video Players & Editors;Creativity  \\\n",
       "0                                             0   \n",
       "1                                             0   \n",
       "2                                             0   \n",
       "4                                             0   \n",
       "5                                             0   \n",
       "...                                         ...   \n",
       "9348                                          0   \n",
       "9349                                          0   \n",
       "9350                                          0   \n",
       "9351                                          0   \n",
       "9352                                          0   \n",
       "\n",
       "      Genres_Video Players & Editors;Music & Video  Genres_Weather  \\\n",
       "0                                                0               0   \n",
       "1                                                0               0   \n",
       "2                                                0               0   \n",
       "4                                                0               0   \n",
       "5                                                0               0   \n",
       "...                                            ...             ...   \n",
       "9348                                             0               0   \n",
       "9349                                             0               0   \n",
       "9350                                             0               0   \n",
       "9351                                             0               0   \n",
       "9352                                             0               0   \n",
       "\n",
       "      Genres_Word  \n",
       "0               0  \n",
       "1               0  \n",
       "2               0  \n",
       "4               0  \n",
       "5               0  \n",
       "...           ...  \n",
       "9348            0  \n",
       "9349            0  \n",
       "9350            0  \n",
       "9351            0  \n",
       "9352            0  \n",
       "\n",
       "[8496 rows x 154 columns]"
      ]
     },
     "execution_count": 89,
     "metadata": {},
     "output_type": "execute_result"
    }
   ],
   "source": [
    "inp2.Genres = pd.Categorical(inp2['Genres'])\n",
    "x = inp2[[\"Genres\"]]\n",
    "del inp2['Genres']\n",
    "dummies = pd.get_dummies(x, prefix = 'Genres')\n",
    "inp2 = pd.concat([inp2,dummies], axis=1)\n",
    "inp2"
   ]
  },
  {
   "cell_type": "code",
   "execution_count": 90,
   "id": "edbef253-1d53-4552-a921-49a1f2d04eae",
   "metadata": {
    "ExecuteTime": {
     "end_time": "2022-09-24T16:34:13.657574Z",
     "start_time": "2022-09-24T16:34:13.628482Z"
    }
   },
   "outputs": [
    {
     "data": {
      "text/html": [
       "<div>\n",
       "<style scoped>\n",
       "    .dataframe tbody tr th:only-of-type {\n",
       "        vertical-align: middle;\n",
       "    }\n",
       "\n",
       "    .dataframe tbody tr th {\n",
       "        vertical-align: top;\n",
       "    }\n",
       "\n",
       "    .dataframe thead th {\n",
       "        text-align: right;\n",
       "    }\n",
       "</style>\n",
       "<table border=\"1\" class=\"dataframe\">\n",
       "  <thead>\n",
       "    <tr style=\"text-align: right;\">\n",
       "      <th></th>\n",
       "      <th>Rating</th>\n",
       "      <th>Reviews</th>\n",
       "      <th>Size</th>\n",
       "      <th>Installs</th>\n",
       "      <th>Price</th>\n",
       "      <th>Category_ART_AND_DESIGN</th>\n",
       "      <th>Category_AUTO_AND_VEHICLES</th>\n",
       "      <th>Category_BEAUTY</th>\n",
       "      <th>Category_BOOKS_AND_REFERENCE</th>\n",
       "      <th>Category_BUSINESS</th>\n",
       "      <th>...</th>\n",
       "      <th>Genres_Video Players &amp; Editors;Creativity</th>\n",
       "      <th>Genres_Video Players &amp; Editors;Music &amp; Video</th>\n",
       "      <th>Genres_Weather</th>\n",
       "      <th>Genres_Word</th>\n",
       "      <th>Content Rating_Adults only 18+</th>\n",
       "      <th>Content Rating_Everyone</th>\n",
       "      <th>Content Rating_Everyone 10+</th>\n",
       "      <th>Content Rating_Mature 17+</th>\n",
       "      <th>Content Rating_Teen</th>\n",
       "      <th>Content Rating_Unrated</th>\n",
       "    </tr>\n",
       "  </thead>\n",
       "  <tbody>\n",
       "    <tr>\n",
       "      <th>0</th>\n",
       "      <td>4.1</td>\n",
       "      <td>5.075174</td>\n",
       "      <td>19000.0</td>\n",
       "      <td>9.210440</td>\n",
       "      <td>0.0</td>\n",
       "      <td>1</td>\n",
       "      <td>0</td>\n",
       "      <td>0</td>\n",
       "      <td>0</td>\n",
       "      <td>0</td>\n",
       "      <td>...</td>\n",
       "      <td>0</td>\n",
       "      <td>0</td>\n",
       "      <td>0</td>\n",
       "      <td>0</td>\n",
       "      <td>0</td>\n",
       "      <td>1</td>\n",
       "      <td>0</td>\n",
       "      <td>0</td>\n",
       "      <td>0</td>\n",
       "      <td>0</td>\n",
       "    </tr>\n",
       "    <tr>\n",
       "      <th>1</th>\n",
       "      <td>3.9</td>\n",
       "      <td>6.875232</td>\n",
       "      <td>14000.0</td>\n",
       "      <td>13.122365</td>\n",
       "      <td>0.0</td>\n",
       "      <td>1</td>\n",
       "      <td>0</td>\n",
       "      <td>0</td>\n",
       "      <td>0</td>\n",
       "      <td>0</td>\n",
       "      <td>...</td>\n",
       "      <td>0</td>\n",
       "      <td>0</td>\n",
       "      <td>0</td>\n",
       "      <td>0</td>\n",
       "      <td>0</td>\n",
       "      <td>1</td>\n",
       "      <td>0</td>\n",
       "      <td>0</td>\n",
       "      <td>0</td>\n",
       "      <td>0</td>\n",
       "    </tr>\n",
       "    <tr>\n",
       "      <th>2</th>\n",
       "      <td>4.7</td>\n",
       "      <td>11.379520</td>\n",
       "      <td>8700.0</td>\n",
       "      <td>15.424949</td>\n",
       "      <td>0.0</td>\n",
       "      <td>1</td>\n",
       "      <td>0</td>\n",
       "      <td>0</td>\n",
       "      <td>0</td>\n",
       "      <td>0</td>\n",
       "      <td>...</td>\n",
       "      <td>0</td>\n",
       "      <td>0</td>\n",
       "      <td>0</td>\n",
       "      <td>0</td>\n",
       "      <td>0</td>\n",
       "      <td>1</td>\n",
       "      <td>0</td>\n",
       "      <td>0</td>\n",
       "      <td>0</td>\n",
       "      <td>0</td>\n",
       "    </tr>\n",
       "    <tr>\n",
       "      <th>4</th>\n",
       "      <td>4.3</td>\n",
       "      <td>6.875232</td>\n",
       "      <td>2800.0</td>\n",
       "      <td>11.512935</td>\n",
       "      <td>0.0</td>\n",
       "      <td>1</td>\n",
       "      <td>0</td>\n",
       "      <td>0</td>\n",
       "      <td>0</td>\n",
       "      <td>0</td>\n",
       "      <td>...</td>\n",
       "      <td>0</td>\n",
       "      <td>0</td>\n",
       "      <td>0</td>\n",
       "      <td>0</td>\n",
       "      <td>0</td>\n",
       "      <td>1</td>\n",
       "      <td>0</td>\n",
       "      <td>0</td>\n",
       "      <td>0</td>\n",
       "      <td>0</td>\n",
       "    </tr>\n",
       "    <tr>\n",
       "      <th>5</th>\n",
       "      <td>4.4</td>\n",
       "      <td>5.123964</td>\n",
       "      <td>5600.0</td>\n",
       "      <td>10.819798</td>\n",
       "      <td>0.0</td>\n",
       "      <td>1</td>\n",
       "      <td>0</td>\n",
       "      <td>0</td>\n",
       "      <td>0</td>\n",
       "      <td>0</td>\n",
       "      <td>...</td>\n",
       "      <td>0</td>\n",
       "      <td>0</td>\n",
       "      <td>0</td>\n",
       "      <td>0</td>\n",
       "      <td>0</td>\n",
       "      <td>1</td>\n",
       "      <td>0</td>\n",
       "      <td>0</td>\n",
       "      <td>0</td>\n",
       "      <td>0</td>\n",
       "    </tr>\n",
       "  </tbody>\n",
       "</table>\n",
       "<p>5 rows × 159 columns</p>\n",
       "</div>"
      ],
      "text/plain": [
       "   Rating    Reviews     Size   Installs  Price  Category_ART_AND_DESIGN  \\\n",
       "0     4.1   5.075174  19000.0   9.210440    0.0                        1   \n",
       "1     3.9   6.875232  14000.0  13.122365    0.0                        1   \n",
       "2     4.7  11.379520   8700.0  15.424949    0.0                        1   \n",
       "4     4.3   6.875232   2800.0  11.512935    0.0                        1   \n",
       "5     4.4   5.123964   5600.0  10.819798    0.0                        1   \n",
       "\n",
       "   Category_AUTO_AND_VEHICLES  Category_BEAUTY  Category_BOOKS_AND_REFERENCE  \\\n",
       "0                           0                0                             0   \n",
       "1                           0                0                             0   \n",
       "2                           0                0                             0   \n",
       "4                           0                0                             0   \n",
       "5                           0                0                             0   \n",
       "\n",
       "   Category_BUSINESS  ...  Genres_Video Players & Editors;Creativity  \\\n",
       "0                  0  ...                                          0   \n",
       "1                  0  ...                                          0   \n",
       "2                  0  ...                                          0   \n",
       "4                  0  ...                                          0   \n",
       "5                  0  ...                                          0   \n",
       "\n",
       "   Genres_Video Players & Editors;Music & Video  Genres_Weather  Genres_Word  \\\n",
       "0                                             0               0            0   \n",
       "1                                             0               0            0   \n",
       "2                                             0               0            0   \n",
       "4                                             0               0            0   \n",
       "5                                             0               0            0   \n",
       "\n",
       "   Content Rating_Adults only 18+  Content Rating_Everyone  \\\n",
       "0                               0                        1   \n",
       "1                               0                        1   \n",
       "2                               0                        1   \n",
       "4                               0                        1   \n",
       "5                               0                        1   \n",
       "\n",
       "   Content Rating_Everyone 10+  Content Rating_Mature 17+  \\\n",
       "0                            0                          0   \n",
       "1                            0                          0   \n",
       "2                            0                          0   \n",
       "4                            0                          0   \n",
       "5                            0                          0   \n",
       "\n",
       "   Content Rating_Teen  Content Rating_Unrated  \n",
       "0                    0                       0  \n",
       "1                    0                       0  \n",
       "2                    0                       0  \n",
       "4                    0                       0  \n",
       "5                    0                       0  \n",
       "\n",
       "[5 rows x 159 columns]"
      ]
     },
     "execution_count": 90,
     "metadata": {},
     "output_type": "execute_result"
    }
   ],
   "source": [
    "inp2['Content Rating'] = pd.Categorical(inp2['Content Rating'])\n",
    "\n",
    "x = inp2[['Content Rating']]\n",
    "del inp2['Content Rating']\n",
    "\n",
    "dummies = pd.get_dummies(x, prefix = 'Content Rating')\n",
    "inp2 = pd.concat([inp2,dummies], axis=1)\n",
    "inp2.head()"
   ]
  },
  {
   "cell_type": "code",
   "execution_count": 91,
   "id": "a1fa61a7-a1bd-4a03-951a-e3f442dda3a8",
   "metadata": {
    "ExecuteTime": {
     "end_time": "2022-09-24T16:34:14.200666Z",
     "start_time": "2022-09-24T16:34:14.177704Z"
    }
   },
   "outputs": [
    {
     "data": {
      "text/html": [
       "<div>\n",
       "<style scoped>\n",
       "    .dataframe tbody tr th:only-of-type {\n",
       "        vertical-align: middle;\n",
       "    }\n",
       "\n",
       "    .dataframe tbody tr th {\n",
       "        vertical-align: top;\n",
       "    }\n",
       "\n",
       "    .dataframe thead th {\n",
       "        text-align: right;\n",
       "    }\n",
       "</style>\n",
       "<table border=\"1\" class=\"dataframe\">\n",
       "  <thead>\n",
       "    <tr style=\"text-align: right;\">\n",
       "      <th></th>\n",
       "      <th>Rating</th>\n",
       "      <th>Reviews</th>\n",
       "      <th>Size</th>\n",
       "      <th>Installs</th>\n",
       "      <th>Price</th>\n",
       "      <th>Category_ART_AND_DESIGN</th>\n",
       "      <th>Category_AUTO_AND_VEHICLES</th>\n",
       "      <th>Category_BEAUTY</th>\n",
       "      <th>Category_BOOKS_AND_REFERENCE</th>\n",
       "      <th>Category_BUSINESS</th>\n",
       "      <th>...</th>\n",
       "      <th>Genres_Video Players &amp; Editors;Creativity</th>\n",
       "      <th>Genres_Video Players &amp; Editors;Music &amp; Video</th>\n",
       "      <th>Genres_Weather</th>\n",
       "      <th>Genres_Word</th>\n",
       "      <th>Content Rating_Adults only 18+</th>\n",
       "      <th>Content Rating_Everyone</th>\n",
       "      <th>Content Rating_Everyone 10+</th>\n",
       "      <th>Content Rating_Mature 17+</th>\n",
       "      <th>Content Rating_Teen</th>\n",
       "      <th>Content Rating_Unrated</th>\n",
       "    </tr>\n",
       "  </thead>\n",
       "  <tbody>\n",
       "    <tr>\n",
       "      <th>0</th>\n",
       "      <td>4.1</td>\n",
       "      <td>5.075174</td>\n",
       "      <td>19000.0</td>\n",
       "      <td>9.210440</td>\n",
       "      <td>0.0</td>\n",
       "      <td>1</td>\n",
       "      <td>0</td>\n",
       "      <td>0</td>\n",
       "      <td>0</td>\n",
       "      <td>0</td>\n",
       "      <td>...</td>\n",
       "      <td>0</td>\n",
       "      <td>0</td>\n",
       "      <td>0</td>\n",
       "      <td>0</td>\n",
       "      <td>0</td>\n",
       "      <td>1</td>\n",
       "      <td>0</td>\n",
       "      <td>0</td>\n",
       "      <td>0</td>\n",
       "      <td>0</td>\n",
       "    </tr>\n",
       "    <tr>\n",
       "      <th>1</th>\n",
       "      <td>3.9</td>\n",
       "      <td>6.875232</td>\n",
       "      <td>14000.0</td>\n",
       "      <td>13.122365</td>\n",
       "      <td>0.0</td>\n",
       "      <td>1</td>\n",
       "      <td>0</td>\n",
       "      <td>0</td>\n",
       "      <td>0</td>\n",
       "      <td>0</td>\n",
       "      <td>...</td>\n",
       "      <td>0</td>\n",
       "      <td>0</td>\n",
       "      <td>0</td>\n",
       "      <td>0</td>\n",
       "      <td>0</td>\n",
       "      <td>1</td>\n",
       "      <td>0</td>\n",
       "      <td>0</td>\n",
       "      <td>0</td>\n",
       "      <td>0</td>\n",
       "    </tr>\n",
       "    <tr>\n",
       "      <th>2</th>\n",
       "      <td>4.7</td>\n",
       "      <td>11.379520</td>\n",
       "      <td>8700.0</td>\n",
       "      <td>15.424949</td>\n",
       "      <td>0.0</td>\n",
       "      <td>1</td>\n",
       "      <td>0</td>\n",
       "      <td>0</td>\n",
       "      <td>0</td>\n",
       "      <td>0</td>\n",
       "      <td>...</td>\n",
       "      <td>0</td>\n",
       "      <td>0</td>\n",
       "      <td>0</td>\n",
       "      <td>0</td>\n",
       "      <td>0</td>\n",
       "      <td>1</td>\n",
       "      <td>0</td>\n",
       "      <td>0</td>\n",
       "      <td>0</td>\n",
       "      <td>0</td>\n",
       "    </tr>\n",
       "    <tr>\n",
       "      <th>4</th>\n",
       "      <td>4.3</td>\n",
       "      <td>6.875232</td>\n",
       "      <td>2800.0</td>\n",
       "      <td>11.512935</td>\n",
       "      <td>0.0</td>\n",
       "      <td>1</td>\n",
       "      <td>0</td>\n",
       "      <td>0</td>\n",
       "      <td>0</td>\n",
       "      <td>0</td>\n",
       "      <td>...</td>\n",
       "      <td>0</td>\n",
       "      <td>0</td>\n",
       "      <td>0</td>\n",
       "      <td>0</td>\n",
       "      <td>0</td>\n",
       "      <td>1</td>\n",
       "      <td>0</td>\n",
       "      <td>0</td>\n",
       "      <td>0</td>\n",
       "      <td>0</td>\n",
       "    </tr>\n",
       "    <tr>\n",
       "      <th>5</th>\n",
       "      <td>4.4</td>\n",
       "      <td>5.123964</td>\n",
       "      <td>5600.0</td>\n",
       "      <td>10.819798</td>\n",
       "      <td>0.0</td>\n",
       "      <td>1</td>\n",
       "      <td>0</td>\n",
       "      <td>0</td>\n",
       "      <td>0</td>\n",
       "      <td>0</td>\n",
       "      <td>...</td>\n",
       "      <td>0</td>\n",
       "      <td>0</td>\n",
       "      <td>0</td>\n",
       "      <td>0</td>\n",
       "      <td>0</td>\n",
       "      <td>1</td>\n",
       "      <td>0</td>\n",
       "      <td>0</td>\n",
       "      <td>0</td>\n",
       "      <td>0</td>\n",
       "    </tr>\n",
       "    <tr>\n",
       "      <th>...</th>\n",
       "      <td>...</td>\n",
       "      <td>...</td>\n",
       "      <td>...</td>\n",
       "      <td>...</td>\n",
       "      <td>...</td>\n",
       "      <td>...</td>\n",
       "      <td>...</td>\n",
       "      <td>...</td>\n",
       "      <td>...</td>\n",
       "      <td>...</td>\n",
       "      <td>...</td>\n",
       "      <td>...</td>\n",
       "      <td>...</td>\n",
       "      <td>...</td>\n",
       "      <td>...</td>\n",
       "      <td>...</td>\n",
       "      <td>...</td>\n",
       "      <td>...</td>\n",
       "      <td>...</td>\n",
       "      <td>...</td>\n",
       "      <td>...</td>\n",
       "    </tr>\n",
       "    <tr>\n",
       "      <th>9348</th>\n",
       "      <td>4.0</td>\n",
       "      <td>2.079442</td>\n",
       "      <td>2600.0</td>\n",
       "      <td>6.216606</td>\n",
       "      <td>0.0</td>\n",
       "      <td>0</td>\n",
       "      <td>0</td>\n",
       "      <td>0</td>\n",
       "      <td>0</td>\n",
       "      <td>0</td>\n",
       "      <td>...</td>\n",
       "      <td>0</td>\n",
       "      <td>0</td>\n",
       "      <td>0</td>\n",
       "      <td>0</td>\n",
       "      <td>0</td>\n",
       "      <td>1</td>\n",
       "      <td>0</td>\n",
       "      <td>0</td>\n",
       "      <td>0</td>\n",
       "      <td>0</td>\n",
       "    </tr>\n",
       "    <tr>\n",
       "      <th>9349</th>\n",
       "      <td>4.5</td>\n",
       "      <td>3.663562</td>\n",
       "      <td>53000.0</td>\n",
       "      <td>8.517393</td>\n",
       "      <td>0.0</td>\n",
       "      <td>0</td>\n",
       "      <td>0</td>\n",
       "      <td>0</td>\n",
       "      <td>0</td>\n",
       "      <td>0</td>\n",
       "      <td>...</td>\n",
       "      <td>0</td>\n",
       "      <td>0</td>\n",
       "      <td>0</td>\n",
       "      <td>0</td>\n",
       "      <td>0</td>\n",
       "      <td>1</td>\n",
       "      <td>0</td>\n",
       "      <td>0</td>\n",
       "      <td>0</td>\n",
       "      <td>0</td>\n",
       "    </tr>\n",
       "    <tr>\n",
       "      <th>9350</th>\n",
       "      <td>5.0</td>\n",
       "      <td>1.609438</td>\n",
       "      <td>3600.0</td>\n",
       "      <td>4.615121</td>\n",
       "      <td>0.0</td>\n",
       "      <td>0</td>\n",
       "      <td>0</td>\n",
       "      <td>0</td>\n",
       "      <td>0</td>\n",
       "      <td>0</td>\n",
       "      <td>...</td>\n",
       "      <td>0</td>\n",
       "      <td>0</td>\n",
       "      <td>0</td>\n",
       "      <td>0</td>\n",
       "      <td>0</td>\n",
       "      <td>1</td>\n",
       "      <td>0</td>\n",
       "      <td>0</td>\n",
       "      <td>0</td>\n",
       "      <td>0</td>\n",
       "    </tr>\n",
       "    <tr>\n",
       "      <th>9351</th>\n",
       "      <td>4.5</td>\n",
       "      <td>4.744932</td>\n",
       "      <td>0.0</td>\n",
       "      <td>6.908755</td>\n",
       "      <td>0.0</td>\n",
       "      <td>0</td>\n",
       "      <td>0</td>\n",
       "      <td>0</td>\n",
       "      <td>1</td>\n",
       "      <td>0</td>\n",
       "      <td>...</td>\n",
       "      <td>0</td>\n",
       "      <td>0</td>\n",
       "      <td>0</td>\n",
       "      <td>0</td>\n",
       "      <td>0</td>\n",
       "      <td>0</td>\n",
       "      <td>0</td>\n",
       "      <td>1</td>\n",
       "      <td>0</td>\n",
       "      <td>0</td>\n",
       "    </tr>\n",
       "    <tr>\n",
       "      <th>9352</th>\n",
       "      <td>4.5</td>\n",
       "      <td>12.894981</td>\n",
       "      <td>19000.0</td>\n",
       "      <td>16.118096</td>\n",
       "      <td>0.0</td>\n",
       "      <td>0</td>\n",
       "      <td>0</td>\n",
       "      <td>0</td>\n",
       "      <td>0</td>\n",
       "      <td>0</td>\n",
       "      <td>...</td>\n",
       "      <td>0</td>\n",
       "      <td>0</td>\n",
       "      <td>0</td>\n",
       "      <td>0</td>\n",
       "      <td>0</td>\n",
       "      <td>1</td>\n",
       "      <td>0</td>\n",
       "      <td>0</td>\n",
       "      <td>0</td>\n",
       "      <td>0</td>\n",
       "    </tr>\n",
       "  </tbody>\n",
       "</table>\n",
       "<p>8496 rows × 159 columns</p>\n",
       "</div>"
      ],
      "text/plain": [
       "      Rating    Reviews     Size   Installs  Price  Category_ART_AND_DESIGN  \\\n",
       "0        4.1   5.075174  19000.0   9.210440    0.0                        1   \n",
       "1        3.9   6.875232  14000.0  13.122365    0.0                        1   \n",
       "2        4.7  11.379520   8700.0  15.424949    0.0                        1   \n",
       "4        4.3   6.875232   2800.0  11.512935    0.0                        1   \n",
       "5        4.4   5.123964   5600.0  10.819798    0.0                        1   \n",
       "...      ...        ...      ...        ...    ...                      ...   \n",
       "9348     4.0   2.079442   2600.0   6.216606    0.0                        0   \n",
       "9349     4.5   3.663562  53000.0   8.517393    0.0                        0   \n",
       "9350     5.0   1.609438   3600.0   4.615121    0.0                        0   \n",
       "9351     4.5   4.744932      0.0   6.908755    0.0                        0   \n",
       "9352     4.5  12.894981  19000.0  16.118096    0.0                        0   \n",
       "\n",
       "      Category_AUTO_AND_VEHICLES  Category_BEAUTY  \\\n",
       "0                              0                0   \n",
       "1                              0                0   \n",
       "2                              0                0   \n",
       "4                              0                0   \n",
       "5                              0                0   \n",
       "...                          ...              ...   \n",
       "9348                           0                0   \n",
       "9349                           0                0   \n",
       "9350                           0                0   \n",
       "9351                           0                0   \n",
       "9352                           0                0   \n",
       "\n",
       "      Category_BOOKS_AND_REFERENCE  Category_BUSINESS  ...  \\\n",
       "0                                0                  0  ...   \n",
       "1                                0                  0  ...   \n",
       "2                                0                  0  ...   \n",
       "4                                0                  0  ...   \n",
       "5                                0                  0  ...   \n",
       "...                            ...                ...  ...   \n",
       "9348                             0                  0  ...   \n",
       "9349                             0                  0  ...   \n",
       "9350                             0                  0  ...   \n",
       "9351                             1                  0  ...   \n",
       "9352                             0                  0  ...   \n",
       "\n",
       "      Genres_Video Players & Editors;Creativity  \\\n",
       "0                                             0   \n",
       "1                                             0   \n",
       "2                                             0   \n",
       "4                                             0   \n",
       "5                                             0   \n",
       "...                                         ...   \n",
       "9348                                          0   \n",
       "9349                                          0   \n",
       "9350                                          0   \n",
       "9351                                          0   \n",
       "9352                                          0   \n",
       "\n",
       "      Genres_Video Players & Editors;Music & Video  Genres_Weather  \\\n",
       "0                                                0               0   \n",
       "1                                                0               0   \n",
       "2                                                0               0   \n",
       "4                                                0               0   \n",
       "5                                                0               0   \n",
       "...                                            ...             ...   \n",
       "9348                                             0               0   \n",
       "9349                                             0               0   \n",
       "9350                                             0               0   \n",
       "9351                                             0               0   \n",
       "9352                                             0               0   \n",
       "\n",
       "      Genres_Word  Content Rating_Adults only 18+  Content Rating_Everyone  \\\n",
       "0               0                               0                        1   \n",
       "1               0                               0                        1   \n",
       "2               0                               0                        1   \n",
       "4               0                               0                        1   \n",
       "5               0                               0                        1   \n",
       "...           ...                             ...                      ...   \n",
       "9348            0                               0                        1   \n",
       "9349            0                               0                        1   \n",
       "9350            0                               0                        1   \n",
       "9351            0                               0                        0   \n",
       "9352            0                               0                        1   \n",
       "\n",
       "      Content Rating_Everyone 10+  Content Rating_Mature 17+  \\\n",
       "0                               0                          0   \n",
       "1                               0                          0   \n",
       "2                               0                          0   \n",
       "4                               0                          0   \n",
       "5                               0                          0   \n",
       "...                           ...                        ...   \n",
       "9348                            0                          0   \n",
       "9349                            0                          0   \n",
       "9350                            0                          0   \n",
       "9351                            0                          1   \n",
       "9352                            0                          0   \n",
       "\n",
       "      Content Rating_Teen  Content Rating_Unrated  \n",
       "0                       0                       0  \n",
       "1                       0                       0  \n",
       "2                       0                       0  \n",
       "4                       0                       0  \n",
       "5                       0                       0  \n",
       "...                   ...                     ...  \n",
       "9348                    0                       0  \n",
       "9349                    0                       0  \n",
       "9350                    0                       0  \n",
       "9351                    0                       0  \n",
       "9352                    0                       0  \n",
       "\n",
       "[8496 rows x 159 columns]"
      ]
     },
     "execution_count": 91,
     "metadata": {},
     "output_type": "execute_result"
    }
   ],
   "source": [
    "inp2"
   ]
  },
  {
   "cell_type": "markdown",
   "id": "c01e7f9c-2a39-429a-8d66-3417a870bc9e",
   "metadata": {},
   "source": [
    "### 9. Train test split  and apply 70-30 split. Name the new dataframes df_train and df_test."
   ]
  },
  {
   "cell_type": "code",
   "execution_count": 110,
   "id": "39781c13-fcc9-438f-8db3-b520e9587999",
   "metadata": {
    "ExecuteTime": {
     "end_time": "2022-09-24T16:49:56.765726Z",
     "start_time": "2022-09-24T16:49:56.760325Z"
    }
   },
   "outputs": [],
   "source": [
    "from sklearn.model_selection import train_test_split"
   ]
  },
  {
   "cell_type": "code",
   "execution_count": 111,
   "id": "9ed7083f-278e-420c-9fde-aec2436e9f57",
   "metadata": {
    "ExecuteTime": {
     "end_time": "2022-09-24T16:49:57.127280Z",
     "start_time": "2022-09-24T16:49:57.107347Z"
    }
   },
   "outputs": [
    {
     "data": {
      "text/html": [
       "<div>\n",
       "<style scoped>\n",
       "    .dataframe tbody tr th:only-of-type {\n",
       "        vertical-align: middle;\n",
       "    }\n",
       "\n",
       "    .dataframe tbody tr th {\n",
       "        vertical-align: top;\n",
       "    }\n",
       "\n",
       "    .dataframe thead th {\n",
       "        text-align: right;\n",
       "    }\n",
       "</style>\n",
       "<table border=\"1\" class=\"dataframe\">\n",
       "  <thead>\n",
       "    <tr style=\"text-align: right;\">\n",
       "      <th></th>\n",
       "      <th>Rating</th>\n",
       "      <th>Reviews</th>\n",
       "      <th>Size</th>\n",
       "      <th>Installs</th>\n",
       "      <th>Price</th>\n",
       "      <th>Category_ART_AND_DESIGN</th>\n",
       "      <th>Category_AUTO_AND_VEHICLES</th>\n",
       "      <th>Category_BEAUTY</th>\n",
       "      <th>Category_BOOKS_AND_REFERENCE</th>\n",
       "      <th>Category_BUSINESS</th>\n",
       "      <th>...</th>\n",
       "      <th>Genres_Video Players &amp; Editors;Creativity</th>\n",
       "      <th>Genres_Video Players &amp; Editors;Music &amp; Video</th>\n",
       "      <th>Genres_Weather</th>\n",
       "      <th>Genres_Word</th>\n",
       "      <th>Content Rating_Adults only 18+</th>\n",
       "      <th>Content Rating_Everyone</th>\n",
       "      <th>Content Rating_Everyone 10+</th>\n",
       "      <th>Content Rating_Mature 17+</th>\n",
       "      <th>Content Rating_Teen</th>\n",
       "      <th>Content Rating_Unrated</th>\n",
       "    </tr>\n",
       "  </thead>\n",
       "  <tbody>\n",
       "    <tr>\n",
       "      <th>5801</th>\n",
       "      <td>3.3</td>\n",
       "      <td>2.397895</td>\n",
       "      <td>3300.0</td>\n",
       "      <td>6.908755</td>\n",
       "      <td>0.00</td>\n",
       "      <td>0</td>\n",
       "      <td>0</td>\n",
       "      <td>0</td>\n",
       "      <td>0</td>\n",
       "      <td>0</td>\n",
       "      <td>...</td>\n",
       "      <td>0</td>\n",
       "      <td>0</td>\n",
       "      <td>0</td>\n",
       "      <td>0</td>\n",
       "      <td>0</td>\n",
       "      <td>1</td>\n",
       "      <td>0</td>\n",
       "      <td>0</td>\n",
       "      <td>0</td>\n",
       "      <td>0</td>\n",
       "    </tr>\n",
       "    <tr>\n",
       "      <th>8907</th>\n",
       "      <td>4.2</td>\n",
       "      <td>8.154500</td>\n",
       "      <td>0.0</td>\n",
       "      <td>13.122365</td>\n",
       "      <td>0.00</td>\n",
       "      <td>0</td>\n",
       "      <td>0</td>\n",
       "      <td>0</td>\n",
       "      <td>0</td>\n",
       "      <td>0</td>\n",
       "      <td>...</td>\n",
       "      <td>0</td>\n",
       "      <td>0</td>\n",
       "      <td>0</td>\n",
       "      <td>0</td>\n",
       "      <td>0</td>\n",
       "      <td>1</td>\n",
       "      <td>0</td>\n",
       "      <td>0</td>\n",
       "      <td>0</td>\n",
       "      <td>0</td>\n",
       "    </tr>\n",
       "    <tr>\n",
       "      <th>4816</th>\n",
       "      <td>4.7</td>\n",
       "      <td>6.324359</td>\n",
       "      <td>6700.0</td>\n",
       "      <td>9.210440</td>\n",
       "      <td>0.00</td>\n",
       "      <td>0</td>\n",
       "      <td>0</td>\n",
       "      <td>0</td>\n",
       "      <td>0</td>\n",
       "      <td>0</td>\n",
       "      <td>...</td>\n",
       "      <td>0</td>\n",
       "      <td>0</td>\n",
       "      <td>0</td>\n",
       "      <td>0</td>\n",
       "      <td>0</td>\n",
       "      <td>1</td>\n",
       "      <td>0</td>\n",
       "      <td>0</td>\n",
       "      <td>0</td>\n",
       "      <td>0</td>\n",
       "    </tr>\n",
       "    <tr>\n",
       "      <th>5312</th>\n",
       "      <td>4.5</td>\n",
       "      <td>9.690480</td>\n",
       "      <td>99000.0</td>\n",
       "      <td>11.512935</td>\n",
       "      <td>2.99</td>\n",
       "      <td>0</td>\n",
       "      <td>0</td>\n",
       "      <td>0</td>\n",
       "      <td>0</td>\n",
       "      <td>0</td>\n",
       "      <td>...</td>\n",
       "      <td>0</td>\n",
       "      <td>0</td>\n",
       "      <td>0</td>\n",
       "      <td>0</td>\n",
       "      <td>0</td>\n",
       "      <td>0</td>\n",
       "      <td>0</td>\n",
       "      <td>0</td>\n",
       "      <td>1</td>\n",
       "      <td>0</td>\n",
       "    </tr>\n",
       "    <tr>\n",
       "      <th>9179</th>\n",
       "      <td>1.0</td>\n",
       "      <td>1.386294</td>\n",
       "      <td>41000.0</td>\n",
       "      <td>6.216606</td>\n",
       "      <td>0.00</td>\n",
       "      <td>0</td>\n",
       "      <td>0</td>\n",
       "      <td>0</td>\n",
       "      <td>0</td>\n",
       "      <td>0</td>\n",
       "      <td>...</td>\n",
       "      <td>0</td>\n",
       "      <td>0</td>\n",
       "      <td>0</td>\n",
       "      <td>0</td>\n",
       "      <td>0</td>\n",
       "      <td>1</td>\n",
       "      <td>0</td>\n",
       "      <td>0</td>\n",
       "      <td>0</td>\n",
       "      <td>0</td>\n",
       "    </tr>\n",
       "    <tr>\n",
       "      <th>...</th>\n",
       "      <td>...</td>\n",
       "      <td>...</td>\n",
       "      <td>...</td>\n",
       "      <td>...</td>\n",
       "      <td>...</td>\n",
       "      <td>...</td>\n",
       "      <td>...</td>\n",
       "      <td>...</td>\n",
       "      <td>...</td>\n",
       "      <td>...</td>\n",
       "      <td>...</td>\n",
       "      <td>...</td>\n",
       "      <td>...</td>\n",
       "      <td>...</td>\n",
       "      <td>...</td>\n",
       "      <td>...</td>\n",
       "      <td>...</td>\n",
       "      <td>...</td>\n",
       "      <td>...</td>\n",
       "      <td>...</td>\n",
       "      <td>...</td>\n",
       "    </tr>\n",
       "    <tr>\n",
       "      <th>3273</th>\n",
       "      <td>4.2</td>\n",
       "      <td>11.630531</td>\n",
       "      <td>4300.0</td>\n",
       "      <td>16.118096</td>\n",
       "      <td>0.00</td>\n",
       "      <td>0</td>\n",
       "      <td>0</td>\n",
       "      <td>0</td>\n",
       "      <td>0</td>\n",
       "      <td>0</td>\n",
       "      <td>...</td>\n",
       "      <td>0</td>\n",
       "      <td>0</td>\n",
       "      <td>0</td>\n",
       "      <td>0</td>\n",
       "      <td>0</td>\n",
       "      <td>1</td>\n",
       "      <td>0</td>\n",
       "      <td>0</td>\n",
       "      <td>0</td>\n",
       "      <td>0</td>\n",
       "    </tr>\n",
       "    <tr>\n",
       "      <th>505</th>\n",
       "      <td>3.9</td>\n",
       "      <td>6.748760</td>\n",
       "      <td>27000.0</td>\n",
       "      <td>11.512935</td>\n",
       "      <td>0.00</td>\n",
       "      <td>0</td>\n",
       "      <td>0</td>\n",
       "      <td>0</td>\n",
       "      <td>0</td>\n",
       "      <td>0</td>\n",
       "      <td>...</td>\n",
       "      <td>0</td>\n",
       "      <td>0</td>\n",
       "      <td>0</td>\n",
       "      <td>0</td>\n",
       "      <td>0</td>\n",
       "      <td>0</td>\n",
       "      <td>0</td>\n",
       "      <td>1</td>\n",
       "      <td>0</td>\n",
       "      <td>0</td>\n",
       "    </tr>\n",
       "    <tr>\n",
       "      <th>4874</th>\n",
       "      <td>4.7</td>\n",
       "      <td>4.234107</td>\n",
       "      <td>6500.0</td>\n",
       "      <td>9.210440</td>\n",
       "      <td>0.00</td>\n",
       "      <td>0</td>\n",
       "      <td>0</td>\n",
       "      <td>0</td>\n",
       "      <td>0</td>\n",
       "      <td>0</td>\n",
       "      <td>...</td>\n",
       "      <td>0</td>\n",
       "      <td>0</td>\n",
       "      <td>0</td>\n",
       "      <td>0</td>\n",
       "      <td>0</td>\n",
       "      <td>1</td>\n",
       "      <td>0</td>\n",
       "      <td>0</td>\n",
       "      <td>0</td>\n",
       "      <td>0</td>\n",
       "    </tr>\n",
       "    <tr>\n",
       "      <th>986</th>\n",
       "      <td>3.6</td>\n",
       "      <td>10.864885</td>\n",
       "      <td>42000.0</td>\n",
       "      <td>15.424949</td>\n",
       "      <td>0.00</td>\n",
       "      <td>0</td>\n",
       "      <td>0</td>\n",
       "      <td>0</td>\n",
       "      <td>0</td>\n",
       "      <td>0</td>\n",
       "      <td>...</td>\n",
       "      <td>0</td>\n",
       "      <td>0</td>\n",
       "      <td>0</td>\n",
       "      <td>0</td>\n",
       "      <td>0</td>\n",
       "      <td>1</td>\n",
       "      <td>0</td>\n",
       "      <td>0</td>\n",
       "      <td>0</td>\n",
       "      <td>0</td>\n",
       "    </tr>\n",
       "    <tr>\n",
       "      <th>7978</th>\n",
       "      <td>4.6</td>\n",
       "      <td>2.708050</td>\n",
       "      <td>7200.0</td>\n",
       "      <td>8.517393</td>\n",
       "      <td>0.00</td>\n",
       "      <td>0</td>\n",
       "      <td>0</td>\n",
       "      <td>0</td>\n",
       "      <td>0</td>\n",
       "      <td>0</td>\n",
       "      <td>...</td>\n",
       "      <td>0</td>\n",
       "      <td>0</td>\n",
       "      <td>0</td>\n",
       "      <td>0</td>\n",
       "      <td>0</td>\n",
       "      <td>1</td>\n",
       "      <td>0</td>\n",
       "      <td>0</td>\n",
       "      <td>0</td>\n",
       "      <td>0</td>\n",
       "    </tr>\n",
       "  </tbody>\n",
       "</table>\n",
       "<p>5947 rows × 159 columns</p>\n",
       "</div>"
      ],
      "text/plain": [
       "      Rating    Reviews     Size   Installs  Price  Category_ART_AND_DESIGN  \\\n",
       "5801     3.3   2.397895   3300.0   6.908755   0.00                        0   \n",
       "8907     4.2   8.154500      0.0  13.122365   0.00                        0   \n",
       "4816     4.7   6.324359   6700.0   9.210440   0.00                        0   \n",
       "5312     4.5   9.690480  99000.0  11.512935   2.99                        0   \n",
       "9179     1.0   1.386294  41000.0   6.216606   0.00                        0   \n",
       "...      ...        ...      ...        ...    ...                      ...   \n",
       "3273     4.2  11.630531   4300.0  16.118096   0.00                        0   \n",
       "505      3.9   6.748760  27000.0  11.512935   0.00                        0   \n",
       "4874     4.7   4.234107   6500.0   9.210440   0.00                        0   \n",
       "986      3.6  10.864885  42000.0  15.424949   0.00                        0   \n",
       "7978     4.6   2.708050   7200.0   8.517393   0.00                        0   \n",
       "\n",
       "      Category_AUTO_AND_VEHICLES  Category_BEAUTY  \\\n",
       "5801                           0                0   \n",
       "8907                           0                0   \n",
       "4816                           0                0   \n",
       "5312                           0                0   \n",
       "9179                           0                0   \n",
       "...                          ...              ...   \n",
       "3273                           0                0   \n",
       "505                            0                0   \n",
       "4874                           0                0   \n",
       "986                            0                0   \n",
       "7978                           0                0   \n",
       "\n",
       "      Category_BOOKS_AND_REFERENCE  Category_BUSINESS  ...  \\\n",
       "5801                             0                  0  ...   \n",
       "8907                             0                  0  ...   \n",
       "4816                             0                  0  ...   \n",
       "5312                             0                  0  ...   \n",
       "9179                             0                  0  ...   \n",
       "...                            ...                ...  ...   \n",
       "3273                             0                  0  ...   \n",
       "505                              0                  0  ...   \n",
       "4874                             0                  0  ...   \n",
       "986                              0                  0  ...   \n",
       "7978                             0                  0  ...   \n",
       "\n",
       "      Genres_Video Players & Editors;Creativity  \\\n",
       "5801                                          0   \n",
       "8907                                          0   \n",
       "4816                                          0   \n",
       "5312                                          0   \n",
       "9179                                          0   \n",
       "...                                         ...   \n",
       "3273                                          0   \n",
       "505                                           0   \n",
       "4874                                          0   \n",
       "986                                           0   \n",
       "7978                                          0   \n",
       "\n",
       "      Genres_Video Players & Editors;Music & Video  Genres_Weather  \\\n",
       "5801                                             0               0   \n",
       "8907                                             0               0   \n",
       "4816                                             0               0   \n",
       "5312                                             0               0   \n",
       "9179                                             0               0   \n",
       "...                                            ...             ...   \n",
       "3273                                             0               0   \n",
       "505                                              0               0   \n",
       "4874                                             0               0   \n",
       "986                                              0               0   \n",
       "7978                                             0               0   \n",
       "\n",
       "      Genres_Word  Content Rating_Adults only 18+  Content Rating_Everyone  \\\n",
       "5801            0                               0                        1   \n",
       "8907            0                               0                        1   \n",
       "4816            0                               0                        1   \n",
       "5312            0                               0                        0   \n",
       "9179            0                               0                        1   \n",
       "...           ...                             ...                      ...   \n",
       "3273            0                               0                        1   \n",
       "505             0                               0                        0   \n",
       "4874            0                               0                        1   \n",
       "986             0                               0                        1   \n",
       "7978            0                               0                        1   \n",
       "\n",
       "      Content Rating_Everyone 10+  Content Rating_Mature 17+  \\\n",
       "5801                            0                          0   \n",
       "8907                            0                          0   \n",
       "4816                            0                          0   \n",
       "5312                            0                          0   \n",
       "9179                            0                          0   \n",
       "...                           ...                        ...   \n",
       "3273                            0                          0   \n",
       "505                             0                          1   \n",
       "4874                            0                          0   \n",
       "986                             0                          0   \n",
       "7978                            0                          0   \n",
       "\n",
       "      Content Rating_Teen  Content Rating_Unrated  \n",
       "5801                    0                       0  \n",
       "8907                    0                       0  \n",
       "4816                    0                       0  \n",
       "5312                    1                       0  \n",
       "9179                    0                       0  \n",
       "...                   ...                     ...  \n",
       "3273                    0                       0  \n",
       "505                     0                       0  \n",
       "4874                    0                       0  \n",
       "986                     0                       0  \n",
       "7978                    0                       0  \n",
       "\n",
       "[5947 rows x 159 columns]"
      ]
     },
     "execution_count": 111,
     "metadata": {},
     "output_type": "execute_result"
    }
   ],
   "source": [
    "df_train,df_test=train_test_split(inp2,test_size=0.3)\n",
    "df_train"
   ]
  },
  {
   "cell_type": "markdown",
   "id": "5e25c58b-e8f3-4a3d-a29e-f3c8a67ba272",
   "metadata": {},
   "source": [
    "### 10.Separate the dataframes into X_train, y_train, X_test, and y_test."
   ]
  },
  {
   "cell_type": "code",
   "execution_count": 112,
   "id": "cff0faa9-87cd-42bf-b2dc-9a5b5eb2f4cf",
   "metadata": {
    "ExecuteTime": {
     "end_time": "2022-09-24T16:49:57.714972Z",
     "start_time": "2022-09-24T16:49:57.705863Z"
    }
   },
   "outputs": [],
   "source": [
    "x_train=df_train.drop(\"Rating\",axis=1)\n",
    "y_train=df_train[\"Rating\"]\n",
    "x_test=df_test.drop(\"Rating\",axis=1)\n",
    "y_test=df_test[\"Rating\"]"
   ]
  },
  {
   "cell_type": "markdown",
   "id": "24bb56f6-1385-4759-97e5-438788b97277",
   "metadata": {},
   "source": [
    "### 11. Model building\n",
    "\n",
    "         *Use linear regression as the technique\n",
    "\n",
    "         *Report the R2 on the train set"
   ]
  },
  {
   "cell_type": "code",
   "execution_count": 113,
   "id": "e9e0ce21-e504-4c03-ab0f-a330fde09af6",
   "metadata": {
    "ExecuteTime": {
     "end_time": "2022-09-24T16:49:58.999218Z",
     "start_time": "2022-09-24T16:49:58.924992Z"
    }
   },
   "outputs": [
    {
     "data": {
      "text/html": [
       "<style>#sk-container-id-2 {color: black;background-color: white;}#sk-container-id-2 pre{padding: 0;}#sk-container-id-2 div.sk-toggleable {background-color: white;}#sk-container-id-2 label.sk-toggleable__label {cursor: pointer;display: block;width: 100%;margin-bottom: 0;padding: 0.3em;box-sizing: border-box;text-align: center;}#sk-container-id-2 label.sk-toggleable__label-arrow:before {content: \"▸\";float: left;margin-right: 0.25em;color: #696969;}#sk-container-id-2 label.sk-toggleable__label-arrow:hover:before {color: black;}#sk-container-id-2 div.sk-estimator:hover label.sk-toggleable__label-arrow:before {color: black;}#sk-container-id-2 div.sk-toggleable__content {max-height: 0;max-width: 0;overflow: hidden;text-align: left;background-color: #f0f8ff;}#sk-container-id-2 div.sk-toggleable__content pre {margin: 0.2em;color: black;border-radius: 0.25em;background-color: #f0f8ff;}#sk-container-id-2 input.sk-toggleable__control:checked~div.sk-toggleable__content {max-height: 200px;max-width: 100%;overflow: auto;}#sk-container-id-2 input.sk-toggleable__control:checked~label.sk-toggleable__label-arrow:before {content: \"▾\";}#sk-container-id-2 div.sk-estimator input.sk-toggleable__control:checked~label.sk-toggleable__label {background-color: #d4ebff;}#sk-container-id-2 div.sk-label input.sk-toggleable__control:checked~label.sk-toggleable__label {background-color: #d4ebff;}#sk-container-id-2 input.sk-hidden--visually {border: 0;clip: rect(1px 1px 1px 1px);clip: rect(1px, 1px, 1px, 1px);height: 1px;margin: -1px;overflow: hidden;padding: 0;position: absolute;width: 1px;}#sk-container-id-2 div.sk-estimator {font-family: monospace;background-color: #f0f8ff;border: 1px dotted black;border-radius: 0.25em;box-sizing: border-box;margin-bottom: 0.5em;}#sk-container-id-2 div.sk-estimator:hover {background-color: #d4ebff;}#sk-container-id-2 div.sk-parallel-item::after {content: \"\";width: 100%;border-bottom: 1px solid gray;flex-grow: 1;}#sk-container-id-2 div.sk-label:hover label.sk-toggleable__label {background-color: #d4ebff;}#sk-container-id-2 div.sk-serial::before {content: \"\";position: absolute;border-left: 1px solid gray;box-sizing: border-box;top: 0;bottom: 0;left: 50%;z-index: 0;}#sk-container-id-2 div.sk-serial {display: flex;flex-direction: column;align-items: center;background-color: white;padding-right: 0.2em;padding-left: 0.2em;position: relative;}#sk-container-id-2 div.sk-item {position: relative;z-index: 1;}#sk-container-id-2 div.sk-parallel {display: flex;align-items: stretch;justify-content: center;background-color: white;position: relative;}#sk-container-id-2 div.sk-item::before, #sk-container-id-2 div.sk-parallel-item::before {content: \"\";position: absolute;border-left: 1px solid gray;box-sizing: border-box;top: 0;bottom: 0;left: 50%;z-index: -1;}#sk-container-id-2 div.sk-parallel-item {display: flex;flex-direction: column;z-index: 1;position: relative;background-color: white;}#sk-container-id-2 div.sk-parallel-item:first-child::after {align-self: flex-end;width: 50%;}#sk-container-id-2 div.sk-parallel-item:last-child::after {align-self: flex-start;width: 50%;}#sk-container-id-2 div.sk-parallel-item:only-child::after {width: 0;}#sk-container-id-2 div.sk-dashed-wrapped {border: 1px dashed gray;margin: 0 0.4em 0.5em 0.4em;box-sizing: border-box;padding-bottom: 0.4em;background-color: white;}#sk-container-id-2 div.sk-label label {font-family: monospace;font-weight: bold;display: inline-block;line-height: 1.2em;}#sk-container-id-2 div.sk-label-container {text-align: center;}#sk-container-id-2 div.sk-container {/* jupyter's `normalize.less` sets `[hidden] { display: none; }` but bootstrap.min.css set `[hidden] { display: none !important; }` so we also need the `!important` here to be able to override the default hidden behavior on the sphinx rendered scikit-learn.org. See: https://github.com/scikit-learn/scikit-learn/issues/21755 */display: inline-block !important;position: relative;}#sk-container-id-2 div.sk-text-repr-fallback {display: none;}</style><div id=\"sk-container-id-2\" class=\"sk-top-container\"><div class=\"sk-text-repr-fallback\"><pre>LinearRegression()</pre><b>In a Jupyter environment, please rerun this cell to show the HTML representation or trust the notebook. <br />On GitHub, the HTML representation is unable to render, please try loading this page with nbviewer.org.</b></div><div class=\"sk-container\" hidden><div class=\"sk-item\"><div class=\"sk-estimator sk-toggleable\"><input class=\"sk-toggleable__control sk-hidden--visually\" id=\"sk-estimator-id-2\" type=\"checkbox\" checked><label for=\"sk-estimator-id-2\" class=\"sk-toggleable__label sk-toggleable__label-arrow\">LinearRegression</label><div class=\"sk-toggleable__content\"><pre>LinearRegression()</pre></div></div></div></div></div>"
      ],
      "text/plain": [
       "LinearRegression()"
      ]
     },
     "execution_count": 113,
     "metadata": {},
     "output_type": "execute_result"
    }
   ],
   "source": [
    "from sklearn.linear_model import LinearRegression\n",
    "\n",
    "lm=LinearRegression()\n",
    "lm.fit(x_train,y_train)"
   ]
  },
  {
   "cell_type": "code",
   "execution_count": 122,
   "id": "7a3d4527-45cb-4980-8a7d-f85fc0cb8672",
   "metadata": {
    "ExecuteTime": {
     "end_time": "2022-09-24T16:51:31.795477Z",
     "start_time": "2022-09-24T16:51:31.779271Z"
    }
   },
   "outputs": [],
   "source": [
    "y_predicted=lm.predict(x_train)\n",
    "y_predicted_train=y_predicted"
   ]
  },
  {
   "cell_type": "code",
   "execution_count": 123,
   "id": "18897d77-0050-4212-b48a-90d3192c9df0",
   "metadata": {
    "ExecuteTime": {
     "end_time": "2022-09-24T16:51:39.649176Z",
     "start_time": "2022-09-24T16:51:39.627797Z"
    }
   },
   "outputs": [],
   "source": [
    "y_predicted=lm.predict(x_test)\n",
    "y_predicted_test=y_predicted"
   ]
  },
  {
   "cell_type": "code",
   "execution_count": 124,
   "id": "d789443b",
   "metadata": {
    "ExecuteTime": {
     "end_time": "2022-09-24T16:51:40.094261Z",
     "start_time": "2022-09-24T16:51:40.090880Z"
    }
   },
   "outputs": [
    {
     "data": {
      "text/plain": [
       "((5947, 158), (5947,))"
      ]
     },
     "execution_count": 124,
     "metadata": {},
     "output_type": "execute_result"
    }
   ],
   "source": [
    "x_train.shape, y_predicted_train.shape"
   ]
  },
  {
   "cell_type": "code",
   "execution_count": 125,
   "id": "a5e12d8b-b738-45eb-a740-10e77eec1206",
   "metadata": {
    "ExecuteTime": {
     "end_time": "2022-09-24T16:51:42.052060Z",
     "start_time": "2022-09-24T16:51:42.026506Z"
    }
   },
   "outputs": [
    {
     "data": {
      "text/plain": [
       "1.0"
      ]
     },
     "execution_count": 125,
     "metadata": {},
     "output_type": "execute_result"
    }
   ],
   "source": [
    "lm.score(x_train,y_predicted_train)"
   ]
  },
  {
   "cell_type": "code",
   "execution_count": 126,
   "id": "a0194609-6448-4f31-b687-6d16eb0af4b6",
   "metadata": {
    "ExecuteTime": {
     "end_time": "2022-09-24T16:51:47.707678Z",
     "start_time": "2022-09-24T16:51:47.689337Z"
    }
   },
   "outputs": [
    {
     "data": {
      "text/plain": [
       "1.0"
      ]
     },
     "execution_count": 126,
     "metadata": {},
     "output_type": "execute_result"
    }
   ],
   "source": [
    "lm.score(x_test,y_predicted_test)"
   ]
  },
  {
   "cell_type": "code",
   "execution_count": 101,
   "id": "e5508d3d-2b4a-441a-8df7-36d6670d598a",
   "metadata": {
    "ExecuteTime": {
     "end_time": "2022-09-24T16:34:21.337993Z",
     "start_time": "2022-09-24T16:34:21.334620Z"
    }
   },
   "outputs": [],
   "source": [
    "from sklearn.metrics import mean_squared_error as mse"
   ]
  },
  {
   "cell_type": "code",
   "execution_count": 127,
   "id": "21d8fe52-c3a6-436a-bb20-c11250b8cb02",
   "metadata": {
    "ExecuteTime": {
     "end_time": "2022-09-24T16:52:18.525277Z",
     "start_time": "2022-09-24T16:52:18.495863Z"
    }
   },
   "outputs": [
    {
     "name": "stdout",
     "output_type": "stream",
     "text": [
      "The R2 value of the Training Set is : 0.157\n"
     ]
    }
   ],
   "source": [
    "R2_train = round(lm.score(x_train,y_train),3)\n",
    "print(\"The R2 value of the Training Set is : {}\".format(R2_train))"
   ]
  },
  {
   "cell_type": "markdown",
   "id": "090a5257-8649-41e6-93ef-2939cd0e7fb2",
   "metadata": {},
   "source": [
    "### 12.Make predictions on test set and report R2."
   ]
  },
  {
   "cell_type": "code",
   "execution_count": 128,
   "id": "c0801926-e11f-4364-846d-9fa421767682",
   "metadata": {
    "ExecuteTime": {
     "end_time": "2022-09-24T16:52:22.230787Z",
     "start_time": "2022-09-24T16:52:22.219819Z"
    }
   },
   "outputs": [],
   "source": [
    "y_predicted=lm.predict(x_test)"
   ]
  },
  {
   "cell_type": "code",
   "execution_count": 129,
   "id": "1737ea55-2950-44d1-849a-304f0beac797",
   "metadata": {
    "ExecuteTime": {
     "end_time": "2022-09-24T16:52:24.228666Z",
     "start_time": "2022-09-24T16:52:24.220004Z"
    }
   },
   "outputs": [
    {
     "data": {
      "text/plain": [
       "array([3.96803138, 4.16111413, 4.20792224, ..., 4.29765516, 3.98277289,\n",
       "       3.90669755])"
      ]
     },
     "execution_count": 129,
     "metadata": {},
     "output_type": "execute_result"
    }
   ],
   "source": [
    "y_predicted"
   ]
  },
  {
   "cell_type": "code",
   "execution_count": 131,
   "id": "bae7986c-9200-4f97-8704-1ffa76c73c9f",
   "metadata": {
    "ExecuteTime": {
     "end_time": "2022-09-24T16:52:47.114040Z",
     "start_time": "2022-09-24T16:52:47.094875Z"
    }
   },
   "outputs": [
    {
     "name": "stdout",
     "output_type": "stream",
     "text": [
      "The R2 value of the Testing Set is : 1.0\n"
     ]
    }
   ],
   "source": [
    "R2_test= round(lm.score(x_test,y_predicted),3)\n",
    "print(\"The R2 value of the Testing Set is : {}\".format(R2_test))"
   ]
  },
  {
   "cell_type": "code",
   "execution_count": 132,
   "id": "0d598db5-90d3-407d-9aca-59c52ff9f032",
   "metadata": {
    "ExecuteTime": {
     "end_time": "2022-09-24T16:52:48.198540Z",
     "start_time": "2022-09-24T16:52:48.192046Z"
    }
   },
   "outputs": [
    {
     "data": {
      "text/plain": [
       "'/home/vijendra/project2/notebooks/usa'"
      ]
     },
     "execution_count": 132,
     "metadata": {},
     "output_type": "execute_result"
    }
   ],
   "source": [
    "import os\n",
    "os.getcwd()"
   ]
  },
  {
   "cell_type": "code",
   "execution_count": 133,
   "id": "c062cbc3",
   "metadata": {
    "ExecuteTime": {
     "end_time": "2022-09-24T17:00:51.001167Z",
     "start_time": "2022-09-24T17:00:50.995441Z"
    }
   },
   "outputs": [],
   "source": [
    "import pickle\n",
    "pickle.dump(lm, open('rating_model_prediction.pkl', 'wb'))"
   ]
  },
  {
   "cell_type": "code",
   "execution_count": null,
   "id": "aa0aac21",
   "metadata": {},
   "outputs": [],
   "source": []
  },
  {
   "cell_type": "code",
   "execution_count": 143,
   "id": "2de35aa2",
   "metadata": {
    "ExecuteTime": {
     "end_time": "2022-09-24T17:03:19.813607Z",
     "start_time": "2022-09-24T17:03:19.808554Z"
    }
   },
   "outputs": [],
   "source": [
    "import pickle\n",
    "\n",
    "def price_prediction(features):\n",
    "    \n",
    "    pickled_model = pickle.load(open('rating_model_prediction.pkl', 'rb'))\n",
    "    house_price = str(round(list(pickled_model.predict([features]))[0]))\n",
    "    \n",
    "    return str(\"rating may be \"  + house_price)"
   ]
  },
  {
   "cell_type": "code",
   "execution_count": 154,
   "id": "365ad7ed",
   "metadata": {
    "ExecuteTime": {
     "end_time": "2022-09-24T17:04:21.365458Z",
     "start_time": "2022-09-24T17:04:21.361208Z"
    }
   },
   "outputs": [],
   "source": [
    "import random\n",
    "test_features  = list(x_test.iloc[random.randint(0,300),:])"
   ]
  },
  {
   "cell_type": "code",
   "execution_count": 155,
   "id": "d7a866fc",
   "metadata": {
    "ExecuteTime": {
     "end_time": "2022-09-24T17:04:21.836884Z",
     "start_time": "2022-09-24T17:04:21.830804Z"
    }
   },
   "outputs": [
    {
     "name": "stderr",
     "output_type": "stream",
     "text": [
      "/home/vijendra/project2/project2env/lib/python3.8/site-packages/sklearn/base.py:450: UserWarning: X does not have valid feature names, but LinearRegression was fitted with feature names\n",
      "  warnings.warn(\n"
     ]
    },
    {
     "data": {
      "text/plain": [
       "'rating may be 4'"
      ]
     },
     "execution_count": 155,
     "metadata": {},
     "output_type": "execute_result"
    }
   ],
   "source": [
    "price_prediction(test_features)\n"
   ]
  },
  {
   "cell_type": "code",
   "execution_count": null,
   "id": "368fea6d",
   "metadata": {},
   "outputs": [],
   "source": []
  },
  {
   "cell_type": "code",
   "execution_count": null,
   "id": "93b1a2ed",
   "metadata": {},
   "outputs": [],
   "source": []
  }
 ],
 "metadata": {
  "kernelspec": {
   "display_name": "project2env",
   "language": "python",
   "name": "project2env"
  },
  "language_info": {
   "codemirror_mode": {
    "name": "ipython",
    "version": 3
   },
   "file_extension": ".py",
   "mimetype": "text/x-python",
   "name": "python",
   "nbconvert_exporter": "python",
   "pygments_lexer": "ipython3",
   "version": "3.8.10"
  },
  "varInspector": {
   "cols": {
    "lenName": 16,
    "lenType": 16,
    "lenVar": 40
   },
   "kernels_config": {
    "python": {
     "delete_cmd_postfix": "",
     "delete_cmd_prefix": "del ",
     "library": "var_list.py",
     "varRefreshCmd": "print(var_dic_list())"
    },
    "r": {
     "delete_cmd_postfix": ") ",
     "delete_cmd_prefix": "rm(",
     "library": "var_list.r",
     "varRefreshCmd": "cat(var_dic_list()) "
    }
   },
   "types_to_exclude": [
    "module",
    "function",
    "builtin_function_or_method",
    "instance",
    "_Feature"
   ],
   "window_display": false
  }
 },
 "nbformat": 4,
 "nbformat_minor": 5
}
